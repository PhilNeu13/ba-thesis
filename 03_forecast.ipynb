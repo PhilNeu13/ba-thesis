{
 "cells": [
  {
   "cell_type": "code",
   "execution_count": null,
   "metadata": {},
   "outputs": [],
   "source": [
    "import pandas as pd\n",
    "import warnings\n",
    "warnings.filterwarnings(\"ignore\")\n",
    "import matplotlib.pyplot as plt\n",
    "import seaborn as sns\n",
    "import numpy as np\n",
    "from statsmodels.tsa.statespace.sarimax import SARIMAX\n",
    "from pmdarima import auto_arima\n",
    "from statsmodels.tsa.api import VAR\n",
    "from statsmodels.tsa.arima.model import ARIMA\n",
    "from statsmodels.tsa.stattools import adfuller\n",
    "from statsmodels.graphics.tsaplots import plot_acf, plot_pacf\n",
    "from sklearn.metrics import mean_squared_error, mean_absolute_error, root_mean_squared_error\n",
    "from pygam import GAM, s, LinearGAM\n",
    "import pickle\n",
    "import xgboost as xgb\n",
    "from xgboost import XGBRegressor\n",
    "from prophet import Prophet"
   ]
  },
  {
   "cell_type": "code",
   "execution_count": null,
   "metadata": {},
   "outputs": [],
   "source": [
    "df_train = pd.read_csv(\"../Daten/validation_data.csv\")"
   ]
  },
  {
   "cell_type": "code",
   "execution_count": null,
   "metadata": {},
   "outputs": [],
   "source": [
    "df_train['Date and time'] = pd.to_datetime(df_train['Date and time'], format='mixed', dayfirst=True, errors='coerce')\n",
    "df_train.set_index('Date and time', inplace=True)"
   ]
  },
  {
   "cell_type": "code",
   "execution_count": null,
   "metadata": {},
   "outputs": [],
   "source": [
    "df_val = pd.read_csv(\"../Daten/test_data.csv\")"
   ]
  },
  {
   "cell_type": "code",
   "execution_count": null,
   "metadata": {},
   "outputs": [],
   "source": [
    "df_val['Date and time'] = pd.to_datetime(df_val['Date and time'], format='mixed', dayfirst=True, errors='coerce')\n",
    "df_val.set_index('Date and time', inplace=True)"
   ]
  },
  {
   "attachments": {},
   "cell_type": "markdown",
   "metadata": {},
   "source": [
    "# ARIMA"
   ]
  },
  {
   "cell_type": "code",
   "execution_count": null,
   "metadata": {},
   "outputs": [],
   "source": [
    "auto_arima_model = auto_arima(df_train[\"Power (kW)\"].iloc[-144:], seasonal=False, trace=True, suppress_warnings=True, stepwise=False, m=1)\n",
    "p, d, q = auto_arima_model.order\n",
    "\n",
    "print(auto_arima_model.summary)"
   ]
  },
  {
   "cell_type": "code",
   "execution_count": null,
   "metadata": {},
   "outputs": [],
   "source": [
    "arima_fit = auto_arima_model.fit(df_train[\"Power (kW)\"].iloc[-144:])"
   ]
  },
  {
   "cell_type": "code",
   "execution_count": null,
   "metadata": {},
   "outputs": [],
   "source": [
    "def check_stationarity(series):\n",
    "    result = adfuller(series)\n",
    "    print(f\"p-Wert: {result[1]} (stationär, wenn < 0.05)\")\n",
    "\n",
    "check_stationarity(df_train[\"Power (kW)\"].iloc[-144:])"
   ]
  },
  {
   "cell_type": "code",
   "execution_count": null,
   "metadata": {},
   "outputs": [],
   "source": [
    "arima = ARIMA(df_train[\"Power (kW)\"].iloc[-144:], order=auto_arima_model.order)\n",
    "arima_fit = arima.fit()"
   ]
  },
  {
   "cell_type": "code",
   "execution_count": null,
   "metadata": {},
   "outputs": [],
   "source": [
    "forecasts = arima_fit.get_forecast(steps=144)"
   ]
  },
  {
   "cell_type": "code",
   "execution_count": null,
   "metadata": {},
   "outputs": [],
   "source": [
    "actual_values = df_val[\"Power (kW)\"].iloc[:144]\n",
    "\n",
    "mae = mean_absolute_error(actual_values, forecasts.predicted_mean)\n",
    "rmse = root_mean_squared_error(actual_values, forecasts.predicted_mean)\n",
    "\n",
    "print(\"Vorhersagen:\", forecasts.predicted_mean)\n",
    "print(\"Tatsächliche Werte:\", actual_values.values)\n",
    "print(\"Mean Absolute Error (MAE):\", mae)\n",
    "print(\"Root Mean Squared Error (RMSE):\", rmse)"
   ]
  },
  {
   "cell_type": "code",
   "execution_count": null,
   "metadata": {},
   "outputs": [],
   "source": [
    "horizon = 144\n",
    "\n",
    "plt.figure(figsize=(12, 6))\n",
    "plt.title(\"ARIMA Vorhersage\")\n",
    "plt.plot(df_val.index[:horizon], df_val[\"Power (kW)\"].iloc[:horizon], label=\"Tatsächliche Werte (Validierung)\")\n",
    "plt.plot(df_val.index[:horizon], forecasts.predicted_mean[:horizon], label=\"Vorhersagen\")\n",
    "plt.ylabel(\"Power (kW)\")\n",
    "plt.xlabel(\"Datum\")\n",
    "plt.legend()\n",
    "plt.show()"
   ]
  },
  {
   "cell_type": "code",
   "execution_count": null,
   "metadata": {},
   "outputs": [],
   "source": [
    "forecasts = []\n",
    "\n",
    "# Rollierende Vorhersagen\n",
    "current_train = df_train[\"Power (kW)\"].copy()\n",
    "\n",
    "for i in range(0, 144, 6):\n",
    "    # Modell fitten\n",
    "    model = ARIMA(current_train, order=auto_arima_model.order)\n",
    "    model_fit = model.fit()\n",
    "\n",
    "    # Vorhersage für 6 Schritte\n",
    "    forecast = model_fit.forecast(steps=6)\n",
    "    forecasts.extend(forecast)\n",
    "\n",
    "    # Tatsächliche Werte der nächsten 6 Schritte hinzufügen\n",
    "    actual_values = df_val[\"Power (kW)\"].iloc[i:i + 6]\n",
    "    current_train = pd.concat([current_train, actual_values])  # Aktualisieren\n",
    "# Ergebnisse als DataFrame speichern\n",
    "forecast_results = pd.DataFrame({\n",
    "    'Forecast': forecasts[:len(df_val[\"Power (kW)\"])],\n",
    "    'Actual': df_val[\"Power (kW)\"].iloc[:144].values.flatten()\n",
    "}, index=df_val[\"Power (kW)\"].index[:144])\n",
    "\n",
    "print(forecast_results)"
   ]
  },
  {
   "cell_type": "code",
   "execution_count": null,
   "metadata": {},
   "outputs": [],
   "source": [
    "forecast_results = pd.DataFrame({\n",
    "    'Forecast': forecasts[:len(df_val[\"Power (kW)\"])],\n",
    "    'Actual': df_val[\"Power (kW)\"].iloc[:144].values.flatten()\n",
    "}, index=df_val[\"Power (kW)\"].index[:144])\n",
    "\n",
    "print(forecast_results)"
   ]
  },
  {
   "cell_type": "code",
   "execution_count": null,
   "metadata": {},
   "outputs": [],
   "source": [
    "import pandas as pd\n",
    "import numpy as np\n",
    "\n",
    "# Annahme: forecast_results und df_val sind DataFrames mit den entsprechenden Spalten\n",
    "forecast_values = forecast_results[\"Forecast\"].values\n",
    "actual_values = df_val[\"Power (kW)\"].values\n",
    "\n",
    "# Anzahl der Schritte pro Vorhersage\n",
    "steps_per_forecast = 6\n",
    "\n",
    "# Aufteilen der Vorhersagen und tatsächlichen Werte in 6er-Gruppen\n",
    "forecast_groups = np.split(forecast_values, len(forecast_values) // steps_per_forecast)\n",
    "actual_groups = np.split(actual_values[:len(forecast_values)], len(forecast_values) // steps_per_forecast)\n",
    "\n",
    "# Funktion zur Berechnung der Metriken für jede Gruppe\n",
    "def calculate_metrics(actual, predicted):\n",
    "    rmse = np.sqrt(np.mean((actual - predicted) ** 2))\n",
    "    mad = np.median(np.abs(actual - predicted))\n",
    "    smape = 100 * np.mean(\n",
    "        np.abs(actual - predicted) / ((np.abs(actual) + np.abs(predicted)) / 2)\n",
    "    )\n",
    "    me = np.mean(actual - predicted)\n",
    "    return rmse, mad, smape, me\n",
    "\n",
    "# Metriken für jede Gruppe berechnen\n",
    "metrics = [calculate_metrics(actual, forecast) for actual, forecast in zip(actual_groups, forecast_groups)]\n",
    "\n",
    "# Ergebnisse in ein DataFrame umwandeln\n",
    "metrics_df = pd.DataFrame(metrics, columns=[\"RMSE\", \"MAD\", \"sMAPE (%)\", \"Bias\"])\n",
    "\n",
    "# Durchschnittswerte aller Gruppen berechnen\n",
    "average_metrics = metrics_df.mean()\n",
    "\n",
    "# Ergebnisse ausgeben\n",
    "print(\"Durchschnittliche Metriken über alle Gruppen:\")\n",
    "print(average_metrics)\n"
   ]
  },
  {
   "cell_type": "code",
   "execution_count": null,
   "metadata": {},
   "outputs": [],
   "source": [
    "horizon = 144\n",
    "\n",
    "plt.figure(figsize=(12, 6))\n",
    "plt.title(\"ARIMA Vorhersage\")\n",
    "plt.plot(df_val.index[:horizon], df_val[\"Power (kW)\"].iloc[:horizon], label=\"Tatsächliche Werte (Validierung)\")\n",
    "plt.plot(df_val.index[:horizon], forecast_results[\"Forecast\"], label=\"Vorhersagen\")\n",
    "plt.ylabel(\"Power (kW)\")\n",
    "plt.xlabel(\"Datum\")\n",
    "plt.legend()\n",
    "plt.show()"
   ]
  },
  {
   "cell_type": "code",
   "execution_count": null,
   "metadata": {},
   "outputs": [],
   "source": [
    "arima_forecasts = forecast_results[\"Forecast\"]"
   ]
  },
  {
   "attachments": {},
   "cell_type": "markdown",
   "metadata": {},
   "source": [
    "## SARIMAX Forecast"
   ]
  },
  {
   "cell_type": "code",
   "execution_count": null,
   "metadata": {},
   "outputs": [],
   "source": [
    "auto_arima_model.order"
   ]
  },
  {
   "cell_type": "code",
   "execution_count": null,
   "metadata": {},
   "outputs": [],
   "source": [
    "sarima_modell = SARIMAX(df_train[\"Power (kW)\"].iloc[-144:], order=auto_arima_model.order, seasonal_order=(1,1,1,6))"
   ]
  },
  {
   "cell_type": "code",
   "execution_count": null,
   "metadata": {},
   "outputs": [],
   "source": [
    "fit = sarima_modell.fit()"
   ]
  },
  {
   "cell_type": "code",
   "execution_count": null,
   "metadata": {},
   "outputs": [],
   "source": [
    "forecasts = fit.get_forecast(steps=144)"
   ]
  },
  {
   "cell_type": "code",
   "execution_count": null,
   "metadata": {},
   "outputs": [],
   "source": [
    "forecasts.predicted_mean"
   ]
  },
  {
   "cell_type": "code",
   "execution_count": null,
   "metadata": {},
   "outputs": [],
   "source": [
    "import pandas as pd\n",
    "import numpy as np\n",
    "\n",
    "# Annahme: forecast_results und df_val sind DataFrames mit den entsprechenden Spalten\n",
    "forecast_values = forecasts.predicted_mean\n",
    "actual_values = df_val[\"Power (kW)\"].iloc[:144].values\n",
    "\n",
    "# Anzahl der Schritte pro Vorhersage\n",
    "steps_per_forecast = 6\n",
    "\n",
    "# Aufteilen der Vorhersagen und tatsächlichen Werte in 6er-Gruppen\n",
    "forecast_groups = np.split(forecast_values, len(forecast_values) // steps_per_forecast)\n",
    "actual_groups = np.split(actual_values[:len(forecast_values)], len(forecast_values) // steps_per_forecast)\n",
    "\n",
    "# Funktion zur Berechnung der Metriken für jede Gruppe\n",
    "def calculate_metrics(actual, predicted):\n",
    "    rmse = np.sqrt(np.mean((actual - predicted) ** 2))\n",
    "    mad = np.median(np.abs(actual - predicted))\n",
    "    smape = 100 * np.mean(\n",
    "        np.abs(actual - predicted) / ((np.abs(actual) + np.abs(predicted)) / 2)\n",
    "    )\n",
    "    me = np.mean(actual - predicted)\n",
    "    return rmse, mad, smape, me\n",
    "\n",
    "# Metriken für jede Gruppe berechnen\n",
    "metrics = [calculate_metrics(actual, forecast) for actual, forecast in zip(actual_groups, forecast_groups)]\n",
    "\n",
    "# Ergebnisse in ein DataFrame umwandeln\n",
    "metrics_df = pd.DataFrame(metrics, columns=[\"RMSE\", \"MAD\", \"sMAPE (%)\", \"Bias\"])\n",
    "\n",
    "# Durchschnittswerte aller Gruppen berechnen\n",
    "average_metrics = metrics_df.mean()\n",
    "\n",
    "# Ergebnisse ausgeben\n",
    "print(\"Durchschnittliche Metriken über alle Gruppen:\")\n",
    "print(average_metrics)\n"
   ]
  },
  {
   "cell_type": "code",
   "execution_count": null,
   "metadata": {},
   "outputs": [],
   "source": [
    "actual_values = df_val[\"Power (kW)\"].iloc[:144]\n",
    "\n",
    "mae = mean_absolute_error(actual_values, forecasts.predicted_mean)\n",
    "rmse = root_mean_squared_error(actual_values, forecasts.predicted_mean)\n",
    "\n",
    "print(\"Vorhersagen:\", forecasts.predicted_mean)\n",
    "print(\"Tatsächliche Werte:\", actual_values.values)\n",
    "print(\"Mean Absolute Error (MAE):\", mae)\n",
    "print(\"Root Mean Squared Error (RMSE):\", rmse)"
   ]
  },
  {
   "cell_type": "code",
   "execution_count": null,
   "metadata": {},
   "outputs": [],
   "source": [
    "plt.figure(figsize=(12, 6))\n",
    "plt.title(\"SARIMA Vorhersage\")\n",
    "plt.plot(df_val.index[:144], df_val[\"Power (kW)\"].iloc[:144], label=\"Tatsächliche Werte (Validierung)\")\n",
    "plt.plot(df_val.index[:144], forecasts.predicted_mean[:144], label=\"Vorhersagen\")\n",
    "plt.ylabel(\"Power (kW)\")\n",
    "plt.xlabel(\"Datum\")\n",
    "plt.legend()\n",
    "plt.show()"
   ]
  },
  {
   "attachments": {},
   "cell_type": "markdown",
   "metadata": {},
   "source": [
    "# Prophet"
   ]
  },
  {
   "cell_type": "code",
   "execution_count": null,
   "metadata": {},
   "outputs": [],
   "source": [
    "df_prophet = df_train.reset_index()[[\"Date and time\", \"Power (kW)\"]]\n",
    "df_prophet.columns = [\"ds\", \"y\"]\n",
    "df_prophet_val = df_val.reset_index()[[\"Date and time\", \"Power (kW)\"]]\n",
    "df_prophet_val.columns = [\"ds\", \"y\"]"
   ]
  },
  {
   "cell_type": "code",
   "execution_count": null,
   "metadata": {},
   "outputs": [],
   "source": [
    "df_prophet"
   ]
  },
  {
   "cell_type": "code",
   "execution_count": null,
   "metadata": {},
   "outputs": [],
   "source": [
    "train_size = 144\n",
    "forecast_size = 144"
   ]
  },
  {
   "cell_type": "code",
   "execution_count": null,
   "metadata": {},
   "outputs": [],
   "source": [
    "train_set = df_prophet\n",
    "val_set = df_prophet_val"
   ]
  },
  {
   "cell_type": "code",
   "execution_count": null,
   "metadata": {},
   "outputs": [],
   "source": [
    "from prophet import Prophet\n",
    "\n",
    "prophet = Prophet(\n",
    "    changepoint_prior_scale= 0.01, \n",
    "    seasonality_prior_scale= 0.5,\n",
    "    weekly_seasonality=True,\n",
    "    daily_seasonality=True,\n",
    "    yearly_seasonality=False\n",
    ")"
   ]
  },
  {
   "cell_type": "code",
   "execution_count": null,
   "metadata": {},
   "outputs": [],
   "source": [
    "prophet.fit(train_set)"
   ]
  },
  {
   "cell_type": "code",
   "execution_count": null,
   "metadata": {},
   "outputs": [],
   "source": []
  },
  {
   "cell_type": "code",
   "execution_count": null,
   "metadata": {},
   "outputs": [],
   "source": [
    "future = pd.DataFrame({\"ds\": val_set[\"ds\"].iloc[:144]})"
   ]
  },
  {
   "cell_type": "code",
   "execution_count": null,
   "metadata": {},
   "outputs": [],
   "source": [
    "future"
   ]
  },
  {
   "cell_type": "code",
   "execution_count": null,
   "metadata": {},
   "outputs": [],
   "source": [
    "forecast = prophet.predict(future)"
   ]
  },
  {
   "cell_type": "code",
   "execution_count": null,
   "metadata": {},
   "outputs": [],
   "source": [
    "fig = prophet.plot_components(forecast)"
   ]
  },
  {
   "cell_type": "code",
   "execution_count": null,
   "metadata": {},
   "outputs": [],
   "source": [
    "forecast"
   ]
  },
  {
   "cell_type": "code",
   "execution_count": null,
   "metadata": {},
   "outputs": [],
   "source": [
    "actuals = val_set['y'].iloc[:144]\n",
    "predictions = forecast['yhat'].iloc[:144]\n",
    "\n",
    "prophet_mse = mean_squared_error(actuals, predictions)\n",
    "prophet_mae = mean_absolute_error(actuals, predictions)\n",
    "prophet_rmse = root_mean_squared_error(actuals, predictions)\n",
    "\n",
    "print(f'Mean Squared Error: {prophet_mse}')\n",
    "print(f'Mean Absolute Error: {prophet_mae}')\n",
    "print(f'Root Mean Squared Error: {prophet_rmse}')"
   ]
  },
  {
   "cell_type": "code",
   "execution_count": null,
   "metadata": {},
   "outputs": [],
   "source": [
    "predictions"
   ]
  },
  {
   "cell_type": "code",
   "execution_count": null,
   "metadata": {},
   "outputs": [],
   "source": [
    "plt.figure(figsize=(12, 6))\n",
    "plt.title(label=\"Prophet Vorhersage\")\n",
    "plt.plot(val_set['ds'].iloc[:144], val_set['y'].iloc[:144], label=\"Validierungsdaten\")\n",
    "plt.plot(val_set['ds'].iloc[:144], predictions.iloc[:144], label=\"Vorhersage\")\n",
    "plt.ylabel(\"Power (kW)\")\n",
    "plt.xlabel(\"Time\")\n",
    "plt.legend()\n",
    "plt.show()"
   ]
  },
  {
   "cell_type": "code",
   "execution_count": null,
   "metadata": {},
   "outputs": [],
   "source": [
    "import pandas as pd\n",
    "\n",
    "# Liste für Vorhersagen\n",
    "forecasts = []\n",
    "\n",
    "# Initiale Trainingsdaten\n",
    "current_train = train_set[[\"ds\", \"y\"]].iloc[-144:].copy()\n",
    "\n",
    "for i in range(0, 144, 6):\n",
    "    # Prophet-Modell initialisieren\n",
    "    model = Prophet(\n",
    "        changepoint_prior_scale= 0.01,\n",
    "        seasonality_prior_scale= 0.5,\n",
    "        weekly_seasonality=True,\n",
    "        daily_seasonality=True,\n",
    "        yearly_seasonality=False\n",
    "    )\n",
    "    model.fit(current_train)\n",
    "\n",
    "    # DataFrame für Vorhersagen erstellen\n",
    "    future = pd.DataFrame({\n",
    "        \"ds\": val_set[\"ds\"].iloc[i:i + 6]\n",
    "    })\n",
    "\n",
    "    # Vorhersage für 6 Schritte\n",
    "    forecast = model.predict(future)\n",
    "    forecasts.extend(forecast[\"yhat\"].values)\n",
    "\n",
    "    # Tatsächliche Werte der nächsten 6 Schritte hinzufügen\n",
    "    actual_values = val_set[[\"ds\", \"y\"]].iloc[i:i + 6]\n",
    "    current_train = pd.concat([current_train, actual_values])  # Aktualisieren\n",
    "\n",
    "# Ergebnisse als DataFrame speichern\n",
    "forecast_results = pd.DataFrame({\n",
    "    \"Forecast\": forecasts[:len(val_set[\"y\"])],\n",
    "    \"Actual\": val_set[\"y\"].iloc[:144].values.flatten()\n",
    "}, index=val_set[\"ds\"].iloc[:144])\n",
    "\n",
    "print(forecast_results)"
   ]
  },
  {
   "cell_type": "code",
   "execution_count": null,
   "metadata": {},
   "outputs": [],
   "source": [
    "import pandas as pd\n",
    "import numpy as np\n",
    "\n",
    "# Annahme: forecast_results und df_val sind DataFrames mit den entsprechenden Spalten\n",
    "forecast_values = forecast_results[\"Forecast\"].values\n",
    "actual_values = df_val[\"Power (kW)\"].values\n",
    "\n",
    "# Anzahl der Schritte pro Vorhersage\n",
    "steps_per_forecast = 6\n",
    "\n",
    "# Aufteilen der Vorhersagen und tatsächlichen Werte in 6er-Gruppen\n",
    "forecast_groups = np.split(forecast_values, len(forecast_values) // steps_per_forecast)\n",
    "actual_groups = np.split(actual_values[:len(forecast_values)], len(forecast_values) // steps_per_forecast)\n",
    "\n",
    "# Funktion zur Berechnung der Metriken für jede Gruppe\n",
    "def calculate_metrics(actual, predicted):\n",
    "    rmse = np.sqrt(np.mean((actual - predicted) ** 2))\n",
    "    mad = np.median(np.abs(actual - predicted))\n",
    "    smape = 100 * np.mean(\n",
    "        np.abs(actual - predicted) / ((np.abs(actual) + np.abs(predicted)) / 2)\n",
    "    )\n",
    "    me = np.mean(actual - predicted)\n",
    "    return rmse, mad, smape, me\n",
    "\n",
    "# Metriken für jede Gruppe berechnen\n",
    "metrics = [calculate_metrics(actual, forecast) for actual, forecast in zip(actual_groups, forecast_groups)]\n",
    "\n",
    "# Ergebnisse in ein DataFrame umwandeln\n",
    "metrics_df = pd.DataFrame(metrics, columns=[\"RMSE\", \"MAD\", \"sMAPE (%)\", \"Bias\"])\n",
    "\n",
    "# Durchschnittswerte aller Gruppen berechnen\n",
    "average_metrics = metrics_df.mean()\n",
    "\n",
    "# Ergebnisse ausgeben\n",
    "print(\"Durchschnittliche Metriken über alle Gruppen:\")\n",
    "print(average_metrics)\n"
   ]
  },
  {
   "cell_type": "code",
   "execution_count": null,
   "metadata": {},
   "outputs": [],
   "source": [
    "horizon = 144\n",
    "\n",
    "plt.figure(figsize=(12, 6))\n",
    "plt.title(\"Prophet Vorhersage\")\n",
    "plt.plot(df_val.index[:horizon], df_val[\"Power (kW)\"].iloc[:horizon], label=\"Tatsächliche Werte (Validierung)\")\n",
    "plt.plot(df_val.index[:horizon], forecast_results[\"Forecast\"], label=\"Vorhersagen\")\n",
    "plt.ylabel(\"Power (kW)\")\n",
    "plt.xlabel(\"Datum\")\n",
    "plt.legend()\n",
    "plt.show()"
   ]
  },
  {
   "cell_type": "code",
   "execution_count": null,
   "metadata": {},
   "outputs": [],
   "source": [
    "prophet_forecasts = forecast_results[\"Forecast\"]"
   ]
  },
  {
   "attachments": {},
   "cell_type": "markdown",
   "metadata": {},
   "source": [
    "# ML"
   ]
  },
  {
   "cell_type": "code",
   "execution_count": null,
   "metadata": {},
   "outputs": [],
   "source": [
    "def create_features(df):\n",
    "    df = df.copy()\n",
    "    df[\"hour\"] = df.index.hour\n",
    "    df[\"dayofweek\"] = df.index.dayofweek\n",
    "    df[\"month\"] = df.index.month\n",
    "    df[\"year\"] = df.index.year\n",
    "    df[\"dayofyear\"] = df.index.dayofyear\n",
    "\n",
    "    return df"
   ]
  },
  {
   "cell_type": "code",
   "execution_count": null,
   "metadata": {},
   "outputs": [],
   "source": [
    "def add_lags(df):\n",
    "    # Sicherstellen, dass die Zielspalte existiert\n",
    "    if \"Power (kW)\" not in df.columns:\n",
    "        raise ValueError(\"Die Spalte 'Power (kW)' muss im DataFrame enthalten sein.\")\n",
    "    \n",
    "    # Lag-Features iterativ hinzufügen\n",
    "    for lag_steps in [6, 12, 18]:\n",
    "        lag_column = f\"lag_{lag_steps}\"  # Eindeutiger Name für jede Lag-Spalte\n",
    "        df[lag_column] = df[\"Power (kW)\"].shift(lag_steps)  # Werte verschieben\n",
    "    \n",
    "    return df "
   ]
  },
  {
   "cell_type": "code",
   "execution_count": null,
   "metadata": {},
   "outputs": [],
   "source": [
    "train = create_features(df_train)\n",
    "val = create_features(df_val)\n",
    "\n",
    "trainval = pd.concat([train, val])"
   ]
  },
  {
   "cell_type": "code",
   "execution_count": null,
   "metadata": {},
   "outputs": [],
   "source": [
    "train.columns\n",
    "trainval = add_lags(trainval)"
   ]
  },
  {
   "cell_type": "code",
   "execution_count": null,
   "metadata": {},
   "outputs": [],
   "source": [
    "print(len(train))\n",
    "print(len(val))"
   ]
  },
  {
   "cell_type": "code",
   "execution_count": null,
   "metadata": {},
   "outputs": [],
   "source": [
    "train = trainval[:52704]\n",
    "val = trainval[52704:]\n"
   ]
  },
  {
   "cell_type": "code",
   "execution_count": null,
   "metadata": {},
   "outputs": [],
   "source": [
    "train.drop(columns=['Density adjusted wind speed (m/s)', 'Wind direction (°)',\n",
    "       'Nacelle position (°)', 'Wind speed (m/s)'])\n",
    "val.drop(columns=['Density adjusted wind speed (m/s)', 'Wind direction (°)',\n",
    "       'Nacelle position (°)', 'Wind speed (m/s)'])\n"
   ]
  },
  {
   "cell_type": "code",
   "execution_count": null,
   "metadata": {},
   "outputs": [],
   "source": [
    "FEATURES = ['hour', 'dayofweek', 'month',\n",
    "       'year', 'dayofyear', 'lag_6', 'lag_12', 'lag_18']\n",
    "TARGET = ['Power (kW)']\n"
   ]
  },
  {
   "cell_type": "code",
   "execution_count": null,
   "metadata": {},
   "outputs": [],
   "source": [
    "X_train = train[FEATURES]\n",
    "y_train = train[TARGET]\n",
    "\n",
    "X_val = val[FEATURES]\n",
    "y_val = val[TARGET]\n"
   ]
  },
  {
   "attachments": {},
   "cell_type": "markdown",
   "metadata": {},
   "source": [
    "## XGBoost"
   ]
  },
  {
   "cell_type": "code",
   "execution_count": null,
   "metadata": {},
   "outputs": [],
   "source": [
    "with open('xgb_model.pkl', 'rb') as file:\n",
    "    xgb = pickle.load(file)"
   ]
  },
  {
   "cell_type": "code",
   "execution_count": null,
   "metadata": {},
   "outputs": [],
   "source": [
    "xgb = XGBRegressor(\n",
    "    objective='reg:squarederror',\n",
    "    max_depth=3,\n",
    "    learning_rate=0.05,\n",
    "    n_estimators=100,\n",
    "    gamma=0.5,\n",
    "    min_child_weight=10,\n",
    "    subsample=0.8,\n",
    "    colsample_bytree=0.8,\n",
    "    reg_alpha=46.41588833612773,\n",
    "    reg_lambda=2.154434690031882,\n",
    "    random_state=42\n",
    ")"
   ]
  },
  {
   "cell_type": "code",
   "execution_count": null,
   "metadata": {},
   "outputs": [],
   "source": [
    "xgb_fit = xgb.fit(X_train, y_train,\n",
    "        verbose=True)"
   ]
  },
  {
   "attachments": {},
   "cell_type": "markdown",
   "metadata": {},
   "source": [
    "### Feature Importances"
   ]
  },
  {
   "cell_type": "code",
   "execution_count": null,
   "metadata": {},
   "outputs": [],
   "source": [
    "## Feature Importance\n",
    "fi = pd.DataFrame(data=xgb_fit.feature_importances_, index=xgb_fit.feature_names_in_,columns=['importance'])\n",
    "fi.sort_values('importance').plot(kind='barh', title='Feature Importance')\n",
    "## Forecast on Validationset\n"
   ]
  },
  {
   "cell_type": "code",
   "execution_count": null,
   "metadata": {},
   "outputs": [],
   "source": [
    "\n",
    "val['prediction'] = xgb_fit.predict(X_val)\n",
    "df_val.merge(val[['prediction']], how='left', left_index=True, right_index=True)\n"
   ]
  },
  {
   "cell_type": "code",
   "execution_count": null,
   "metadata": {},
   "outputs": [],
   "source": [
    "import pandas as pd\n",
    "import numpy as np\n",
    "\n",
    "# Annahme: forecast_results und df_val sind DataFrames mit den entsprechenden Spalten\n",
    "forecast_values = val['prediction'].values\n",
    "actual_values = df_val[\"Power (kW)\"].values\n",
    "\n",
    "# Anzahl der Schritte pro Vorhersage\n",
    "steps_per_forecast = 6\n",
    "\n",
    "# Aufteilen der Vorhersagen und tatsächlichen Werte in 6er-Gruppen\n",
    "forecast_groups = np.split(forecast_values, len(forecast_values) // steps_per_forecast)\n",
    "actual_groups = np.split(actual_values[:len(forecast_values)], len(forecast_values) // steps_per_forecast)\n",
    "\n",
    "# Funktion zur Berechnung der Metriken für jede Gruppe\n",
    "def calculate_metrics(actual, predicted):\n",
    "    rmse = np.sqrt(np.mean((actual - predicted) ** 2))\n",
    "    mad = np.median(np.abs(actual - predicted))\n",
    "    smape = 100 * np.mean(\n",
    "        np.abs(actual - predicted) / ((np.abs(actual) + np.abs(predicted)) / 2)\n",
    "    )\n",
    "    me = np.mean(actual - predicted)\n",
    "    return rmse, mad, smape, me\n",
    "\n",
    "# Metriken für jede Gruppe berechnen\n",
    "metrics = [calculate_metrics(actual, forecast) for actual, forecast in zip(actual_groups, forecast_groups)]\n",
    "\n",
    "# Ergebnisse in ein DataFrame umwandeln\n",
    "metrics_df = pd.DataFrame(metrics, columns=[\"RMSE\", \"MAD\", \"sMAPE (%)\", \"Bias\"])\n",
    "\n",
    "# Durchschnittswerte aller Gruppen berechnen\n",
    "average_metrics = metrics_df.mean()\n",
    "\n",
    "# Ergebnisse ausgeben\n",
    "print(\"Durchschnittliche Metriken über alle Gruppen:\")\n",
    "print(average_metrics)\n"
   ]
  },
  {
   "cell_type": "code",
   "execution_count": null,
   "metadata": {},
   "outputs": [],
   "source": [
    "actual_values = df_val[\"Power (kW)\"].iloc[:144]\n",
    "\n",
    "mae = mean_absolute_error(actual_values, val['prediction'].iloc[:144])\n",
    "rmse = root_mean_squared_error(actual_values, val['prediction'].iloc[:144])\n",
    "\n",
    "print(\"Vorhersagen:\", val['prediction'].iloc[:144])\n",
    "print(\"Tatsächliche Werte:\", actual_values.values)\n",
    "print(\"Mean Absolute Error (MAE):\", mae)\n",
    "print(\"Root Mean Squared Error (RMSE):\", rmse)"
   ]
  },
  {
   "cell_type": "code",
   "execution_count": null,
   "metadata": {},
   "outputs": [],
   "source": [
    "horizon = 144\n",
    "\n",
    "plt.figure(figsize=(10, 6))\n",
    "plt.title(\"XGBoost Vorhersage\")\n",
    "plt.plot(df_val.index[:horizon], df_val[\"Power (kW)\"].iloc[:horizon], label=\"Tatsächliche Werte (Validierung)\")\n",
    "plt.plot(df_val.index[:horizon], val['prediction'].iloc[:horizon], label=\"Vorhersagen\")\n",
    "plt.ylabel(\"Power (kW)\")\n",
    "plt.xlabel(\"Datum\")\n",
    "plt.legend()\n",
    "plt.show()"
   ]
  },
  {
   "cell_type": "code",
   "execution_count": null,
   "metadata": {},
   "outputs": [],
   "source": [
    "xgb_forecasts = val['prediction'].iloc[:144]"
   ]
  },
  {
   "attachments": {},
   "cell_type": "markdown",
   "metadata": {},
   "source": [
    "## Random Forest"
   ]
  },
  {
   "cell_type": "code",
   "execution_count": null,
   "metadata": {},
   "outputs": [],
   "source": [
    "from sklearn.ensemble import RandomForestRegressor\n",
    "\n",
    "\n",
    "rf = RandomForestRegressor(\n",
    "    max_depth=10,\n",
    "    max_features='sqrt',\n",
    "    min_samples_leaf=4,\n",
    "    min_samples_split=2,\n",
    "    n_estimators=200,\n",
    "    random_state=42\n",
    ")\n",
    "\n",
    "# Das Modell ist bereit zur Verwendung (z. B. fit() auf Trainingsdaten)"
   ]
  },
  {
   "cell_type": "code",
   "execution_count": null,
   "metadata": {},
   "outputs": [],
   "source": [
    "rf.fit(X_train.iloc[:], y_train.iloc[:])"
   ]
  },
  {
   "cell_type": "code",
   "execution_count": null,
   "metadata": {},
   "outputs": [],
   "source": [
    "print(\"Trainingsdaten:\", X_train.shape)\n",
    "print(\"Validierungsdaten:\", X_val.shape)"
   ]
  },
  {
   "cell_type": "code",
   "execution_count": null,
   "metadata": {},
   "outputs": [],
   "source": [
    "val['prediction'] = rf.predict(X_val)\n",
    "df_val.merge(val[['prediction']], how='left', left_index=True, right_index=True)"
   ]
  },
  {
   "cell_type": "code",
   "execution_count": null,
   "metadata": {},
   "outputs": [],
   "source": [
    "import pandas as pd\n",
    "import numpy as np\n",
    "\n",
    "# Annahme: forecast_results und df_val sind DataFrames mit den entsprechenden Spalten\n",
    "forecast_values = val['prediction'].values\n",
    "actual_values = df_val[\"Power (kW)\"].values\n",
    "\n",
    "# Anzahl der Schritte pro Vorhersage\n",
    "steps_per_forecast = 6\n",
    "\n",
    "# Aufteilen der Vorhersagen und tatsächlichen Werte in 6er-Gruppen\n",
    "forecast_groups = np.split(forecast_values, len(forecast_values) // steps_per_forecast)\n",
    "actual_groups = np.split(actual_values[:len(forecast_values)], len(forecast_values) // steps_per_forecast)\n",
    "\n",
    "# Funktion zur Berechnung der Metriken für jede Gruppe\n",
    "def calculate_metrics(actual, predicted):\n",
    "    rmse = np.sqrt(np.mean((actual - predicted) ** 2))\n",
    "    mad = np.median(np.abs(actual - predicted))\n",
    "    smape = 100 * np.mean(\n",
    "        np.abs(actual - predicted) / ((np.abs(actual) + np.abs(predicted)) / 2)\n",
    "    )\n",
    "    me = np.mean(actual - predicted)\n",
    "    return rmse, mad, smape, me\n",
    "\n",
    "# Metriken für jede Gruppe berechnen\n",
    "metrics = [calculate_metrics(actual, forecast) for actual, forecast in zip(actual_groups, forecast_groups)]\n",
    "\n",
    "# Ergebnisse in ein DataFrame umwandeln\n",
    "metrics_df = pd.DataFrame(metrics, columns=[\"RMSE\", \"MAD\", \"sMAPE (%)\", \"Bias\"])\n",
    "\n",
    "# Durchschnittswerte aller Gruppen berechnen\n",
    "average_metrics = metrics_df.mean()\n",
    "\n",
    "# Ergebnisse ausgeben\n",
    "print(\"Durchschnittliche Metriken über alle Gruppen:\")\n",
    "print(average_metrics)\n"
   ]
  },
  {
   "cell_type": "code",
   "execution_count": null,
   "metadata": {},
   "outputs": [],
   "source": [
    "\n",
    "rmse = np.sqrt(np.mean((actual_values - val['prediction']) ** 2))\n",
    "\n",
    "# Berechnung von MAD\n",
    "mad = np.median(np.abs(actual_values - val['prediction']))\n",
    "\n",
    "# Berechnung von sMAPE\n",
    "smape = 100 * np.mean(\n",
    "    np.abs(actual_values - val['prediction']) / ((np.abs(actual_values) + np.abs(val['prediction'])) / 2)\n",
    ")\n",
    "me = np.mean(actual_values - val['prediction'])\n",
    "\n",
    "# Ergebnisse ausgeben\n",
    "print(\"RMSE:\", rmse)\n",
    "print(\"MAD:\", mad)\n",
    "print(\"sMAPE:\", smape, \"%\")\n",
    "print(\"ME:\", me)"
   ]
  },
  {
   "cell_type": "code",
   "execution_count": null,
   "metadata": {},
   "outputs": [],
   "source": [
    "horizon = 144\n",
    "\n",
    "plt.figure(figsize=(10, 6))\n",
    "plt.title(\"Random Forest Vorhersage\")\n",
    "plt.plot(df_val.index[:horizon], df_val[\"Power (kW)\"].iloc[:horizon], label=\"Tatsächliche Werte (Validierung)\")\n",
    "plt.plot(df_val.index[:horizon], val['prediction'].iloc[:horizon], label=\"Vorhersagen\")\n",
    "plt.ylabel(\"Power (kW)\")\n",
    "plt.xlabel(\"Datum\")\n",
    "plt.legend()\n",
    "plt.show()"
   ]
  },
  {
   "cell_type": "code",
   "execution_count": null,
   "metadata": {},
   "outputs": [],
   "source": [
    "rf_forecasts = val['prediction'].iloc[:144]"
   ]
  },
  {
   "cell_type": "code",
   "execution_count": null,
   "metadata": {},
   "outputs": [],
   "source": [
    "print(df_val.index[start:horizon][xticks_positions])  # Prüfen, ob die Labels existieren"
   ]
  },
  {
   "cell_type": "code",
   "execution_count": null,
   "metadata": {},
   "outputs": [],
   "source": [
    "horizon = 144\n",
    "start = 0\n",
    "\n",
    "xticks_positions = range(0, horizon, horizon // 10)  # Jeder zweite Wert oder nach Bedarf\n",
    "print(xticks_positions)\n",
    "\n",
    "\n",
    "plt.figure(figsize=(10, 6))\n",
    "plt.title(\"Forecasts aller Modelle im Vergleich\")\n",
    "plt.plot(df_val.index[start:horizon], df_val[\"Power (kW)\"].iloc[:144], label=\"Tatsächliche Werte (Testdaten)\", linewidth=2)\n",
    "plt.plot(df_val.index[start:horizon], prophet_forecasts[start:horizon], label=\"Prophet\", linewidth=2, alpha=0.8)\n",
    "plt.plot(df_val.index[start:horizon], rf_forecasts[start:horizon], label=\"Random Forest\", linewidth=2, alpha=0.8)\n",
    "plt.plot(df_val.index[start:horizon], xgb_forecasts[start:horizon], label=\"XGBoost\", linewidth=2, alpha=0.8)\n",
    "plt.plot(df_val.index[start:horizon], arima_forecasts[start:horizon], label=\"ARIMA\", linewidth=2, alpha=0.8)\n",
    "plt.ylabel(\"Leisung (kW)\")\n",
    "plt.xlabel(\"Datum\")\n",
    "#plt.xticks(xticks_positions)  # xticks hinzufügen\n",
    "plt.rcParams.update({'font.size': 14})\n",
    "plt.grid(True)\n",
    "plt.tight_layout()\n",
    "plt.legend()\n",
    "plt.show()"
   ]
  },
  {
   "cell_type": "code",
   "execution_count": null,
   "metadata": {},
   "outputs": [],
   "source": [
    "horizon = 144\n",
    "start = 0\n",
    "\n",
    "xticks_positions = range(0, horizon, horizon // 10)  # Jeder zweite Wert oder nach Bedarf\n",
    "print(xticks_positions)\n",
    "\n",
    "\n",
    "plt.figure(figsize=(10, 6))\n",
    "plt.title(\"Forecasts von Random Forest und XGBoost im Vergleich\")\n",
    "plt.plot(df_val.index[start:horizon], df_val[\"Power (kW)\"].iloc[:144], label=\"Tatsächliche Werte (Testdaten)\",)\n",
    "plt.plot(df_val.index[start:horizon], rf_forecasts[start:horizon], label=\"Random Forest\",)\n",
    "plt.plot(df_val.index[start:horizon], xgb_forecasts[start:horizon], label=\"XGBoost\",)\n",
    "plt.ylabel(\"Leisung (kW)\")\n",
    "plt.xlabel(\"Datum\")\n",
    "#plt.xticks(xticks_positions)  # xticks hinzufügen\n",
    "plt.rcParams.update({'font.size': 14})\n",
    "plt.grid(True)\n",
    "plt.tight_layout()\n",
    "plt.legend()\n",
    "plt.show()"
   ]
  },
  {
   "cell_type": "code",
   "execution_count": null,
   "metadata": {},
   "outputs": [],
   "source": []
  }
 ],
 "metadata": {
  "kernelspec": {
   "display_name": "base",
   "language": "python",
   "name": "python3"
  },
  "language_info": {
   "codemirror_mode": {
    "name": "ipython",
    "version": 3
   },
   "file_extension": ".py",
   "mimetype": "text/x-python",
   "name": "python",
   "nbconvert_exporter": "python",
   "pygments_lexer": "ipython3",
   "version": "3.10.14"
  },
  "vscode": {
   "interpreter": {
    "hash": "e5122f662af96700b813aab71a6c4b334cdb0adc1a868df687bb6098cf2600c5"
   }
  }
 },
 "nbformat": 4,
 "nbformat_minor": 2
}
