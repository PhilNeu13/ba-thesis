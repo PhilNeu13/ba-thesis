{
 "cells": [
  {
   "cell_type": "code",
   "execution_count": null,
   "metadata": {},
   "outputs": [],
   "source": [
    "import pandas as pd\n",
    "import warnings\n",
    "warnings.filterwarnings(\"ignore\")\n",
    "import matplotlib.pyplot as plt"
   ]
  },
  {
   "attachments": {},
   "cell_type": "markdown",
   "metadata": {},
   "source": [
    "## Training data"
   ]
  },
  {
   "cell_type": "code",
   "execution_count": null,
   "metadata": {},
   "outputs": [],
   "source": [
    "df_2016 = pd.read_csv(\"../Daten/Penmanshiel_SCADA_2016/penmanshiel_turbine1.csv\")\n",
    "df_2017 = pd.read_csv(\"../Daten/Penmanshiel_SCADA_2017/penmanshiel_turbine1.csv\")\n",
    "df_2018 = pd.read_csv(\"../Daten/Penmanshiel_SCADA_2018/penmanshiel_turbine1.csv\")\n",
    "df_2019 = pd.read_csv(\"../Daten/Penmanshiel_SCADA_2019/penmanshiel_turbine1.csv\")"
   ]
  },
  {
   "cell_type": "code",
   "execution_count": null,
   "metadata": {},
   "outputs": [],
   "source": [
    "dfs = [df_2016, df_2017, df_2018, df_2019]\n",
    "\n",
    "df_combined = pd.concat(dfs, ignore_index=True)"
   ]
  },
  {
   "cell_type": "code",
   "execution_count": null,
   "metadata": {},
   "outputs": [],
   "source": [
    "cutoff_date = \"2019-06-30 23:50:00\"\n",
    "df_train = df_combined[df_combined[\"Date and time\"] <= cutoff_date]"
   ]
  },
  {
   "cell_type": "code",
   "execution_count": null,
   "metadata": {},
   "outputs": [],
   "source": [
    "df_train[\"Wind speed, Maximum (m/s)\"]"
   ]
  },
  {
   "cell_type": "code",
   "execution_count": null,
   "metadata": {},
   "outputs": [],
   "source": [
    "df_train['Date and time'] = pd.to_datetime(df_train['Date and time'], format='mixed', dayfirst=True, errors='coerce')"
   ]
  },
  {
   "cell_type": "code",
   "execution_count": null,
   "metadata": {},
   "outputs": [],
   "source": [
    "import matplotlib.pyplot as plt\n",
    "\n",
    "df_train['Month'] = df_train['Date and time'].dt.month\n",
    "\n",
    "df_train.boxplot(column='Wind speed (m/s)', by='Month', grid=False, showfliers=True, figsize=(10,6))\n",
    "\n",
    "plt.title(\"Monatliche Verteilung der Windgeschwindigkeit\")\n",
    "plt.suptitle(\"\")\n",
    "plt.xlabel(\"Monat\")\n",
    "plt.ylabel(\"Windgeschwindigkeit (m/s)\")\n",
    "plt.xticks(rotation=0)\n",
    "plt.rcParams.update({'font.size': 14})\n",
    "plt.show()"
   ]
  },
  {
   "cell_type": "code",
   "execution_count": null,
   "metadata": {},
   "outputs": [],
   "source": [
    "import matplotlib.pyplot as plt\n",
    "\n",
    "df_train['Hour'] = df_train['Date and time'].dt.hour\n",
    "\n",
    "df_train.boxplot(column='Wind speed (m/s)', by='Hour', grid=False, showfliers=True, figsize=(10,6))\n",
    "\n",
    "plt.title(\"Stündliche Verteilung der Windgeschwindigkeit\")\n",
    "plt.suptitle(\"\")\n",
    "plt.xlabel(\"Stunde\")\n",
    "plt.ylabel(\"Windgeschwindigkeit (m/s)\")\n",
    "plt.xticks(rotation=0)\n",
    "plt.rcParams.update({'font.size': 14})\n",
    "plt.show()"
   ]
  },
  {
   "cell_type": "code",
   "execution_count": null,
   "metadata": {},
   "outputs": [],
   "source": [
    "import numpy as np\n",
    "import matplotlib.pyplot as plt\n",
    "\n",
    "filtered_df = df_train['Wind speed (m/s)']\n",
    "\n",
    "bin_edges = np.arange(0, filtered_df.max() + 1, 1)\n",
    "\n",
    "plt.figure(figsize=(10, 6))\n",
    "plt.hist(filtered_df, bins=bin_edges, density=False, alpha=0.6, color='skyblue', edgecolor='black')\n",
    "plt.title(\"Histogram der Windgeschwindigkeiten (Penmanshiel)\")\n",
    "plt.xlabel(\"Windgeschwindidkeit (m/s)\")\n",
    "plt.ylabel(\"Frequenz\")\n",
    "plt.grid(True)\n",
    "\n",
    "plt.rcParams.update({'font.size': 19})\n",
    "plt.show()"
   ]
  },
  {
   "cell_type": "code",
   "execution_count": null,
   "metadata": {},
   "outputs": [],
   "source": [
    "plt.figure(figsize=(10, 6))\n",
    "plt.scatter(df_train[\"Density adjusted wind speed (m/s)\"], df_train['Power (kW)'])\n",
    "plt.xlabel('Wind Speed (m/s)')\n",
    "plt.ylabel('Power (kW)')\n",
    "plt.title('Power Kurve vor Bereinigung der Daten')\n",
    "plt.grid(True)\n",
    "\n",
    "plt.rcParams.update({'font.size': 18})\n",
    "plt.show()"
   ]
  },
  {
   "cell_type": "code",
   "execution_count": null,
   "metadata": {},
   "outputs": [],
   "source": [
    "\n",
    "numerische_spalten = df_train.select_dtypes(include=['float64', 'int64'])\n",
    "\n",
    "korrelationen = numerische_spalten.corr()['Power (kW)']\n",
    "korrelationen = korrelationen.dropna()\n"
   ]
  },
  {
   "cell_type": "code",
   "execution_count": null,
   "metadata": {},
   "outputs": [],
   "source": [
    "korrelationen = korrelationen.sort_values()\n",
    "print(korrelationen)"
   ]
  },
  {
   "cell_type": "code",
   "execution_count": null,
   "metadata": {},
   "outputs": [],
   "source": [
    "threshold = 0\n",
    "\n",
    "condition = (df_train[\"Lost Production Total (kWh)\"] > threshold)\n",
    "\n",
    "\n",
    "df_train = df_train[~condition]\n",
    "\n",
    "print(df_train)"
   ]
  },
  {
   "cell_type": "code",
   "execution_count": null,
   "metadata": {},
   "outputs": [],
   "source": [
    "\n",
    "threshold = 0\n",
    "\n",
    "condition = ((df_train[\"Lost Production Total (kWh)\"] >= threshold) | (df_train[\"Lost Production Total (kWh)\"] <= -20)) & (df_train[\"Wind speed (m/s)\"] >= 2.5)\n",
    "\n",
    "df_train = df_train[~condition]"
   ]
  },
  {
   "cell_type": "code",
   "execution_count": null,
   "metadata": {},
   "outputs": [],
   "source": [
    "\n",
    "condition = (df_train[\"Yaw bearing angle (°)\"] != df_train[\"Wind direction (°)\"]) & (df_train[\"Wind speed (m/s)\"] > 13) & (df_train[\"Power (kW)\"] < 1800)\n",
    "cond = df_train[condition]\n",
    "print(cond[[\"Power (kW)\", \"Wind speed (m/s)\"]])\n",
    "\n",
    "df_train = df_train[~condition]"
   ]
  },
  {
   "cell_type": "code",
   "execution_count": null,
   "metadata": {},
   "outputs": [],
   "source": [
    "plt.figure(figsize=(10, 6))\n",
    "plt.scatter(df_train[\"Density adjusted wind speed (m/s)\"], df_train['Power (kW)'])\n",
    "plt.xlabel('Wind Speed (m/s)')\n",
    "plt.ylabel('Power (kW)')\n",
    "plt.title('Power Kurve nach Bereinigung der Daten')\n",
    "plt.grid(True)\n",
    "\n",
    "plt.rcParams.update({'font.size': 18})\n",
    "plt.show()"
   ]
  },
  {
   "cell_type": "code",
   "execution_count": null,
   "metadata": {},
   "outputs": [],
   "source": [
    "relevant_columns = [\n",
    "    \"Date and time\",\n",
    "    \"Density adjusted wind speed (m/s)\", \"Wind direction (°)\", \"Nacelle position (°)\",\n",
    "    \"Power (kW)\", \"Wind speed (m/s)\"\n",
    "]\n",
    "df_train = df_train[relevant_columns]"
   ]
  },
  {
   "cell_type": "code",
   "execution_count": null,
   "metadata": {},
   "outputs": [],
   "source": [
    "df_train.describe()"
   ]
  },
  {
   "cell_type": "code",
   "execution_count": null,
   "metadata": {},
   "outputs": [],
   "source": [
    "df_train[\"Power (kW)\"][df_train[\"Power (kW)\"] < 0] = 0"
   ]
  },
  {
   "cell_type": "code",
   "execution_count": null,
   "metadata": {},
   "outputs": [],
   "source": [
    "df_train.describe()"
   ]
  },
  {
   "cell_type": "code",
   "execution_count": null,
   "metadata": {},
   "outputs": [],
   "source": [
    "df_train.isna().sum()"
   ]
  },
  {
   "cell_type": "code",
   "execution_count": null,
   "metadata": {},
   "outputs": [],
   "source": [
    "df_numeric = df_train.select_dtypes(include=[\"float64\", \"int64\"])\n",
    "df_train[df_numeric.columns] = df_numeric.interpolate().fillna(method=\"bfill\").fillna(method=\"ffill\")"
   ]
  },
  {
   "cell_type": "code",
   "execution_count": null,
   "metadata": {},
   "outputs": [],
   "source": [
    "df_train.isna().sum()"
   ]
  },
  {
   "cell_type": "code",
   "execution_count": null,
   "metadata": {},
   "outputs": [],
   "source": [
    "output_file = \"../Daten/train_data_penman.csv\"\n",
    "df_train.to_csv(output_file, index=False)\n",
    "\n",
    "print(f\"Gefilterte Daten wurden als '{output_file}' gespeichert.\")"
   ]
  },
  {
   "cell_type": "code",
   "execution_count": null,
   "metadata": {},
   "outputs": [],
   "source": [
    "COLUMNS = [\n",
    "    \"Density adjusted wind speed (m/s)\", \"Wind direction (°)\", \"Nacelle position (°)\",\n",
    "    \"Power (kW)\", \"Wind speed (m/s)\"\n",
    "]"
   ]
  },
  {
   "attachments": {},
   "cell_type": "markdown",
   "metadata": {},
   "source": [
    "## Validation data"
   ]
  },
  {
   "cell_type": "code",
   "execution_count": null,
   "metadata": {},
   "outputs": [],
   "source": [
    "df_2020 = pd.read_csv(\"../Daten/Penmanshiel_SCADA_2020/penmanshiel_turbine1.csv\")"
   ]
  },
  {
   "cell_type": "code",
   "execution_count": null,
   "metadata": {},
   "outputs": [],
   "source": [
    "dfs = [df_2019, df_2020]\n",
    "\n",
    "df_combined_val = pd.concat(dfs, ignore_index=True)"
   ]
  },
  {
   "cell_type": "code",
   "execution_count": null,
   "metadata": {},
   "outputs": [],
   "source": [
    "relevant_columns = [\n",
    "    \"Date and time\",\n",
    "    \"Density adjusted wind speed (m/s)\", \"Wind direction (°)\", \"Nacelle position (°)\",\n",
    "    \"Power (kW)\", \"Wind speed (m/s)\"\n",
    "]\n",
    "df_combined_val = df_combined_val[relevant_columns]"
   ]
  },
  {
   "cell_type": "code",
   "execution_count": null,
   "metadata": {},
   "outputs": [],
   "source": [
    "cutoff_date = \"2020-06-30 23:50:00\"\n",
    "start_date = \"2019-07-01 00:00:00\"\n",
    "df_val = df_combined_val[df_combined_val[\"Date and time\"] >= start_date]\n",
    "\n",
    "df_val = df_val[df_val[\"Date and time\"] <= cutoff_date]"
   ]
  },
  {
   "cell_type": "code",
   "execution_count": null,
   "metadata": {},
   "outputs": [],
   "source": [
    "df_val.last"
   ]
  },
  {
   "cell_type": "code",
   "execution_count": null,
   "metadata": {},
   "outputs": [],
   "source": [
    "df_val[\"Power (kW)\"][df_val[\"Power (kW)\"] < 0] = 0"
   ]
  },
  {
   "cell_type": "code",
   "execution_count": null,
   "metadata": {},
   "outputs": [],
   "source": [
    "df_numeric = df_val.select_dtypes(include=[\"float64\", \"int64\"])\n",
    "df_val[df_numeric.columns] = df_numeric.interpolate().fillna(method=\"bfill\").fillna(method=\"ffill\")"
   ]
  },
  {
   "cell_type": "code",
   "execution_count": null,
   "metadata": {},
   "outputs": [],
   "source": [
    "output_file = \"../Daten/validation_data_penman.csv\"\n",
    "df_val.to_csv(output_file, index=False)\n",
    "\n",
    "print(f\"Gefilterte Daten wurden als '{output_file}' gespeichert.\")"
   ]
  },
  {
   "attachments": {},
   "cell_type": "markdown",
   "metadata": {},
   "source": [
    "## Test data"
   ]
  },
  {
   "cell_type": "code",
   "execution_count": null,
   "metadata": {},
   "outputs": [],
   "source": [
    "df_2021 = pd.read_csv(\"../Daten/penmanshield_scada_2021/penmanshield_turbine1.csv\")"
   ]
  },
  {
   "cell_type": "code",
   "execution_count": null,
   "metadata": {},
   "outputs": [],
   "source": [
    "dfs = [df_2020, df_2021]\n",
    "\n",
    "df_combined_test = pd.concat(dfs, ignore_index=True)"
   ]
  },
  {
   "cell_type": "code",
   "execution_count": null,
   "metadata": {},
   "outputs": [],
   "source": [
    "plt.figure(figsize=(14, 6))\n",
    "plt.scatter(df_combined_test['Date and time'].iloc[:10000], df_combined_test[\"Lost Production Total (kWh)\"].iloc[:10000])\n",
    "plt.xlabel('Date')\n",
    "plt.ylabel('Lost Production (kWh)')\n",
    "plt.title('Production Loss')\n",
    "plt.grid(True)\n",
    "plt.show()"
   ]
  },
  {
   "cell_type": "code",
   "execution_count": null,
   "metadata": {},
   "outputs": [],
   "source": [
    "relevant_columns = [\n",
    "    \"Date and time\",\n",
    "    \"Density adjusted wind speed (m/s)\", \"Wind direction (°)\", \"Nacelle position (°)\",\n",
    "    \"Power (kW)\", \"Wind speed (m/s)\"\n",
    "]\n",
    "df_combined_val = df_combined_val[relevant_columns]"
   ]
  },
  {
   "cell_type": "code",
   "execution_count": null,
   "metadata": {},
   "outputs": [],
   "source": [
    "start_date = \"2020-07-01 00:00:00\"\n",
    "df_test = df_combined_val[df_combined_val[\"Date and time\"] >= start_date]"
   ]
  },
  {
   "cell_type": "code",
   "execution_count": null,
   "metadata": {},
   "outputs": [],
   "source": [
    "df_test.last"
   ]
  },
  {
   "cell_type": "code",
   "execution_count": null,
   "metadata": {},
   "outputs": [],
   "source": [
    "df_test[\"Power (kW)\"][df_test[\"Power (kW)\"] < 0] = 0"
   ]
  },
  {
   "cell_type": "code",
   "execution_count": null,
   "metadata": {},
   "outputs": [],
   "source": [
    "df_test = df_test.loc[:, ~df_test.columns.duplicated()]"
   ]
  },
  {
   "cell_type": "code",
   "execution_count": null,
   "metadata": {},
   "outputs": [],
   "source": [
    "df_numeric = df_test.select_dtypes(include=[\"float64\", \"int64\"])\n",
    "df_test[df_numeric.columns] = df_numeric.interpolate().fillna(method=\"bfill\").fillna(method=\"ffill\")"
   ]
  },
  {
   "cell_type": "code",
   "execution_count": null,
   "metadata": {},
   "outputs": [],
   "source": [
    "output_file = \"../Daten/test_data_penman.csv\"\n",
    "df_test.to_csv(output_file, index=False)\n",
    "\n",
    "print(f\"Gefilterte Daten wurden als '{output_file}' gespeichert.\")"
   ]
  },
  {
   "cell_type": "code",
   "execution_count": null,
   "metadata": {},
   "outputs": [],
   "source": []
  }
 ],
 "metadata": {
  "kernelspec": {
   "display_name": "base",
   "language": "python",
   "name": "python3"
  },
  "language_info": {
   "codemirror_mode": {
    "name": "ipython",
    "version": 3
   },
   "file_extension": ".py",
   "mimetype": "text/x-python",
   "name": "python",
   "nbconvert_exporter": "python",
   "pygments_lexer": "ipython3",
   "version": "3.10.14 | packaged by conda-forge | (main, Mar 20 2024, 12:51:49) [Clang 16.0.6 ]"
  },
  "vscode": {
   "interpreter": {
    "hash": "e5122f662af96700b813aab71a6c4b334cdb0adc1a868df687bb6098cf2600c5"
   }
  }
 },
 "nbformat": 4,
 "nbformat_minor": 2
}
