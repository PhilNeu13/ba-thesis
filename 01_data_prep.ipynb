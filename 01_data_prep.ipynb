{
 "cells": [
  {
   "cell_type": "code",
   "execution_count": null,
   "metadata": {},
   "outputs": [],
   "source": [
    "import pandas as pd\n",
    "import warnings\n",
    "warnings.filterwarnings(\"ignore\")\n",
    "import matplotlib.pyplot as plt\n",
    "import numpy as np"
   ]
  },
  {
   "attachments": {},
   "cell_type": "markdown",
   "metadata": {},
   "source": [
    "## Training data"
   ]
  },
  {
   "cell_type": "code",
   "execution_count": null,
   "metadata": {},
   "outputs": [],
   "source": [
    "df_2016 = pd.read_csv(\"../Daten/kelmarsh_scada_2016/kelmarsh_turbine1.csv\")\n",
    "df_2017 = pd.read_csv(\"../Daten/kelmarsh_scada_2017/kelmarsh_turbine1.csv\")\n",
    "df_2018 = pd.read_csv(\"../Daten/kelmarsh_scada_2018/kelmarsh_turbine1.csv\")\n",
    "df_2019 = pd.read_csv(\"../Daten/kelmarsh_scada_2019/kelmarsh_turbine1.csv\")"
   ]
  },
  {
   "cell_type": "code",
   "execution_count": null,
   "metadata": {},
   "outputs": [],
   "source": [
    "dfs = [df_2016, df_2017, df_2018, df_2019]\n",
    "\n",
    "# Die DataFrames vertikal zusammenfügen\n",
    "df_combined = pd.concat(dfs, ignore_index=True)"
   ]
  },
  {
   "cell_type": "code",
   "execution_count": null,
   "metadata": {},
   "outputs": [],
   "source": [
    "cutoff_date = \"2019-06-30 23:50:00\"\n",
    "df_train = df_combined[df_combined[\"Date and time\"] <= cutoff_date]"
   ]
  },
  {
   "cell_type": "code",
   "execution_count": null,
   "metadata": {},
   "outputs": [],
   "source": [
    "df_train[\"Wind speed, Maximum (m/s)\"]"
   ]
  },
  {
   "cell_type": "code",
   "execution_count": null,
   "metadata": {},
   "outputs": [],
   "source": [
    "df_train['Date and time'] = pd.to_datetime(df_train['Date and time'], format='mixed', dayfirst=True, errors='coerce')"
   ]
  },
  {
   "cell_type": "code",
   "execution_count": null,
   "metadata": {},
   "outputs": [],
   "source": []
  },
  {
   "cell_type": "code",
   "execution_count": null,
   "metadata": {},
   "outputs": [],
   "source": [
    "import matplotlib.pyplot as plt\n",
    "\n",
    "# Extrahiere den Monat aus dem Datum\n",
    "df_train['Month'] = df_train['Date and time'].dt.month\n",
    "\n",
    "# Erstelle den Boxplot\n",
    "df_train.boxplot(column='Wind speed (m/s)', by='Month', grid=False, showfliers=True, figsize=(10,6), notch=True)\n",
    "\n",
    "# Anpassung des Plots\n",
    "plt.title(\"Monatliche Verteilung der Windgeschwindigkeit\")\n",
    "plt.suptitle(\"\")  # Entfernt den übergeordneten Titel\n",
    "plt.xlabel(\"Monat\")\n",
    "plt.ylabel(\"Windgeschwindigkeit (m/s)\")\n",
    "plt.xticks(rotation=0)  # Optionale Anpassung der x-Achsen-Beschriftung\n",
    "plt.rcParams.update({'font.size': 14})\n",
    "plt.show()"
   ]
  },
  {
   "cell_type": "code",
   "execution_count": null,
   "metadata": {},
   "outputs": [],
   "source": [
    "import matplotlib.pyplot as plt\n",
    "\n",
    "# Extrahiere den Monat aus dem Datum\n",
    "df_train['Hour'] = df_train['Date and time'].dt.hour\n",
    "\n",
    "# Erstelle den Boxplot\n",
    "df_train.boxplot(column='Wind speed (m/s)', by='Hour', grid=False, showfliers=True, figsize=(10,6), notch=True)\n",
    "\n",
    "# Anpassung des Plots\n",
    "plt.title(\"Stündliche Verteilung der Windgeschwindigkeit\")\n",
    "plt.suptitle(\"\")  # Entfernt den übergeordneten Titel\n",
    "plt.xlabel(\"Stunde\")\n",
    "plt.ylabel(\"Windgeschwindigkeit (m/s)\")\n",
    "plt.xticks(rotation=0)  # Optionale Anpassung der x-Achsen-Beschriftung\n",
    "plt.rcParams.update({'font.size': 14})\n",
    "plt.show()"
   ]
  },
  {
   "cell_type": "code",
   "execution_count": null,
   "metadata": {},
   "outputs": [],
   "source": [
    "import numpy as np\n",
    "import matplotlib.pyplot as plt\n",
    "\n",
    "# Beispiel für die Datendaten (hier musst du \"filtered_df\" einsetzen)\n",
    "filtered_df = df_train['Wind speed (m/s)']  # Deine Windgeschwindigkeitsdaten\n",
    "\n",
    "# Manuelle Definition der Bin-Grenzen\n",
    "bin_edges = np.arange(0, filtered_df.max() + 1, 1)  # Starte bei 0, Schrittweite 1\n",
    "\n",
    "# Histogramm mit manuell definierten Bin-Grenzen\n",
    "plt.figure(figsize=(10, 6))\n",
    "plt.hist(filtered_df, bins=bin_edges, density=False, alpha=0.6, color='skyblue', edgecolor='black')\n",
    "plt.title(\"Histogram der Windgeschwindigkeiten (Kelmarsh)\")\n",
    "plt.xlabel(\"Windgeschwindidkeit (m/s)\")\n",
    "plt.ylabel(\"Frequenz\")\n",
    "plt.grid(True)\n",
    "\n",
    "plt.rcParams.update({'font.size': 19})\n",
    "plt.show()"
   ]
  },
  {
   "cell_type": "code",
   "execution_count": null,
   "metadata": {},
   "outputs": [],
   "source": [
    "plt.figure(figsize=(10, 6))\n",
    "plt.scatter(df_train[\"Density adjusted wind speed (m/s)\"], df_train['Power (kW)'])\n",
    "plt.xlabel('Wind Geschwindigkeit (m/s)')\n",
    "plt.ylabel('Leistung (kW)')\n",
    "plt.title('Leistungskurve vor Bereinigung der Daten')\n",
    "plt.grid(True)\n",
    "\n",
    "plt.rcParams.update({'font.size': 18})\n",
    "plt.show()"
   ]
  },
  {
   "cell_type": "code",
   "execution_count": null,
   "metadata": {},
   "outputs": [],
   "source": [
    "plt.figure(figsize=(14, 6))\n",
    "plt.scatter(df_train['Date and time'], df_train[\"Lost Production (Time-based IEC B.3.2) (kWh)\"])\n",
    "plt.xlabel('Date')\n",
    "plt.ylabel('Lost Production (kWh)')\n",
    "plt.title('Production Loss')\n",
    "plt.grid(True)\n",
    "plt.show()"
   ]
  },
  {
   "cell_type": "code",
   "execution_count": null,
   "metadata": {},
   "outputs": [],
   "source": [
    "# Nur numerische Spalten auswählen\n",
    "numerische_spalten = df_train.select_dtypes(include=['float64', 'int64'])\n",
    "\n",
    "# Berechnung der Korrelationen mit 'Power (kW)'\n",
    "korrelationen = numerische_spalten.corr()['Power (kW)']\n",
    "korrelationen = korrelationen.dropna()\n",
    "# Ausgabe der Korrelationen\n"
   ]
  },
  {
   "cell_type": "code",
   "execution_count": null,
   "metadata": {},
   "outputs": [],
   "source": [
    "korrelationen = korrelationen.sort_values()\n",
    "print(korrelationen)"
   ]
  },
  {
   "cell_type": "code",
   "execution_count": null,
   "metadata": {},
   "outputs": [],
   "source": [
    "# Definiere den Schwellenwert für \"Lost Production Total (kWh)\"\n",
    "threshold = 0  # Beispielwert, anpassen je nach Bedarf\n",
    "\n",
    "# Bedingungen für die zu entfernenden Zeilen\n",
    "condition = ((df_train[\"Lost Production Total (kWh)\"] >= threshold) | (df_train[\"Lost Production Total (kWh)\"] <= -20)) & (df_train[\"Wind speed (m/s)\"] >= 2.5)\n",
    "\n",
    "\n",
    "# Entferne die Zeilen, die die Bedingungen erfüllen\n",
    "df_train = df_train[~condition]\n",
    "\n",
    "# Zeige das Ergebnis\n",
    "print(df_train)"
   ]
  },
  {
   "cell_type": "code",
   "execution_count": null,
   "metadata": {},
   "outputs": [],
   "source": [
    "\n",
    "condition = (df_train[\"Yaw bearing angle (°)\"] != df_train[\"Wind direction (°)\"]) & (df_train[\"Wind speed (m/s)\"] > 11) & (df_train[\"Power (kW)\"] < 1800)\n",
    "cond = df_train[condition]\n",
    "print(cond[[\"Power (kW)\", \"Wind speed (m/s)\"]])\n",
    "\n",
    "df_train = df_train[~condition]"
   ]
  },
  {
   "cell_type": "code",
   "execution_count": null,
   "metadata": {},
   "outputs": [],
   "source": [
    "plt.figure(figsize=(10, 6))\n",
    "plt.scatter(df_train[\"Density adjusted wind speed (m/s)\"], df_train['Power (kW)'])\n",
    "plt.xlabel('Wind Geschwindigkeit (m/s)')\n",
    "plt.ylabel('Leistung (kW)')\n",
    "plt.title('Leistungskurve nach Bereinigung der Daten')\n",
    "plt.grid(True)\n",
    "\n",
    "plt.rcParams.update({'font.size': 18})\n",
    "plt.show()"
   ]
  },
  {
   "cell_type": "code",
   "execution_count": null,
   "metadata": {},
   "outputs": [],
   "source": [
    "relevant_columns = [\n",
    "    \"Date and time\",\n",
    "    \"Density adjusted wind speed (m/s)\", \"Wind direction (°)\", \"Nacelle position (°)\",\n",
    "    \"Power (kW)\", \"Wind speed (m/s)\"\n",
    "]\n",
    "df_train = df_train[relevant_columns]"
   ]
  },
  {
   "cell_type": "code",
   "execution_count": null,
   "metadata": {},
   "outputs": [],
   "source": [
    "df_train.describe()"
   ]
  },
  {
   "cell_type": "code",
   "execution_count": null,
   "metadata": {},
   "outputs": [],
   "source": [
    "df_train[\"Power (kW)\"][df_train[\"Power (kW)\"] < 0] = 0"
   ]
  },
  {
   "cell_type": "code",
   "execution_count": null,
   "metadata": {},
   "outputs": [],
   "source": [
    "df_train.describe()"
   ]
  },
  {
   "cell_type": "code",
   "execution_count": null,
   "metadata": {},
   "outputs": [],
   "source": [
    "df_train.isna().sum()"
   ]
  },
  {
   "cell_type": "code",
   "execution_count": null,
   "metadata": {},
   "outputs": [],
   "source": [
    "df_numeric = df_train.select_dtypes(include=[\"float64\", \"int64\"])\n",
    "df_train[df_numeric.columns] = df_numeric.interpolate().fillna(method=\"bfill\").fillna(method=\"ffill\")"
   ]
  },
  {
   "cell_type": "code",
   "execution_count": null,
   "metadata": {},
   "outputs": [],
   "source": [
    "df_train.isna().sum()"
   ]
  },
  {
   "cell_type": "code",
   "execution_count": null,
   "metadata": {},
   "outputs": [],
   "source": [
    "import pandas as pd\n",
    "import matplotlib.pyplot as plt\n",
    "\n",
    "# Angenommen, df_train ist bereits definiert und enthält die notwendigen Spalten\n",
    "# Sicherstellen, dass df_train nicht leer ist und die Spalten existieren\n",
    "# Wir filtern die ersten 144 Einträge, die einem Tag entsprechen\n",
    "df_one_day = df_train.iloc[-144:]\n",
    "\n",
    "# Erstellen des Plots\n",
    "plt.figure(figsize=(12, 6))\n",
    "plt.plot(df_one_day.index, df_one_day['Power (kW)'], label='Power (kW)', marker='o')\n",
    "plt.plot(df_one_day.index, df_one_day['Wind speed (m/s)'], label='Wind speed (m/s)', marker='x')\n",
    "plt.title('Power (kW) and Wind Speed (m/s) for One Day')\n",
    "plt.xlabel('Time (Index)')\n",
    "plt.ylabel('Values')\n",
    "plt.legend()\n",
    "plt.grid()\n",
    "plt.tight_layout()\n",
    "\n",
    "# Plot anzeigen\n",
    "plt.show()\n",
    "\n",
    "# Speichern der ausgewählten Spalten als CSV-Datei\n",
    "df_one_day[['Power (kW)', 'Wind speed (m/s)']].to_csv('beispiel.csv', index=False)\n"
   ]
  },
  {
   "cell_type": "code",
   "execution_count": null,
   "metadata": {},
   "outputs": [],
   "source": [
    "print(df_train[\"Date and time\"].iloc[start])\n",
    "print(df_train[\"Date and time\"].iloc[end-1])"
   ]
  },
  {
   "cell_type": "code",
   "execution_count": null,
   "metadata": {},
   "outputs": [],
   "source": [
    "import pandas as pd\n",
    "import numpy as np\n",
    "import matplotlib.pyplot as plt\n",
    "\n",
    "start = 10000\n",
    "end = start + 144 * 60\n",
    "\n",
    "\n",
    "# Erstelle einen DataFrame für einfachere Verarbeitung\n",
    "df = pd.DataFrame({'power': df_train[\"Wind speed (m/s)\"].iloc[0:end]})\n",
    "\n",
    "print(df['power'])\n",
    "# Moving Averages berechnen\n",
    "df['MA_24h'] = df['power'].rolling(window=144).mean()  # 24-Stunden gleitender Durchschnitt\n",
    "df['MA_7d'] = df['power'].rolling(window=144*7).mean()  # 24-Stunden gleitender Durchschnitt\n",
    "\n",
    "# Plotten der Rohdaten und Moving Averages\n",
    "plt.figure(figsize=(12, 6))\n",
    "plt.plot(df_train[\"Date and time\"].iloc[start:end], df[\"power\"].iloc[start:end], label=\"Rohdaten\", alpha=0.5)\n",
    "plt.plot(df_train[\"Date and time\"].iloc[start:end], df['MA_24h'].iloc[start:end], label=\"Gleitender Durchschnitt (24 Stunden)\", linewidth=2)\n",
    "plt.plot(df_train[\"Date and time\"].iloc[start:end], df['MA_7d'].iloc[start:end], label=\"Gleitender Durchschnitt (7 Tage)\", linewidth=2)\n",
    "plt.title(\"Windgeschwindigkeit mit gleitendem Durchschnitt\")\n",
    "plt.xlabel(\"Datum\")\n",
    "plt.ylabel(\"Windgeschwindigkeit (m/s)\")\n",
    "plt.legend()\n",
    "import matplotlib.dates as mdates\n",
    "\n",
    "plt.gca().xaxis.set_major_locator(mdates.HourLocator(interval=288))  # Alle 6 Stunden ein Tick\n",
    "plt.gca().xaxis.set_major_formatter(mdates.DateFormatter('%Y-%m-%d'))  # Format der Ticks\n",
    "plt.rcParams.update({'font.size': 16})\n",
    "plt.grid()\n",
    "plt.show()"
   ]
  },
  {
   "cell_type": "code",
   "execution_count": null,
   "metadata": {},
   "outputs": [],
   "source": []
  },
  {
   "cell_type": "code",
   "execution_count": null,
   "metadata": {},
   "outputs": [],
   "source": [
    "fft_result = np.fft.fft(df['power'])\n",
    "frequencies = np.fft.fftfreq(len(df['power']), d=(144))  # Frequenzen\n",
    "\n",
    "# Amplitude (Betrag der Fourier-Koeffizienten)\n",
    "amplitude = np.abs(fft_result)\n",
    "\n",
    "# Plot des Spektrums\n",
    "plt.figure(figsize=(10, 5))\n",
    "plt.plot(frequencies[:len(frequencies)//2], amplitude[:len(frequencies)//2])  # Nur positive Frequenzen\n",
    "plt.title('Fourier-Analyse - Frequenzspektrum')\n",
    "plt.xlabel('Frequenz (Hz)')\n",
    "plt.ylabel('Amplitude')\n",
    "plt.grid(True)\n",
    "plt.show()"
   ]
  },
  {
   "cell_type": "code",
   "execution_count": null,
   "metadata": {},
   "outputs": [],
   "source": [
    "output_file = \"../Daten/train_data.csv\"\n",
    "df_train.to_csv(output_file, index=False)\n",
    "\n",
    "print(f\"Gefilterte Daten wurden als '{output_file}' gespeichert.\")"
   ]
  },
  {
   "cell_type": "code",
   "execution_count": null,
   "metadata": {},
   "outputs": [],
   "source": [
    "COLUMNS = [\n",
    "    \"Density adjusted wind speed (m/s)\", \"Wind direction (°)\", \"Nacelle position (°)\",\n",
    "    \"Power (kW)\", \"Wind speed (m/s)\"\n",
    "]"
   ]
  },
  {
   "attachments": {},
   "cell_type": "markdown",
   "metadata": {},
   "source": [
    "## Validation data"
   ]
  },
  {
   "cell_type": "code",
   "execution_count": null,
   "metadata": {},
   "outputs": [],
   "source": [
    "df_2020 = pd.read_csv(\"../Daten/kelmarsh_scada_2020/kelmarsh_turbine1.csv\")"
   ]
  },
  {
   "cell_type": "code",
   "execution_count": null,
   "metadata": {},
   "outputs": [],
   "source": [
    "dfs = [df_2019, df_2020]\n",
    "\n",
    "# Die DataFrames vertikal zusammenfügen\n",
    "df_combined_val = pd.concat(dfs, ignore_index=True)"
   ]
  },
  {
   "cell_type": "code",
   "execution_count": null,
   "metadata": {},
   "outputs": [],
   "source": [
    "relevant_columns = [\n",
    "    \"Date and time\",\n",
    "    \"Density adjusted wind speed (m/s)\", \"Wind direction (°)\", \"Nacelle position (°)\",\n",
    "    \"Power (kW)\", \"Wind speed (m/s)\"\n",
    "]\n",
    "df_combined_val = df_combined_val[relevant_columns]"
   ]
  },
  {
   "cell_type": "code",
   "execution_count": null,
   "metadata": {},
   "outputs": [],
   "source": [
    "cutoff_date = \"2020-06-30 23:50:00\"\n",
    "start_date = \"2019-07-01 00:00:00\"\n",
    "df_val = df_combined_val[df_combined_val[\"Date and time\"] >= start_date]\n",
    "\n",
    "df_val = df_val[df_val[\"Date and time\"] <= cutoff_date]"
   ]
  },
  {
   "cell_type": "code",
   "execution_count": null,
   "metadata": {},
   "outputs": [],
   "source": [
    "df_val.last"
   ]
  },
  {
   "cell_type": "code",
   "execution_count": null,
   "metadata": {},
   "outputs": [],
   "source": [
    "df_val[\"Power (kW)\"][df_val[\"Power (kW)\"] < 0] = 0"
   ]
  },
  {
   "cell_type": "code",
   "execution_count": null,
   "metadata": {},
   "outputs": [],
   "source": [
    "df_numeric = df_val.select_dtypes(include=[\"float64\", \"int64\"])\n",
    "df_val[df_numeric.columns] = df_numeric.interpolate().fillna(method=\"bfill\").fillna(method=\"ffill\")"
   ]
  },
  {
   "cell_type": "code",
   "execution_count": null,
   "metadata": {},
   "outputs": [],
   "source": [
    "output_file = \"../Daten/validation_data.csv\"\n",
    "df_val.to_csv(output_file, index=False)\n",
    "\n",
    "print(f\"Gefilterte Daten wurden als '{output_file}' gespeichert.\")"
   ]
  },
  {
   "attachments": {},
   "cell_type": "markdown",
   "metadata": {},
   "source": [
    "## Test data"
   ]
  },
  {
   "cell_type": "code",
   "execution_count": null,
   "metadata": {},
   "outputs": [],
   "source": [
    "df_2021 = pd.read_csv(\"../Daten/kelmarsh_scada_2021/kelmarsh_turbine1.csv\")"
   ]
  },
  {
   "cell_type": "code",
   "execution_count": null,
   "metadata": {},
   "outputs": [],
   "source": [
    "dfs = [df_2020, df_2021]\n",
    "\n",
    "# Die DataFrames vertikal zusammenfügen\n",
    "df_combined_val = pd.concat(dfs, ignore_index=True)"
   ]
  },
  {
   "cell_type": "code",
   "execution_count": null,
   "metadata": {},
   "outputs": [],
   "source": [
    "relevant_columns = [\n",
    "    \"Date and time\",\n",
    "    \"Wind speed (m/s)\", \"Wind direction (°)\", \"Nacelle position (°)\",\n",
    "    \"Power (kW)\", \"Density adjusted wind speed (m/s)\"\n",
    "]\n",
    "df_combined_val = df_combined_val[relevant_columns]"
   ]
  },
  {
   "cell_type": "code",
   "execution_count": null,
   "metadata": {},
   "outputs": [],
   "source": [
    "start_date = \"2020-07-01 00:00:00\"\n",
    "df_test = df_combined_val[df_combined_val[\"Date and time\"] >= start_date]"
   ]
  },
  {
   "cell_type": "code",
   "execution_count": null,
   "metadata": {},
   "outputs": [],
   "source": [
    "df_test.last"
   ]
  },
  {
   "cell_type": "code",
   "execution_count": null,
   "metadata": {},
   "outputs": [],
   "source": [
    "df_test[\"Power (kW)\"][df_test[\"Power (kW)\"] < 0] = 0"
   ]
  },
  {
   "cell_type": "code",
   "execution_count": null,
   "metadata": {},
   "outputs": [],
   "source": [
    "duplicates = df_test.columns[df_test.columns.duplicated()]\n",
    "print(\"Doppelte Spaltennamen:\", duplicates)"
   ]
  },
  {
   "cell_type": "code",
   "execution_count": null,
   "metadata": {},
   "outputs": [],
   "source": [
    "df_test = df_test.loc[:, ~df_test.columns.duplicated()]"
   ]
  },
  {
   "cell_type": "code",
   "execution_count": null,
   "metadata": {},
   "outputs": [],
   "source": [
    "df_numeric = df_test.select_dtypes(include=[\"float64\", \"int64\"])\n",
    "df_test.loc[:, df_numeric.columns] = df_numeric.interpolate().fillna(method=\"bfill\").fillna(method=\"ffill\")"
   ]
  },
  {
   "cell_type": "code",
   "execution_count": null,
   "metadata": {},
   "outputs": [],
   "source": [
    "output_file = \"../Daten/test_data.csv\"\n",
    "df_test.to_csv(output_file, index=False)\n",
    "\n",
    "print(f\"Gefilterte Daten wurden als '{output_file}' gespeichert.\")"
   ]
  },
  {
   "attachments": {},
   "cell_type": "markdown",
   "metadata": {},
   "source": [
    "# Windspeed data"
   ]
  },
  {
   "cell_type": "code",
   "execution_count": null,
   "metadata": {},
   "outputs": [],
   "source": [
    "import pandas as pd\n",
    "\n",
    "# Datei laden (ersetzen Sie 'daten.csv' durch den tatsächlichen Dateinamen)\n",
    "datei = '../Daten/winddata_eu/winddata_eu_100m.csv'\n",
    "df = pd.read_csv(datei)\n",
    "\n",
    "# Konvertieren Sie das Datum in ein Datetime-Format\n",
    "df['Date'] = pd.to_datetime(df['Date'])\n",
    "\n",
    "# Filtern Sie die Daten nach dem gewünschten Zeitraum\n",
    "start_date = '2016-01-01'\n",
    "end_date = '2024-12-31'\n",
    "df_filtered = df[(df['Date'] >= start_date) & (df['Date'] <= end_date)]\n",
    "\n",
    "# Extrahieren Sie nur die Spalten 'Date' und 'UKF3'\n",
    "df_result = df_filtered[['Date', 'UKF3']]\n",
    "\n",
    "# Ergebnisse anzeigen\n",
    "print(df_result)\n",
    "\n",
    "# Optional: Ergebnisse in eine neue CSV-Datei speichern\n",
    "output_file = '../Daten/wind_speed_ukf3_2016_2024.csv'\n",
    "df_result.to_csv(output_file, index=False)\n",
    "print(f\"Die gefilterten Daten wurden in '{output_file}' gespeichert.\")"
   ]
  },
  {
   "cell_type": "code",
   "execution_count": null,
   "metadata": {},
   "outputs": [],
   "source": []
  }
 ],
 "metadata": {
  "kernelspec": {
   "display_name": "base",
   "language": "python",
   "name": "python3"
  },
  "language_info": {
   "codemirror_mode": {
    "name": "ipython",
    "version": 3
   },
   "file_extension": ".py",
   "mimetype": "text/x-python",
   "name": "python",
   "nbconvert_exporter": "python",
   "pygments_lexer": "ipython3",
   "version": "3.10.14"
  },
  "vscode": {
   "interpreter": {
    "hash": "e5122f662af96700b813aab71a6c4b334cdb0adc1a868df687bb6098cf2600c5"
   }
  }
 },
 "nbformat": 4,
 "nbformat_minor": 2
}
