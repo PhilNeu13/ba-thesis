{
 "cells": [
  {
   "cell_type": "code",
   "execution_count": null,
   "metadata": {},
   "outputs": [],
   "source": [
    "import pandas as pd\n",
    "import warnings\n",
    "warnings.filterwarnings(\"ignore\")\n",
    "import matplotlib.pyplot as plt\n",
    "import seaborn as sns\n",
    "import numpy as np\n",
    "from statsmodels.tsa.statespace.sarimax import SARIMAX\n",
    "from pmdarima import auto_arima\n",
    "from statsmodels.tsa.api import VAR\n",
    "from statsmodels.tsa.arima.model import ARIMA\n",
    "from statsmodels.tsa.stattools import adfuller\n",
    "from statsmodels.graphics.tsaplots import plot_acf, plot_pacf\n",
    "from sklearn.metrics import mean_squared_error, mean_absolute_error, root_mean_squared_error\n",
    "from pygam import GAM, s, LinearGAM"
   ]
  },
  {
   "cell_type": "code",
   "execution_count": null,
   "metadata": {},
   "outputs": [],
   "source": [
    "df_train = pd.read_csv(\"../Daten/train_data.csv\")"
   ]
  },
  {
   "cell_type": "code",
   "execution_count": null,
   "metadata": {},
   "outputs": [],
   "source": [
    "df_train['Date and time'] = pd.to_datetime(df_train['Date and time'], format='mixed', dayfirst=True, errors='coerce')\n",
    "df_train.set_index('Date and time', inplace=True)"
   ]
  },
  {
   "cell_type": "code",
   "execution_count": null,
   "metadata": {},
   "outputs": [],
   "source": [
    "df_val = pd.read_csv(\"../Daten/validation_data.csv\")"
   ]
  },
  {
   "cell_type": "code",
   "execution_count": null,
   "metadata": {},
   "outputs": [],
   "source": [
    "df_val['Date and time'] = pd.to_datetime(df_val['Date and time'], format='mixed', dayfirst=True, errors='coerce')\n",
    "df_val.set_index('Date and time', inplace=True)"
   ]
  },
  {
   "attachments": {},
   "cell_type": "markdown",
   "metadata": {},
   "source": [
    "# ARIMA"
   ]
  },
  {
   "cell_type": "code",
   "execution_count": null,
   "metadata": {},
   "outputs": [],
   "source": [
    "from statsmodels.graphics.tsaplots import plot_acf, plot_pacf\n",
    "\n",
    "\n",
    "# ACF-Plot\n",
    "plt.figure(figsize=(12, 5))\n",
    "acf_plot = plot_acf(df_train[\"Power (kW)\"], lags=50, title=\"Autokorrelationsfunktion (ACF)\")\n",
    "plt.xlabel(\"Verzögerungen\")\n",
    "plt.ylabel(\"Autokorrelation\")\n",
    "\n",
    "plt.ylim(-0.5, 1.1)\n",
    "plt.grid(True)\n",
    "plt.rcParams.update({'font.size': 16})\n",
    "plt.tight_layout()\n",
    "plt.show()"
   ]
  },
  {
   "cell_type": "code",
   "execution_count": null,
   "metadata": {},
   "outputs": [],
   "source": [
    "# PACF-Plot\n",
    "plt.figure(figsize=(12, 5))\n",
    "pacf_plot = plot_pacf(df_train[\"Power (kW)\"], lags=50, title=\"Partielle Autokorrelationsfunktion (PACF)\")\n",
    "plt.xlabel(\"Verzögerungen\")\n",
    "plt.ylabel(\"Partielle Autokorrelation\")\n",
    "\n",
    "# Lags und Zeitformat\n",
    "\n",
    "plt.ylim(-0.5, 1.1)\n",
    "plt.grid(True)\n",
    "plt.rcParams.update({'font.size': 16})\n",
    "plt.tight_layout()\n",
    "plt.show()"
   ]
  },
  {
   "cell_type": "code",
   "execution_count": null,
   "metadata": {},
   "outputs": [],
   "source": [
    "auto_arima_model = auto_arima(df_train[\"Power (kW)\"].iloc[-144:], seasonal=False, trace=True, suppress_warnings=True, stepwise=False, m=1)\n",
    "p, d, q = auto_arima_model.order\n",
    "\n",
    "print(auto_arima_model.summary)"
   ]
  },
  {
   "cell_type": "code",
   "execution_count": null,
   "metadata": {},
   "outputs": [],
   "source": [
    "print(auto_arima_model.summary)"
   ]
  },
  {
   "cell_type": "code",
   "execution_count": null,
   "metadata": {},
   "outputs": [],
   "source": [
    "def check_stationarity(series):\n",
    "    result = adfuller(series)\n",
    "    print(f\"p-Wert: {result[1]} (stationär, wenn < 0.05)\")\n",
    "\n",
    "check_stationarity(df_train[\"Power (kW)\"].iloc[-144:])"
   ]
  },
  {
   "cell_type": "code",
   "execution_count": null,
   "metadata": {},
   "outputs": [],
   "source": [
    "arima = ARIMA(df_train[\"Power (kW)\"].iloc[-144:], order=auto_arima_model.order)\n",
    "arima_fit = arima.fit()"
   ]
  },
  {
   "cell_type": "code",
   "execution_count": null,
   "metadata": {},
   "outputs": [],
   "source": [
    "import pickle\n",
    "\n",
    "with open('arima_model.pkl', 'wb') as file:\n",
    "    pickle.dump(arima_fit, file)"
   ]
  },
  {
   "cell_type": "code",
   "execution_count": null,
   "metadata": {},
   "outputs": [],
   "source": [
    "forecasts = arima_fit.get_forecast(steps=144)"
   ]
  },
  {
   "cell_type": "code",
   "execution_count": null,
   "metadata": {},
   "outputs": [],
   "source": [
    "actual_values = df_val[\"Power (kW)\"].iloc[:144]\n",
    "\n",
    "mae = mean_absolute_error(actual_values, forecasts.predicted_mean)\n",
    "rmse = root_mean_squared_error(actual_values, forecasts.predicted_mean)\n",
    "\n",
    "print(\"Vorhersagen:\", forecasts.predicted_mean)\n",
    "print(\"Tatsächliche Werte:\", actual_values.values)\n",
    "print(\"Mean Absolute Error (MAE):\", mae)\n",
    "print(\"Root Mean Squared Error (RMSE):\", rmse)"
   ]
  },
  {
   "cell_type": "code",
   "execution_count": null,
   "metadata": {},
   "outputs": [],
   "source": [
    "horizon = 144\n",
    "\n",
    "plt.figure(figsize=(12, 6))\n",
    "plt.title(\"ARIMA Vorhersage\")\n",
    "plt.plot(df_val.index[:horizon], df_val[\"Power (kW)\"].iloc[:horizon], label=\"Tatsächliche Werte (Validierung)\")\n",
    "plt.plot(df_val.index[:horizon], forecasts.predicted_mean[:horizon], label=\"Vorhersagen\")\n",
    "plt.ylabel(\"Power (kW)\")\n",
    "plt.xlabel(\"Datum\")\n",
    "plt.legend()\n",
    "plt.show()"
   ]
  },
  {
   "attachments": {},
   "cell_type": "markdown",
   "metadata": {},
   "source": [
    "## Ein Tages Vorhersage mit ARIMA"
   ]
  },
  {
   "cell_type": "code",
   "execution_count": null,
   "metadata": {},
   "outputs": [],
   "source": [
    "sarima_modell = SARIMAX(df_train[\"Power (kW)\"].iloc[-144:], order=(2,0,2), seasonal_order=(1,1,1,144))\n",
    "fit = sarima_modell.fit()"
   ]
  },
  {
   "cell_type": "code",
   "execution_count": null,
   "metadata": {},
   "outputs": [],
   "source": [
    "forecasts = fit.get_forecast(steps=144)"
   ]
  },
  {
   "cell_type": "code",
   "execution_count": null,
   "metadata": {},
   "outputs": [],
   "source": [
    "forecasts.predicted_mean"
   ]
  },
  {
   "cell_type": "code",
   "execution_count": null,
   "metadata": {},
   "outputs": [],
   "source": [
    "actual_values = df_val[\"Power (kW)\"].iloc[:144]\n",
    "\n",
    "mae = mean_absolute_error(actual_values, forecasts.predicted_mean)\n",
    "rmse = root_mean_squared_error(actual_values, forecasts.predicted_mean)\n",
    "\n",
    "print(\"Vorhersagen:\", forecasts.predicted_mean)\n",
    "print(\"Tatsächliche Werte:\", actual_values.values)\n",
    "print(\"Mean Absolute Error (MAE):\", mae)\n",
    "print(\"Root Mean Squared Error (RMSE):\", rmse)"
   ]
  },
  {
   "cell_type": "code",
   "execution_count": null,
   "metadata": {},
   "outputs": [],
   "source": [
    "plt.figure(figsize=(12, 6))\n",
    "plt.title(\"SARIMA Vorhersage\")\n",
    "plt.plot(df_val.index[:144], df_val[\"Power (kW)\"].iloc[:144], label=\"Tatsächliche Werte (Validierung)\")\n",
    "plt.plot(df_val.index[:144], forecasts.predicted_mean[:144], label=\"Vorhersagen\")\n",
    "plt.ylabel(\"Power (kW)\")\n",
    "plt.xlabel(\"Datum\")\n",
    "plt.legend()\n",
    "plt.show()"
   ]
  },
  {
   "attachments": {},
   "cell_type": "markdown",
   "metadata": {},
   "source": [
    "## SARIMAX Vorhersage mit exogenen Variablen"
   ]
  },
  {
   "cell_type": "code",
   "execution_count": null,
   "metadata": {},
   "outputs": [],
   "source": [
    "df_exog = df_train[[\"Wind speed (m/s)\"]]"
   ]
  },
  {
   "cell_type": "code",
   "execution_count": null,
   "metadata": {},
   "outputs": [],
   "source": []
  },
  {
   "cell_type": "code",
   "execution_count": null,
   "metadata": {},
   "outputs": [],
   "source": [
    "arima_model = SARIMAX(df_train[\"Power (kW)\"], order=auto_arima_model.order, seasonal_order=(0,0,0,0), exog=df_train[\"Wind speed (m/s)\"])\n",
    "model_fit = arima_model.fit()"
   ]
  },
  {
   "cell_type": "code",
   "execution_count": null,
   "metadata": {},
   "outputs": [],
   "source": [
    "import pickle\n",
    "\n",
    "with open('sarimax_model.pkl', 'wb') as file:\n",
    "    pickle.dump(model_fit, file)"
   ]
  },
  {
   "cell_type": "code",
   "execution_count": null,
   "metadata": {},
   "outputs": [],
   "source": [
    "residuals = pd.DataFrame(model_fit.resid)\n",
    "fig, ax = plt.subplots(1,2)\n",
    "residuals.plot(title=\"Residuals\", ax=ax[0])\n",
    "residuals.plot(kind='kde', title='Density', ax=ax[1])\n",
    "plt.show()"
   ]
  },
  {
   "cell_type": "code",
   "execution_count": null,
   "metadata": {},
   "outputs": [],
   "source": [
    "model_fit.aic"
   ]
  },
  {
   "cell_type": "code",
   "execution_count": null,
   "metadata": {},
   "outputs": [],
   "source": [
    "model_fit.plot_diagnostics(figsize=(15,12))"
   ]
  },
  {
   "cell_type": "code",
   "execution_count": null,
   "metadata": {},
   "outputs": [],
   "source": [
    "df_train.describe()"
   ]
  },
  {
   "cell_type": "code",
   "execution_count": null,
   "metadata": {},
   "outputs": [],
   "source": []
  },
  {
   "cell_type": "code",
   "execution_count": null,
   "metadata": {},
   "outputs": [],
   "source": [
    "forecast = model_fit.get_forecast(steps=144, exog=df_val[\"Wind speed (m/s)\"].iloc[:144])\n",
    "forecast_ci = forecast.conf_int()"
   ]
  },
  {
   "cell_type": "code",
   "execution_count": null,
   "metadata": {},
   "outputs": [],
   "source": [
    "forecast_ci"
   ]
  },
  {
   "cell_type": "code",
   "execution_count": null,
   "metadata": {},
   "outputs": [],
   "source": [
    "actual_values = df_val[\"Power (kW)\"].iloc[:144]"
   ]
  },
  {
   "cell_type": "code",
   "execution_count": null,
   "metadata": {},
   "outputs": [],
   "source": [
    "from sklearn.metrics import mean_absolute_error, root_mean_squared_error\n",
    "\n",
    "mae = mean_absolute_error(actual_values, forecast.predicted_mean)\n",
    "rmse = root_mean_squared_error(actual_values, forecast.predicted_mean)\n",
    "\n",
    "print(\"Vorhersagen:\", forecast.predicted_mean)\n",
    "print(\"Tatsächliche Werte:\", actual_values.values)\n",
    "print(\"Mean Absolute Error (MAE):\", mae)\n",
    "print(\"Root Mean Squared Error (RMSE):\", rmse)\n"
   ]
  },
  {
   "cell_type": "code",
   "execution_count": null,
   "metadata": {},
   "outputs": [],
   "source": [
    "df_train"
   ]
  },
  {
   "cell_type": "code",
   "execution_count": null,
   "metadata": {},
   "outputs": [],
   "source": [
    "plt.figure(figsize=(10, 6))\n",
    "plt.title(\"SARIMAX Vorhersagen (Mit Wind Daten)\")\n",
    "plt.plot(df_val.index[:144], actual_values[:144], label=\"Tatsächliche Werte (Validierung)\")\n",
    "plt.plot(df_val.index[:144], forecast.predicted_mean[:144], label=\"Vorhersagen\", linestyle=\"--\")\n",
    "plt.axvline(x=df_val.index[0], color=\"gray\", linestyle=\"--\", label=\"Trainings-/Validierungssplit\")\n",
    "plt.ylabel(\"Power (kW)\")\n",
    "plt.xlabel(\"Datum\")\n",
    "plt.legend()\n",
    "plt.show()"
   ]
  },
  {
   "cell_type": "code",
   "execution_count": null,
   "metadata": {},
   "outputs": [],
   "source": [
    "pred = model_fit.get_prediction(start=pd.to_datetime(\"2019-06-30 23:00:00\"), dynamic=False)"
   ]
  },
  {
   "cell_type": "code",
   "execution_count": null,
   "metadata": {},
   "outputs": [],
   "source": [
    "pred.predicted_mean"
   ]
  },
  {
   "cell_type": "code",
   "execution_count": null,
   "metadata": {},
   "outputs": [],
   "source": [
    "plt.figure(figsize=(10, 6))\n",
    "plt.plot(df_train.index[-6:], df_train[\"Power (kW)\"].iloc[-6:], label=\"Trainingsdaten\")\n",
    "plt.plot(df_train.index[-6:], pred.predicted_mean, label=\"Tatsächliche Werte (Validierung)\")\n",
    "plt.legend()\n",
    "plt.show()"
   ]
  },
  {
   "cell_type": "code",
   "execution_count": null,
   "metadata": {},
   "outputs": [],
   "source": [
    "from sklearn.metrics import root_mean_squared_error\n",
    "\n",
    "rmse = root_mean_squared_error(actual_values, forecast.predicted_mean)\n",
    "\n",
    "print(\"Vorhersagen:\", pred.predicted_mean)\n",
    "print(\"Tatsächliche Werte:\", df_train[\"Power (kW)\"].iloc[-6:])\n",
    "print(\"Root Mean Squared Error (RMSE):\", rmse)\n"
   ]
  },
  {
   "attachments": {},
   "cell_type": "markdown",
   "metadata": {},
   "source": [
    "# GAM"
   ]
  },
  {
   "cell_type": "code",
   "execution_count": null,
   "metadata": {},
   "outputs": [],
   "source": [
    "import matplotlib.pyplot as plt\n",
    "from statsmodels.tsa.seasonal import seasonal_decompose"
   ]
  },
  {
   "cell_type": "code",
   "execution_count": null,
   "metadata": {},
   "outputs": [],
   "source": [
    "data = df_train[\"Power (kW)\"].iloc[:50000]\n",
    "decomposition = seasonal_decompose(data, model=\"additive\", period=144)\n",
    "decomposition.plot()"
   ]
  },
  {
   "cell_type": "code",
   "execution_count": null,
   "metadata": {},
   "outputs": [],
   "source": [
    "import matplotlib.pyplot as plt\n",
    "from statsmodels.tsa.seasonal import seasonal_decompose\n",
    "\n",
    "data = df_train[\"Power (kW)\"].iloc[-26200:]\n",
    "decomposition = seasonal_decompose(data, model=\"additive\", period=144)\n",
    "\n",
    "fig, axes = plt.subplots(4, 1, figsize=(12, 6), sharex=True) \n",
    "\n",
    "axes[0].plot(decomposition.observed, label=\"Observed\")\n",
    "axes[0].set_title(\"Observed\")\n",
    "axes[0].legend()\n",
    "\n",
    "axes[1].plot(decomposition.trend, label=\"Trend\", color=\"orange\")\n",
    "axes[1].set_title(\"Trend\")\n",
    "axes[1].legend()\n",
    "\n",
    "axes[2].plot(decomposition.seasonal, label=\"Seasonal\", color=\"green\")\n",
    "axes[2].set_title(\"Seasonal\")\n",
    "axes[2].legend()\n",
    "\n",
    "axes[3].plot(decomposition.resid, label=\"Residual\", color=\"red\")\n",
    "axes[3].set_title(\"Residual\")\n",
    "axes[3].legend()\n",
    "\n",
    "plt.tight_layout()\n",
    "plt.show()"
   ]
  },
  {
   "attachments": {},
   "cell_type": "markdown",
   "metadata": {},
   "source": [
    "## Vorhersage mit Winddaten"
   ]
  },
  {
   "cell_type": "code",
   "execution_count": null,
   "metadata": {},
   "outputs": [],
   "source": [
    "gam = GAM(s(0))"
   ]
  },
  {
   "cell_type": "code",
   "execution_count": null,
   "metadata": {},
   "outputs": [],
   "source": [
    "train_size = 183000\n",
    "forecast_size = 144\n",
    "\n",
    "X_train = df_train[\"Wind speed (m/s)\"].iloc[:train_size].values\n",
    "X_test = df_val[\"Wind speed (m/s)\"].iloc[:forecast_size].values\n",
    "\n",
    "y_train = df_train[\"Power (kW)\"].iloc[:train_size].values\n",
    "y_test = df_val[\"Power (kW)\"].iloc[:forecast_size].values\n"
   ]
  },
  {
   "cell_type": "code",
   "execution_count": null,
   "metadata": {},
   "outputs": [],
   "source": [
    "gam.gridsearch(X_train, y_train)"
   ]
  },
  {
   "cell_type": "code",
   "execution_count": null,
   "metadata": {},
   "outputs": [],
   "source": [
    "gam_fit = gam.fit(X_train, y_train)"
   ]
  },
  {
   "cell_type": "code",
   "execution_count": null,
   "metadata": {},
   "outputs": [],
   "source": [
    "import pickle\n",
    "\n",
    "with open('gam_model.pkl', 'wb') as file:\n",
    "    pickle.dump(gam_fit, file)"
   ]
  },
  {
   "cell_type": "code",
   "execution_count": null,
   "metadata": {},
   "outputs": [],
   "source": [
    "y_pred = gam.predict(X_test)\n",
    "\n",
    "gam_mse = mean_squared_error(y_test, y_pred)\n",
    "gam_mae = mean_absolute_error(y_test, y_pred)\n",
    "gam_rmse = root_mean_squared_error(y_test, y_pred)\n",
    "\n",
    "print(f'Mean Squared Error: {gam_mse}')\n",
    "print(f'Mean Absolute Error: {gam_mae}')\n",
    "print(f'Root Mean Squared Error: {gam_rmse}')"
   ]
  },
  {
   "cell_type": "code",
   "execution_count": null,
   "metadata": {},
   "outputs": [],
   "source": [
    "y_test"
   ]
  },
  {
   "cell_type": "code",
   "execution_count": null,
   "metadata": {},
   "outputs": [],
   "source": [
    "y_pred"
   ]
  },
  {
   "cell_type": "code",
   "execution_count": null,
   "metadata": {},
   "outputs": [],
   "source": [
    "error = []\n",
    "\n",
    "i = 0\n",
    "for y in y_pred:\n",
    "    \n",
    "    e = y_test[i] - y\n",
    "    e = np.sqrt(e**2)\n",
    "    error.append(e)\n",
    "    i += 1\n"
   ]
  },
  {
   "cell_type": "code",
   "execution_count": null,
   "metadata": {},
   "outputs": [],
   "source": [
    "print(error)"
   ]
  },
  {
   "cell_type": "code",
   "execution_count": null,
   "metadata": {},
   "outputs": [],
   "source": [
    "errors"
   ]
  },
  {
   "cell_type": "code",
   "execution_count": null,
   "metadata": {},
   "outputs": [],
   "source": [
    "plt.figure(figsize=(10, 6))\n",
    "plt.plot(df_val.index[:forecast_size], y_test, label=\"Validierung\")\n",
    "plt.plot(df_val.index[:forecast_size], y_pred, label=\"Vorhersage\")\n",
    "plt.title(\"GAM Vorhersagen (Mit Wind Daten)\")\n",
    "plt.ylabel(\"Power (kW)\")\n",
    "plt.xlabel(\"Time\")\n",
    "plt.legend()\n",
    "plt.show()"
   ]
  },
  {
   "attachments": {},
   "cell_type": "markdown",
   "metadata": {},
   "source": [
    "## Vorhersage ohne Winddaten"
   ]
  },
  {
   "cell_type": "code",
   "execution_count": null,
   "metadata": {},
   "outputs": [],
   "source": [
    "gam = LinearGAM(s(0, lam=0.8))"
   ]
  },
  {
   "cell_type": "code",
   "execution_count": null,
   "metadata": {},
   "outputs": [],
   "source": [
    "df_gam = pd.DataFrame()\n",
    "df_gam['time'] = np.arange(len(df_train))\n",
    "\n",
    "#df_gam['time_scaled'] = (df_gam['time'] - df_gam['time'].min()) / \\\n",
    "                            #(df_gam['time'].max() - df_gam['time'].min())\n",
    "\n",
    "df_gam['month'] = df_train.index.month\n",
    "df_gam['day_of_year'] = df_train.index.day_of_year\n",
    "df_gam['hour'] = df_train.index.hour\n",
    "df_gam['minute'] = df_train.index.minute\n",
    "\n",
    "df_gam['hour_sin'] = np.sin(2 * np.pi * df_gam['hour'] / 24)\n",
    "df_gam['hour_cos'] = np.cos(2 * np.pi * df_gam['hour'] / 24)"
   ]
  },
  {
   "cell_type": "code",
   "execution_count": null,
   "metadata": {},
   "outputs": [],
   "source": [
    "df_gam_val = pd.DataFrame()\n",
    "df_gam_val['time'] = np.arange(len(df_val))\n",
    "\n",
    "#df_gam_val['time_scaled'] = (df_gam_val['time'] - df_gam_val['time'].min()) / \\\n",
    "                            #(df_gam_val['time'].max() - df_gam_val['time'].min())\n",
    "\n",
    "df_gam_val['month'] = df_val.index.month\n",
    "df_gam_val['day_of_year'] = df_val.index.day_of_year\n",
    "df_gam_val['hour'] = df_val.index.hour\n",
    "df_gam_val['minute'] = df_val.index.minute\n",
    "\n",
    "df_gam_val['hour_sin'] = np.sin(2 * np.pi * df_gam_val['hour'] / 24)\n",
    "df_gam_val['hour_cos'] = np.cos(2 * np.pi * df_gam_val['hour'] / 24)"
   ]
  },
  {
   "cell_type": "code",
   "execution_count": null,
   "metadata": {},
   "outputs": [],
   "source": [
    "from sklearn.preprocessing import MinMaxScaler\n",
    "scaler = MinMaxScaler()\n",
    "\n",
    "train_size = 144\n",
    "forecast_size = 144\n",
    "\n",
    "#X_train = df_gam.iloc[:train_size].values\n",
    "#X_test = df_gam.iloc[train_size:train_size + forecast_size].values\n",
    "X_train = df_gam[-train_size:]\n",
    "X_val = df_gam_val[:forecast_size]\n",
    "\n",
    "y_train = df_train[\"Power (kW)\"].iloc[-train_size:].values\n",
    "\n",
    "y_val = df_val[\"Power (kW)\"].iloc[:forecast_size].values\n"
   ]
  },
  {
   "cell_type": "code",
   "execution_count": null,
   "metadata": {},
   "outputs": [],
   "source": [
    "print(\"Shape von X:\", X_train.shape)\n",
    "print(\"Shape von y:\", y_train.shape)"
   ]
  },
  {
   "cell_type": "code",
   "execution_count": null,
   "metadata": {},
   "outputs": [],
   "source": [
    "result = gam.gridsearch(X_train, y_train).fit(X_train, y_train)"
   ]
  },
  {
   "cell_type": "code",
   "execution_count": null,
   "metadata": {},
   "outputs": [],
   "source": [
    "result = gam.fit(X_train, y_train)"
   ]
  },
  {
   "cell_type": "code",
   "execution_count": null,
   "metadata": {},
   "outputs": [],
   "source": [
    "result"
   ]
  },
  {
   "cell_type": "code",
   "execution_count": null,
   "metadata": {},
   "outputs": [],
   "source": [
    "forecasts = result.predict(X_val)\n"
   ]
  },
  {
   "cell_type": "code",
   "execution_count": null,
   "metadata": {},
   "outputs": [],
   "source": [
    "len(forecasts)"
   ]
  },
  {
   "cell_type": "code",
   "execution_count": null,
   "metadata": {},
   "outputs": [],
   "source": [
    "actual_values = df_val[\"Power (kW)\"].iloc[:forecast_size]\n",
    "\n",
    "mae = mean_absolute_error(actual_values, forecasts)\n",
    "rmse = root_mean_squared_error(actual_values, forecasts)\n",
    "\n",
    "print(\"Vorhersagen:\", forecasts)\n",
    "print(\"Tatsächliche Werte:\", actual_values.values)\n",
    "print(\"Mean Absolute Error (MAE):\", mae)\n",
    "print(\"Root Mean Squared Error (RMSE):\", rmse)"
   ]
  },
  {
   "cell_type": "code",
   "execution_count": null,
   "metadata": {},
   "outputs": [],
   "source": [
    "plt.figure(figsize=(12, 6))\n",
    "plt.title(\"GAM Vorhersage\")\n",
    "plt.plot(df_val.index[:forecast_size], df_val[\"Power (kW)\"].iloc[:forecast_size], label=\"Tatsächliche Werte (Validierung)\")\n",
    "plt.plot(df_val.index[:forecast_size], forecasts[:forecast_size], label=\"Vorhersagen\")\n",
    "plt.ylabel(\"Power (kW)\")\n",
    "plt.xlabel(\"Datum\")\n",
    "plt.legend()\n",
    "plt.show()"
   ]
  },
  {
   "attachments": {},
   "cell_type": "markdown",
   "metadata": {},
   "source": [
    "# Prophet"
   ]
  },
  {
   "cell_type": "code",
   "execution_count": null,
   "metadata": {},
   "outputs": [],
   "source": [
    "df_prophet = df_train.reset_index()[[\"Date and time\", \"Power (kW)\"]]\n",
    "df_prophet.columns = [\"ds\", \"y\"]\n",
    "df_prophet_val = df_val.reset_index()[[\"Date and time\", \"Power (kW)\"]]\n",
    "df_prophet_val.columns = [\"ds\", \"y\"]"
   ]
  },
  {
   "cell_type": "code",
   "execution_count": null,
   "metadata": {},
   "outputs": [],
   "source": [
    "df_prophet"
   ]
  },
  {
   "cell_type": "code",
   "execution_count": null,
   "metadata": {},
   "outputs": [],
   "source": [
    "train_size = 183600\n",
    "forecast_size = 144"
   ]
  },
  {
   "cell_type": "code",
   "execution_count": null,
   "metadata": {},
   "outputs": [],
   "source": [
    "train_set = df_prophet.iloc[-train_size:]\n",
    "val_set = df_prophet_val.iloc[:forecast_size]"
   ]
  },
  {
   "cell_type": "code",
   "execution_count": null,
   "metadata": {},
   "outputs": [],
   "source": [
    "from prophet import Prophet\n",
    "from prophet.diagnostics import cross_validation, performance_metrics\n",
    "from hyperopt import fmin, tpe, hp, Trials\n",
    "\n",
    "# Definiere das Ziel für die Optimierung\n",
    "def objective(params):\n",
    "    model = Prophet(\n",
    "        changepoint_prior_scale=params['changepoint_prior_scale'],\n",
    "        seasonality_prior_scale=params['seasonality_prior_scale'],\n",
    "    )\n",
    "    model.fit(train_set)\n",
    "    df_cv = cross_validation(model, initial='365 days', period='180 days', horizon='365 days')\n",
    "    df_p = performance_metrics(df_cv)\n",
    "    return df_p['rmse'].mean()\n",
    "\n",
    "# Suchraum definieren\n",
    "space = {\n",
    "    'changepoint_prior_scale': hp.loguniform('changepoint_prior_scale', -3, 0),\n",
    "    'seasonality_prior_scale': hp.loguniform('seasonality_prior_scale', -3, 1),\n",
    "}\n",
    "\n",
    "# Optimierung durchführen\n",
    "trials = Trials()\n",
    "best = fmin(fn=objective, space=space, algo=tpe.suggest, max_evals=50, trials=trials)\n",
    "print(\"Beste Parameter:\", best)"
   ]
  },
  {
   "cell_type": "code",
   "execution_count": null,
   "metadata": {},
   "outputs": [],
   "source": [
    "from prophet import Prophet\n",
    "\n",
    "prophet = Prophet(\n",
    "    changepoint_prior_scale=0.5,\n",
    "    weekly_seasonality=True,\n",
    "    daily_seasonality=True,\n",
    "    yearly_seasonality=True\n",
    ")"
   ]
  },
  {
   "cell_type": "code",
   "execution_count": null,
   "metadata": {},
   "outputs": [],
   "source": [
    "prophet.fit(train_set)"
   ]
  },
  {
   "cell_type": "code",
   "execution_count": null,
   "metadata": {},
   "outputs": [],
   "source": [
    "future = prophet.make_future_dataframe(periods=1, freq=\"10T\")"
   ]
  },
  {
   "cell_type": "code",
   "execution_count": null,
   "metadata": {},
   "outputs": [],
   "source": [
    "future"
   ]
  },
  {
   "cell_type": "code",
   "execution_count": null,
   "metadata": {},
   "outputs": [],
   "source": [
    "forecast = prophet.predict(future)"
   ]
  },
  {
   "cell_type": "code",
   "execution_count": null,
   "metadata": {},
   "outputs": [],
   "source": [
    "forecast"
   ]
  },
  {
   "cell_type": "code",
   "execution_count": null,
   "metadata": {},
   "outputs": [],
   "source": [
    "actuals = val_set['y']\n",
    "predictions = forecast['yhat'].iloc[-len(val_set):]\n",
    "\n",
    "prophet_mse = mean_squared_error(actuals, predictions)\n",
    "prophet_mae = mean_absolute_error(actuals, predictions)\n",
    "prophet_rmse = root_mean_squared_error(actuals, predictions)\n",
    "\n",
    "print(f'Mean Squared Error: {prophet_mse}')\n",
    "print(f'Mean Absolute Error: {prophet_mae}')\n",
    "print(f'Root Mean Squared Error: {prophet_rmse}')"
   ]
  },
  {
   "cell_type": "code",
   "execution_count": null,
   "metadata": {},
   "outputs": [],
   "source": [
    "predictions"
   ]
  },
  {
   "cell_type": "code",
   "execution_count": null,
   "metadata": {},
   "outputs": [],
   "source": [
    "plt.figure(figsize=(12, 6))\n",
    "plt.title(label=\"Prophet Vorhersage\")\n",
    "plt.plot(val_set['ds'].iloc[:144], val_set['y'].iloc[:144], label=\"Validierungsdaten\")\n",
    "plt.plot(val_set['ds'].iloc[:144], predictions.iloc[:144], label=\"Vorhersage\")\n",
    "plt.ylabel(\"Power (kW)\")\n",
    "plt.xlabel(\"Time\")\n",
    "plt.legend()\n",
    "plt.show()"
   ]
  },
  {
   "cell_type": "code",
   "execution_count": null,
   "metadata": {},
   "outputs": [],
   "source": []
  }
 ],
 "metadata": {
  "kernelspec": {
   "display_name": "base",
   "language": "python",
   "name": "python3"
  },
  "language_info": {
   "codemirror_mode": {
    "name": "ipython",
    "version": 3
   },
   "file_extension": ".py",
   "mimetype": "text/x-python",
   "name": "python",
   "nbconvert_exporter": "python",
   "pygments_lexer": "ipython3",
   "version": "3.10.14 | packaged by conda-forge | (main, Mar 20 2024, 12:51:49) [Clang 16.0.6 ]"
  },
  "vscode": {
   "interpreter": {
    "hash": "e5122f662af96700b813aab71a6c4b334cdb0adc1a868df687bb6098cf2600c5"
   }
  }
 },
 "nbformat": 4,
 "nbformat_minor": 2
}
