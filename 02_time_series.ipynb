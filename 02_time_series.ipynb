{
 "cells": [
  {
   "cell_type": "code",
   "execution_count": null,
   "metadata": {},
   "outputs": [],
   "source": [
    "import pandas as pd\n",
    "import warnings\n",
    "warnings.filterwarnings(\"ignore\")\n",
    "import matplotlib.pyplot as plt\n",
    "import seaborn as sns\n",
    "import numpy as np\n",
    "from statsmodels.tsa.statespace.sarimax import SARIMAX\n",
    "from pmdarima import auto_arima\n",
    "from statsmodels.tsa.api import VAR\n",
    "from statsmodels.tsa.arima.model import ARIMA\n",
    "from statsmodels.tsa.stattools import adfuller\n",
    "from statsmodels.graphics.tsaplots import plot_acf, plot_pacf\n",
    "from sklearn.metrics import mean_squared_error, mean_absolute_error, root_mean_squared_error\n",
    "from pygam import GAM, s, LinearGAM"
   ]
  },
  {
   "cell_type": "code",
   "execution_count": null,
   "metadata": {},
   "outputs": [],
   "source": [
    "df_train = pd.read_csv(\"../Daten/train_data.csv\")"
   ]
  },
  {
   "cell_type": "code",
   "execution_count": null,
   "metadata": {},
   "outputs": [],
   "source": [
    "df_train['Date and time'] = pd.to_datetime(df_train['Date and time'], format='mixed', dayfirst=True, errors='coerce')\n",
    "df_train.set_index('Date and time', inplace=True)"
   ]
  },
  {
   "cell_type": "code",
   "execution_count": null,
   "metadata": {},
   "outputs": [],
   "source": [
    "df_val = pd.read_csv(\"../Daten/validation_data.csv\")"
   ]
  },
  {
   "cell_type": "code",
   "execution_count": null,
   "metadata": {},
   "outputs": [],
   "source": [
    "df_val['Date and time'] = pd.to_datetime(df_val['Date and time'], format='mixed', dayfirst=True, errors='coerce')\n",
    "df_val.set_index('Date and time', inplace=True)"
   ]
  },
  {
   "attachments": {},
   "cell_type": "markdown",
   "metadata": {},
   "source": [
    "# ARIMA"
   ]
  },
  {
   "cell_type": "code",
   "execution_count": null,
   "metadata": {},
   "outputs": [],
   "source": [
    "from statsmodels.graphics.tsaplots import plot_acf, plot_pacf\n",
    "\n",
    "\n",
    "# ACF-Plot\n",
    "plt.figure(figsize=(12, 5))\n",
    "acf_plot = plot_acf(df_train[\"Power (kW)\"], lags=50, title=\"Autokorrelationsfunktion (ACF)\")\n",
    "plt.xlabel(\"Verzögerungen\")\n",
    "plt.ylabel(\"Autokorrelation\")\n",
    "\n",
    "plt.ylim(-0.5, 1.1)\n",
    "plt.grid(True)\n",
    "plt.rcParams.update({'font.size': 16})\n",
    "plt.tight_layout()\n",
    "plt.show()"
   ]
  },
  {
   "cell_type": "code",
   "execution_count": null,
   "metadata": {},
   "outputs": [],
   "source": [
    "# PACF-Plot\n",
    "plt.figure(figsize=(12, 5))\n",
    "pacf_plot = plot_pacf(df_train[\"Power (kW)\"], lags=50, title=\"Partielle Autokorrelationsfunktion (PACF)\")\n",
    "plt.xlabel(\"Verzögerungen\")\n",
    "plt.ylabel(\"Partielle Autokorrelation\")\n",
    "\n",
    "# Lags und Zeitformat\n",
    "\n",
    "plt.ylim(-0.5, 1.1)\n",
    "plt.grid(True)\n",
    "plt.rcParams.update({'font.size': 16})\n",
    "plt.tight_layout()\n",
    "plt.show()"
   ]
  },
  {
   "cell_type": "code",
   "execution_count": null,
   "metadata": {},
   "outputs": [],
   "source": [
    "auto_arima_model = auto_arima(df_train[\"Power (kW)\"].iloc[-144:], seasonal=False, trace=True, suppress_warnings=True, stepwise=False, m=1)\n",
    "p, d, q = auto_arima_model.order\n",
    "\n",
    "print(auto_arima_model.summary)"
   ]
  },
  {
   "cell_type": "code",
   "execution_count": null,
   "metadata": {},
   "outputs": [],
   "source": [
    "print(auto_arima_model.summary)"
   ]
  },
  {
   "cell_type": "code",
   "execution_count": null,
   "metadata": {},
   "outputs": [],
   "source": [
    "def check_stationarity(series):\n",
    "    result = adfuller(series)\n",
    "    print(f\"p-Wert: {result[1]} (stationär, wenn < 0.05)\")\n",
    "\n",
    "check_stationarity(df_train[\"Power (kW)\"].iloc[-144:])"
   ]
  },
  {
   "cell_type": "code",
   "execution_count": null,
   "metadata": {},
   "outputs": [],
   "source": [
    "arima = ARIMA(df_train[\"Power (kW)\"].iloc[-144:], order=auto_arima_model.order)\n",
    "arima_fit = arima.fit()"
   ]
  },
  {
   "cell_type": "code",
   "execution_count": null,
   "metadata": {},
   "outputs": [],
   "source": [
    "import pickle\n",
    "\n",
    "with open('arima_model.pkl', 'wb') as file:\n",
    "    pickle.dump(arima_fit, file)"
   ]
  },
  {
   "cell_type": "code",
   "execution_count": null,
   "metadata": {},
   "outputs": [],
   "source": [
    "forecasts = arima_fit.get_forecast(steps=144)"
   ]
  },
  {
   "cell_type": "code",
   "execution_count": null,
   "metadata": {},
   "outputs": [],
   "source": [
    "actual_values = df_val[\"Power (kW)\"].iloc[:144]\n",
    "\n",
    "mae = mean_absolute_error(actual_values, forecasts.predicted_mean)\n",
    "rmse = root_mean_squared_error(actual_values, forecasts.predicted_mean)\n",
    "\n",
    "print(\"Vorhersagen:\", forecasts.predicted_mean)\n",
    "print(\"Tatsächliche Werte:\", actual_values.values)\n",
    "print(\"Mean Absolute Error (MAE):\", mae)\n",
    "print(\"Root Mean Squared Error (RMSE):\", rmse)"
   ]
  },
  {
   "cell_type": "code",
   "execution_count": null,
   "metadata": {},
   "outputs": [],
   "source": [
    "horizon = 144\n",
    "\n",
    "plt.figure(figsize=(12, 6))\n",
    "plt.title(\"ARIMA Vorhersage\")\n",
    "plt.plot(df_val.index[:horizon], df_val[\"Power (kW)\"].iloc[:horizon], label=\"Tatsächliche Werte (Validierung)\")\n",
    "plt.plot(df_val.index[:horizon], forecasts.predicted_mean[:horizon], label=\"Vorhersagen\")\n",
    "plt.ylabel(\"Power (kW)\")\n",
    "plt.xlabel(\"Datum\")\n",
    "plt.legend()\n",
    "plt.show()"
   ]
  },
  {
   "attachments": {},
   "cell_type": "markdown",
   "metadata": {},
   "source": [
    "## Ein Tages Vorhersage mit ARIMA"
   ]
  },
  {
   "cell_type": "code",
   "execution_count": null,
   "metadata": {},
   "outputs": [],
   "source": [
    "sarima_modell = SARIMAX(df_train[\"Power (kW)\"].iloc[-144:], order=(2,0,2), seasonal_order=(1,1,1,144))\n",
    "fit = sarima_modell.fit()"
   ]
  },
  {
   "cell_type": "code",
   "execution_count": null,
   "metadata": {},
   "outputs": [],
   "source": [
    "forecasts = fit.get_forecast(steps=144)"
   ]
  },
  {
   "cell_type": "code",
   "execution_count": null,
   "metadata": {},
   "outputs": [],
   "source": [
    "forecasts.predicted_mean"
   ]
  },
  {
   "cell_type": "code",
   "execution_count": null,
   "metadata": {},
   "outputs": [],
   "source": [
    "actual_values = df_val[\"Power (kW)\"].iloc[:144]\n",
    "\n",
    "mae = mean_absolute_error(actual_values, forecasts.predicted_mean)\n",
    "rmse = root_mean_squared_error(actual_values, forecasts.predicted_mean)\n",
    "\n",
    "print(\"Vorhersagen:\", forecasts.predicted_mean)\n",
    "print(\"Tatsächliche Werte:\", actual_values.values)\n",
    "print(\"Mean Absolute Error (MAE):\", mae)\n",
    "print(\"Root Mean Squared Error (RMSE):\", rmse)"
   ]
  },
  {
   "cell_type": "code",
   "execution_count": null,
   "metadata": {},
   "outputs": [],
   "source": [
    "plt.figure(figsize=(12, 6))\n",
    "plt.title(\"SARIMA Vorhersage\")\n",
    "plt.plot(df_val.index[:144], df_val[\"Power (kW)\"].iloc[:144], label=\"Tatsächliche Werte (Validierung)\")\n",
    "plt.plot(df_val.index[:144], forecasts.predicted_mean[:144], label=\"Vorhersagen\")\n",
    "plt.ylabel(\"Power (kW)\")\n",
    "plt.xlabel(\"Datum\")\n",
    "plt.legend()\n",
    "plt.show()"
   ]
  },
  {
   "attachments": {},
   "cell_type": "markdown",
   "metadata": {},
   "source": [
    "## SARIMAX Vorhersage mit exogenen Variablen"
   ]
  },
  {
   "cell_type": "code",
   "execution_count": null,
   "metadata": {},
   "outputs": [],
   "source": [
    "df_exog = df_train[[\"Wind speed (m/s)\"]]"
   ]
  },
  {
   "cell_type": "code",
   "execution_count": null,
   "metadata": {},
   "outputs": [],
   "source": []
  },
  {
   "cell_type": "code",
   "execution_count": null,
   "metadata": {},
   "outputs": [],
   "source": [
    "arima_model = SARIMAX(df_train[\"Power (kW)\"], order=auto_arima_model.order, seasonal_order=(0,0,0,0), exog=df_train[\"Wind speed (m/s)\"])\n",
    "model_fit = arima_model.fit()"
   ]
  },
  {
   "cell_type": "code",
   "execution_count": null,
   "metadata": {},
   "outputs": [],
   "source": [
    "import pickle\n",
    "\n",
    "with open('sarimax_model.pkl', 'wb') as file:\n",
    "    pickle.dump(model_fit, file)"
   ]
  },
  {
   "cell_type": "code",
   "execution_count": null,
   "metadata": {},
   "outputs": [],
   "source": [
    "residuals = pd.DataFrame(model_fit.resid)\n",
    "fig, ax = plt.subplots(1,2)\n",
    "residuals.plot(title=\"Residuals\", ax=ax[0])\n",
    "residuals.plot(kind='kde', title='Density', ax=ax[1])\n",
    "plt.show()"
   ]
  },
  {
   "cell_type": "code",
   "execution_count": null,
   "metadata": {},
   "outputs": [],
   "source": [
    "model_fit.aic"
   ]
  },
  {
   "cell_type": "code",
   "execution_count": null,
   "metadata": {},
   "outputs": [],
   "source": [
    "model_fit.plot_diagnostics(figsize=(15,12))"
   ]
  },
  {
   "cell_type": "code",
   "execution_count": null,
   "metadata": {},
   "outputs": [],
   "source": [
    "df_train.describe()"
   ]
  },
  {
   "cell_type": "code",
   "execution_count": null,
   "metadata": {},
   "outputs": [],
   "source": []
  },
  {
   "cell_type": "code",
   "execution_count": null,
   "metadata": {},
   "outputs": [],
   "source": [
    "forecast = model_fit.get_forecast(steps=144, exog=df_val[\"Wind speed (m/s)\"].iloc[:144])\n",
    "forecast_ci = forecast.conf_int()"
   ]
  },
  {
   "cell_type": "code",
   "execution_count": null,
   "metadata": {},
   "outputs": [],
   "source": [
    "forecast_ci"
   ]
  },
  {
   "cell_type": "code",
   "execution_count": null,
   "metadata": {},
   "outputs": [],
   "source": [
    "actual_values = df_val[\"Power (kW)\"].iloc[:144]"
   ]
  },
  {
   "cell_type": "code",
   "execution_count": null,
   "metadata": {},
   "outputs": [],
   "source": [
    "from sklearn.metrics import mean_absolute_error, root_mean_squared_error\n",
    "\n",
    "mae = mean_absolute_error(actual_values, forecast.predicted_mean)\n",
    "rmse = root_mean_squared_error(actual_values, forecast.predicted_mean)\n",
    "\n",
    "print(\"Vorhersagen:\", forecast.predicted_mean)\n",
    "print(\"Tatsächliche Werte:\", actual_values.values)\n",
    "print(\"Mean Absolute Error (MAE):\", mae)\n",
    "print(\"Root Mean Squared Error (RMSE):\", rmse)\n"
   ]
  },
  {
   "cell_type": "code",
   "execution_count": null,
   "metadata": {},
   "outputs": [],
   "source": [
    "df_train"
   ]
  },
  {
   "cell_type": "code",
   "execution_count": null,
   "metadata": {},
   "outputs": [],
   "source": [
    "plt.figure(figsize=(10, 6))\n",
    "plt.title(\"SARIMAX Vorhersagen (Mit Wind Daten)\")\n",
    "plt.plot(df_val.index[:144], actual_values[:144], label=\"Tatsächliche Werte (Validierung)\")\n",
    "plt.plot(df_val.index[:144], forecast.predicted_mean[:144], label=\"Vorhersagen\", linestyle=\"--\")\n",
    "plt.axvline(x=df_val.index[0], color=\"gray\", linestyle=\"--\", label=\"Trainings-/Validierungssplit\")\n",
    "plt.ylabel(\"Power (kW)\")\n",
    "plt.xlabel(\"Datum\")\n",
    "plt.legend()\n",
    "plt.show()"
   ]
  },
  {
   "cell_type": "code",
   "execution_count": null,
   "metadata": {},
   "outputs": [],
   "source": [
    "pred = model_fit.get_prediction(start=pd.to_datetime(\"2019-06-30 23:00:00\"), dynamic=False)"
   ]
  },
  {
   "cell_type": "code",
   "execution_count": null,
   "metadata": {},
   "outputs": [],
   "source": [
    "pred.predicted_mean"
   ]
  },
  {
   "cell_type": "code",
   "execution_count": null,
   "metadata": {},
   "outputs": [],
   "source": [
    "plt.figure(figsize=(10, 6))\n",
    "plt.plot(df_train.index[-6:], df_train[\"Power (kW)\"].iloc[-6:], label=\"Trainingsdaten\")\n",
    "plt.plot(df_train.index[-6:], pred.predicted_mean, label=\"Tatsächliche Werte (Validierung)\")\n",
    "plt.legend()\n",
    "plt.show()"
   ]
  },
  {
   "cell_type": "code",
   "execution_count": null,
   "metadata": {},
   "outputs": [],
   "source": [
    "from sklearn.metrics import root_mean_squared_error\n",
    "\n",
    "rmse = root_mean_squared_error(actual_values, forecast.predicted_mean)\n",
    "\n",
    "print(\"Vorhersagen:\", pred.predicted_mean)\n",
    "print(\"Tatsächliche Werte:\", df_train[\"Power (kW)\"].iloc[-6:])\n",
    "print(\"Root Mean Squared Error (RMSE):\", rmse)\n"
   ]
  },
  {
   "attachments": {},
   "cell_type": "markdown",
   "metadata": {},
   "source": [
    "# VAR"
   ]
  },
  {
   "cell_type": "code",
   "execution_count": null,
   "metadata": {},
   "outputs": [],
   "source": [
    "from statsmodels.tsa.statespace.varmax import VARMAX"
   ]
  },
  {
   "cell_type": "code",
   "execution_count": null,
   "metadata": {},
   "outputs": [],
   "source": []
  },
  {
   "cell_type": "code",
   "execution_count": null,
   "metadata": {},
   "outputs": [],
   "source": []
  },
  {
   "cell_type": "code",
   "execution_count": null,
   "metadata": {},
   "outputs": [],
   "source": [
    "train = df_train\n",
    "val = df_val.iloc[:10]"
   ]
  },
  {
   "cell_type": "code",
   "execution_count": null,
   "metadata": {},
   "outputs": [],
   "source": [
    "train['month'] = df_train.index.month\n",
    "train['weekday'] = df_train.index.day_of_week\n",
    "train['day_of_year'] = df_train.index.day_of_year\n",
    "train['year'] = df_train.index.year\n",
    "train['hour'] = df_train.index.hour\n",
    "train['minute'] = df_train.index.minute"
   ]
  },
  {
   "cell_type": "code",
   "execution_count": null,
   "metadata": {},
   "outputs": [],
   "source": [
    "train['month_sin'] = np.sin(2 * np.pi * train['month'] / 12)\n",
    "train['month_cos'] = np.cos(2 * np.pi * train['month'] / 12)\n",
    "train['day_sin'] = np.sin(2 * np.pi * train['day_of_year'] / 365)\n",
    "train['day_cos'] = np.cos(2 * np.pi * train['day_of_year'] / 365)"
   ]
  },
  {
   "cell_type": "code",
   "execution_count": null,
   "metadata": {},
   "outputs": [],
   "source": [
    "from statsmodels.tsa.stattools import adfuller\n",
    "\n",
    "def check_stationarity(series):\n",
    "    result = adfuller(series)\n",
    "    print(f\"p-Wert: {result[1]} (stationär, wenn < 0.05)\")\n",
    "\n",
    "check_stationarity(train[\"Power (kW)\"])"
   ]
  },
  {
   "cell_type": "code",
   "execution_count": null,
   "metadata": {},
   "outputs": [],
   "source": []
  },
  {
   "cell_type": "code",
   "execution_count": null,
   "metadata": {},
   "outputs": [],
   "source": [
    "train_diff = train.diff().dropna()"
   ]
  },
  {
   "cell_type": "code",
   "execution_count": null,
   "metadata": {},
   "outputs": [],
   "source": [
    "model_var = VAR(train_diff)"
   ]
  },
  {
   "cell_type": "code",
   "execution_count": null,
   "metadata": {},
   "outputs": [],
   "source": [
    "results = model_var.fit(maxlags=10, ic='aic')"
   ]
  },
  {
   "cell_type": "code",
   "execution_count": null,
   "metadata": {},
   "outputs": [],
   "source": [
    "forecast_diff = results.forecast(train_diff.values[-results.k_ar:], steps=10)"
   ]
  },
  {
   "cell_type": "code",
   "execution_count": null,
   "metadata": {},
   "outputs": [],
   "source": [
    "forecast_val = pd.DataFrame(forecast_diff, index=val.index, columns=train.columns)\n",
    "forecast_val = forecast_val.cumsum() + train.iloc[-1]"
   ]
  },
  {
   "cell_type": "code",
   "execution_count": null,
   "metadata": {},
   "outputs": [],
   "source": [
    "mae = mean_absolute_error(val[\"Power (kW)\"], forecast_val[\"Power (kW)\"])\n",
    "print(\"Mean Absolute Error (MAE):\", mae)\n",
    "print(\"Vorhersagen:\", forecast_val[\"Power (kW)\"])\n",
    "print(\"Tatsächliche Werte:\", actual_values.values)"
   ]
  },
  {
   "cell_type": "code",
   "execution_count": null,
   "metadata": {},
   "outputs": [],
   "source": [
    "plt.figure(figsize=(10, 6))\n",
    "plt.plot(train.index[-20:], train[\"Power (kW)\"].iloc[-20:], label=\"Trainingsdaten\")\n",
    "plt.plot(val.index, val[\"Power (kW)\"], label=\"Tatsächliche Werte\")\n",
    "plt.plot(val.index, forecast_val[\"Power (kW)\"], label=\"Vorhersagen\", linestyle=\"--\")\n",
    "plt.axvline(x=val.index[0], color=\"gray\", linestyle=\"--\", label=\"Trainings-/Validierungssplit\")\n",
    "plt.legend()\n",
    "plt.title(\"VAR-Vorhersagen für Windenergieproduktion\")\n",
    "plt.show()"
   ]
  },
  {
   "cell_type": "code",
   "execution_count": null,
   "metadata": {},
   "outputs": [],
   "source": [
    "from statsmodels.tsa.api import VAR\n",
    "import numpy as np\n",
    "import pandas as pd\n",
    "\n",
    "# 1. Rollierende Vorhersagen konfigurieren\n",
    "forecast_horizon = 10  # Vorhersagezeitraum (10 Schritte)\n",
    "initial_train_size = 183300  # Initiale Größe des Trainingsdatensatzes\n",
    "rolling_forecasts = []  # Speichert die Vorhersagen\n",
    "actual_values = []  # Speichert die tatsächlichen Werte\n",
    "\n",
    "# 2. Rollierende Vorhersage\n",
    "for start in range(initial_train_size, len(df_train) - forecast_horizon + 1, forecast_horizon):\n",
    "    # Trainingsdaten aktualisieren (Mehrere Zeitreihen berücksichtigen)\n",
    "    train_data = df_train.iloc[:start]\n",
    "    \n",
    "    # VAR-Modell trainieren\n",
    "    model = VAR(train_data)\n",
    "    results = model.fit(maxlags=15, ic='aic')  # Wählen Sie die optimale Verzögerung\n",
    "    \n",
    "    # Vorhersage für den nächsten Zeitraum\n",
    "    forecast = results.forecast(y=train_data.values[-results.k_ar:], steps=forecast_horizon)\n",
    "    \n",
    "    # Speichere Vorhersagen und tatsächliche Werte\n",
    "    rolling_forecasts.extend(forecast[:, 3])  # Vorhersagen für \"Power (kW)\" (erste Spalte)\n",
    "    actual_values.extend(df_train[\"Power (kW)\"].iloc[start:start + forecast_horizon].values)\n",
    "\n",
    "last_original_value = df_train[\"Power (kW)\"].iloc[initial_train_size - 1]\n",
    "\n",
    "reconstructed_forecasts = []\n",
    "current_value = last_original_value\n",
    "\n",
    "for forecast in rolling_forecasts:\n",
    "    current_value += forecast  # Addiere die Differenz zur letzten Vorhersage\n",
    "    reconstructed_forecasts.append(current_value)\n",
    "\n",
    "\n",
    "# 3. Evaluierung der rollierenden Vorhersage\n",
    "errors = [actual - predicted for actual, predicted in zip(actual_values, rolling_forecasts)]\n",
    "\n",
    "# Berechnung von MAE und RMSE\n",
    "mae = np.mean([abs(e) for e in errors])\n",
    "rmse = np.sqrt(np.mean([e**2 for e in errors]))\n",
    "\n",
    "print(f\"Mean Absolute Error (MAE): {mae}\")\n",
    "print(f\"Root Mean Squared Error (RMSE): {rmse}\")"
   ]
  },
  {
   "cell_type": "code",
   "execution_count": null,
   "metadata": {},
   "outputs": [],
   "source": [
    "rolling_forecasts"
   ]
  },
  {
   "cell_type": "code",
   "execution_count": null,
   "metadata": {},
   "outputs": [],
   "source": [
    "# Plot der Ergebnisse\n",
    "plt.figure(figsize=(12, 6))\n",
    "plt.plot(df_train.index[initial_train_size:initial_train_size + len(rolling_forecasts)], df_train[\"Power (kW)\"].iloc[initial_train_size:initial_train_size + len(rolling_forecasts)], label=\"Tatsächliche Werte\")\n",
    "plt.plot(df_train.index[initial_train_size:initial_train_size + len(rolling_forecasts)], rolling_forecasts, label=\"SARIMA-Vorhersagen\", linestyle=\"--\")\n",
    "plt.axvline(x=df_train.index[initial_train_size], color=\"red\", linestyle=\"--\", label=\"Start der Vorhersage\")\n",
    "plt.legend()\n",
    "plt.title(\"SARIMA-Vorhersagen\")\n",
    "plt.show()"
   ]
  },
  {
   "cell_type": "code",
   "execution_count": null,
   "metadata": {},
   "outputs": [],
   "source": [
    "group_size = 10\n",
    "num_groups = len(actual_values) // group_size\n",
    "\n",
    "# Ergebnisse speichern\n",
    "results = []\n",
    "\n",
    "# Berechnung der Genauigkeit für jeden Schritt innerhalb der Gruppen\n",
    "for i in range(num_groups):\n",
    "    # Slice für die aktuelle Gruppe\n",
    "    start = i * group_size\n",
    "    end = start + group_size\n",
    "    actual_group = actual_values[start:end]\n",
    "    predicted_group = rolling_forecasts[start:end]\n",
    "    \n",
    "    # Ergebnisse für jeden Schritt\n",
    "    for step in range(group_size):\n",
    "        actual_value = actual_group[step]\n",
    "        predicted_value = predicted_group[step]\n",
    "        \n",
    "        # RMSE und prozentuale Abweichung berechnen\n",
    "        rmse = np.sqrt((actual_value - predicted_value) ** 2)\n",
    "        percentage_error = abs(actual_value - predicted_value) / actual_value * 100\n",
    "        \n",
    "        # Ergebnis speichern\n",
    "        results.append({\n",
    "            \"Group\": i + 1,\n",
    "            \"Step\": step + 1,\n",
    "            \"Actual Value\": actual_value,\n",
    "            \"Predicted Value\": predicted_value,\n",
    "            \"RMSE\": rmse,\n",
    "            \"Prozentualer Fehler (%)\": percentage_error\n",
    "        })\n",
    "\n",
    "# Ergebnisse in eine Tabelle umwandeln\n",
    "accuracy_table = pd.DataFrame(results)"
   ]
  },
  {
   "cell_type": "code",
   "execution_count": null,
   "metadata": {},
   "outputs": [],
   "source": [
    "accuracy_table = accuracy_table[:220]"
   ]
  },
  {
   "cell_type": "code",
   "execution_count": null,
   "metadata": {},
   "outputs": [],
   "source": [
    "accuracy_table[accuracy_table[\"Step\"] == 1]"
   ]
  },
  {
   "cell_type": "code",
   "execution_count": null,
   "metadata": {},
   "outputs": [],
   "source": [
    "# Durchschnittlichen RMSE für jeden Schritt berechnen\n",
    "average_rmse_per_step = accuracy_table.groupby(\"Step\")[\"RMSE\"].mean().reset_index()\n",
    "\n",
    "# Tabelle anzeigen\n",
    "average_rmse_per_step.rename(columns={\"RMSE\": \"Average RMSE\"}, inplace=True)\n",
    "\n",
    "# Ausgabe der Tabelle\n",
    "print(average_rmse_per_step)"
   ]
  },
  {
   "attachments": {},
   "cell_type": "markdown",
   "metadata": {},
   "source": [
    "# GAM"
   ]
  },
  {
   "cell_type": "code",
   "execution_count": null,
   "metadata": {},
   "outputs": [],
   "source": [
    "import matplotlib.pyplot as plt\n",
    "from statsmodels.tsa.seasonal import seasonal_decompose"
   ]
  },
  {
   "cell_type": "code",
   "execution_count": null,
   "metadata": {},
   "outputs": [],
   "source": [
    "data = df_train[\"Power (kW)\"].iloc[:50000]\n",
    "decomposition = seasonal_decompose(data, model=\"additive\", period=144)\n",
    "decomposition.plot()"
   ]
  },
  {
   "cell_type": "code",
   "execution_count": null,
   "metadata": {},
   "outputs": [],
   "source": [
    "import matplotlib.pyplot as plt\n",
    "from statsmodels.tsa.seasonal import seasonal_decompose\n",
    "\n",
    "data = df_train[\"Power (kW)\"].iloc[-26200:]\n",
    "decomposition = seasonal_decompose(data, model=\"additive\", period=144)\n",
    "\n",
    "# Figurengröße anpassen und die Komponenten manuell plotten\n",
    "fig, axes = plt.subplots(4, 1, figsize=(12, 6), sharex=True)  # 4 Subplots in einer Spalte\n",
    "\n",
    "# Komponenten einzeln plotten\n",
    "axes[0].plot(decomposition.observed, label=\"Observed\")\n",
    "axes[0].set_title(\"Observed\")\n",
    "axes[0].legend()\n",
    "\n",
    "axes[1].plot(decomposition.trend, label=\"Trend\", color=\"orange\")\n",
    "axes[1].set_title(\"Trend\")\n",
    "axes[1].legend()\n",
    "\n",
    "axes[2].plot(decomposition.seasonal, label=\"Seasonal\", color=\"green\")\n",
    "axes[2].set_title(\"Seasonal\")\n",
    "axes[2].legend()\n",
    "\n",
    "axes[3].plot(decomposition.resid, label=\"Residual\", color=\"red\")\n",
    "axes[3].set_title(\"Residual\")\n",
    "axes[3].legend()\n",
    "\n",
    "# Layout anpassen und anzeigen\n",
    "plt.tight_layout()\n",
    "plt.show()"
   ]
  },
  {
   "cell_type": "code",
   "execution_count": null,
   "metadata": {},
   "outputs": [],
   "source": [
    "import numpy as np\n",
    "import pandas as pd\n",
    "import matplotlib.pyplot as plt\n",
    "from statsmodels.tsa.seasonal import seasonal_decompose\n",
    "\n",
    "# Generiere saisonale Daten\n",
    "np.random.seed(42)\n",
    "n = 1000  # Anzahl der Datenpunkte\n",
    "time = np.arange(n)\n",
    "trend = time * 0.5  # Linearer Trend\n",
    "seasonal = 10 * np.sin(2 * np.pi * time / 50)  # Saisonalität mit Periode 50\n",
    "noise = np.random.normal(scale=5, size=n)  # Zufälliges Rauschen\n",
    "data = trend + seasonal + noise\n",
    "\n",
    "# In einen DataFrame packen\n",
    "df_seasonal = pd.DataFrame({\"Time\": time, \"Value\": data})\n",
    "\n",
    "# Seasonal Decompose auf die saisonalen Daten anwenden\n",
    "decomposition_seasonal = seasonal_decompose(df_seasonal[\"Value\"], model=\"additive\", period=50)\n",
    "\n",
    "# Plot der Decomposition\n",
    "fig = decomposition_seasonal.plot()\n",
    "plt.show()"
   ]
  },
  {
   "cell_type": "code",
   "execution_count": null,
   "metadata": {},
   "outputs": [],
   "source": []
  },
  {
   "cell_type": "code",
   "execution_count": null,
   "metadata": {},
   "outputs": [],
   "source": []
  },
  {
   "attachments": {},
   "cell_type": "markdown",
   "metadata": {},
   "source": [
    "## Vorhersage mit Winddaten"
   ]
  },
  {
   "cell_type": "code",
   "execution_count": null,
   "metadata": {},
   "outputs": [],
   "source": [
    "gam = GAM(s(0))"
   ]
  },
  {
   "cell_type": "code",
   "execution_count": null,
   "metadata": {},
   "outputs": [],
   "source": [
    "train_size = 183000\n",
    "forecast_size = 144\n",
    "\n",
    "#X_train = df_gam.iloc[:train_size].values\n",
    "#X_test = df_gam.iloc[train_size:train_size + forecast_size].values\n",
    "X_train = df_train[\"Wind speed (m/s)\"].iloc[:train_size].values\n",
    "X_test = df_val[\"Wind speed (m/s)\"].iloc[:forecast_size].values\n",
    "\n",
    "y_train = df_train[\"Power (kW)\"].iloc[:train_size].values\n",
    "y_test = df_val[\"Power (kW)\"].iloc[:forecast_size].values\n"
   ]
  },
  {
   "cell_type": "code",
   "execution_count": null,
   "metadata": {},
   "outputs": [],
   "source": [
    "gam.gridsearch(X_train, y_train)"
   ]
  },
  {
   "cell_type": "code",
   "execution_count": null,
   "metadata": {},
   "outputs": [],
   "source": [
    "gam_fit = gam.fit(X_train, y_train)"
   ]
  },
  {
   "cell_type": "code",
   "execution_count": null,
   "metadata": {},
   "outputs": [],
   "source": [
    "import pickle\n",
    "\n",
    "with open('gam_model.pkl', 'wb') as file:\n",
    "    pickle.dump(gam_fit, file)"
   ]
  },
  {
   "cell_type": "code",
   "execution_count": null,
   "metadata": {},
   "outputs": [],
   "source": [
    "y_pred = gam.predict(X_test)\n",
    "\n",
    "gam_mse = mean_squared_error(y_test, y_pred)\n",
    "gam_mae = mean_absolute_error(y_test, y_pred)\n",
    "gam_rmse = root_mean_squared_error(y_test, y_pred)\n",
    "\n",
    "print(f'Mean Squared Error: {gam_mse}')\n",
    "print(f'Mean Absolute Error: {gam_mae}')\n",
    "print(f'Root Mean Squared Error: {gam_rmse}')"
   ]
  },
  {
   "cell_type": "code",
   "execution_count": null,
   "metadata": {},
   "outputs": [],
   "source": [
    "y_test"
   ]
  },
  {
   "cell_type": "code",
   "execution_count": null,
   "metadata": {},
   "outputs": [],
   "source": [
    "y_pred"
   ]
  },
  {
   "cell_type": "code",
   "execution_count": null,
   "metadata": {},
   "outputs": [],
   "source": [
    "error = []\n",
    "\n",
    "i = 0\n",
    "for y in y_pred:\n",
    "    \n",
    "    e = y_test[i] - y\n",
    "    e = np.sqrt(e**2)\n",
    "    error.append(e)\n",
    "    i += 1\n"
   ]
  },
  {
   "cell_type": "code",
   "execution_count": null,
   "metadata": {},
   "outputs": [],
   "source": [
    "print(error)"
   ]
  },
  {
   "cell_type": "code",
   "execution_count": null,
   "metadata": {},
   "outputs": [],
   "source": [
    "errors"
   ]
  },
  {
   "cell_type": "code",
   "execution_count": null,
   "metadata": {},
   "outputs": [],
   "source": [
    "plt.figure(figsize=(10, 6))\n",
    "plt.plot(df_val.index[:forecast_size], y_test, label=\"Validierung\")\n",
    "plt.plot(df_val.index[:forecast_size], y_pred, label=\"Vorhersage\")\n",
    "plt.title(\"GAM Vorhersagen (Mit Wind Daten)\")\n",
    "plt.ylabel(\"Power (kW)\")\n",
    "plt.xlabel(\"Time\")\n",
    "plt.legend()\n",
    "plt.show()"
   ]
  },
  {
   "attachments": {},
   "cell_type": "markdown",
   "metadata": {},
   "source": [
    "## Vorhersage ohne Winddaten"
   ]
  },
  {
   "cell_type": "code",
   "execution_count": null,
   "metadata": {},
   "outputs": [],
   "source": [
    "gam = LinearGAM(s(0, lam=0.8))"
   ]
  },
  {
   "cell_type": "code",
   "execution_count": null,
   "metadata": {},
   "outputs": [],
   "source": [
    "df_gam = pd.DataFrame()\n",
    "df_gam['time'] = np.arange(len(df_train))\n",
    "\n",
    "#df_gam['time_scaled'] = (df_gam['time'] - df_gam['time'].min()) / \\\n",
    "                            #(df_gam['time'].max() - df_gam['time'].min())\n",
    "\n",
    "df_gam['month'] = df_train.index.month\n",
    "df_gam['day_of_year'] = df_train.index.day_of_year\n",
    "df_gam['hour'] = df_train.index.hour\n",
    "df_gam['minute'] = df_train.index.minute\n",
    "\n",
    "df_gam['hour_sin'] = np.sin(2 * np.pi * df_gam['hour'] / 24)\n",
    "df_gam['hour_cos'] = np.cos(2 * np.pi * df_gam['hour'] / 24)"
   ]
  },
  {
   "cell_type": "code",
   "execution_count": null,
   "metadata": {},
   "outputs": [],
   "source": [
    "df_gam_val = pd.DataFrame()\n",
    "df_gam_val['time'] = np.arange(len(df_val))\n",
    "\n",
    "#df_gam_val['time_scaled'] = (df_gam_val['time'] - df_gam_val['time'].min()) / \\\n",
    "                            #(df_gam_val['time'].max() - df_gam_val['time'].min())\n",
    "\n",
    "df_gam_val['month'] = df_val.index.month\n",
    "df_gam_val['day_of_year'] = df_val.index.day_of_year\n",
    "df_gam_val['hour'] = df_val.index.hour\n",
    "df_gam_val['minute'] = df_val.index.minute\n",
    "\n",
    "df_gam_val['hour_sin'] = np.sin(2 * np.pi * df_gam_val['hour'] / 24)\n",
    "df_gam_val['hour_cos'] = np.cos(2 * np.pi * df_gam_val['hour'] / 24)"
   ]
  },
  {
   "cell_type": "code",
   "execution_count": null,
   "metadata": {},
   "outputs": [],
   "source": [
    "from sklearn.preprocessing import MinMaxScaler\n",
    "scaler = MinMaxScaler()\n",
    "\n",
    "train_size = 144\n",
    "forecast_size = 144\n",
    "\n",
    "#X_train = df_gam.iloc[:train_size].values\n",
    "#X_test = df_gam.iloc[train_size:train_size + forecast_size].values\n",
    "X_train = df_gam[-train_size:]\n",
    "X_val = df_gam_val[:forecast_size]\n",
    "\n",
    "y_train = df_train[\"Power (kW)\"].iloc[-train_size:].values\n",
    "\n",
    "y_val = df_val[\"Power (kW)\"].iloc[:forecast_size].values\n"
   ]
  },
  {
   "cell_type": "code",
   "execution_count": null,
   "metadata": {},
   "outputs": [],
   "source": [
    "print(\"Shape von X:\", X_train.shape)\n",
    "print(\"Shape von y:\", y_train.shape)"
   ]
  },
  {
   "cell_type": "code",
   "execution_count": null,
   "metadata": {},
   "outputs": [],
   "source": [
    "result = gam.gridsearch(X_train, y_train).fit(X_train, y_train)"
   ]
  },
  {
   "cell_type": "code",
   "execution_count": null,
   "metadata": {},
   "outputs": [],
   "source": [
    "result = gam.fit(X_train, y_train)"
   ]
  },
  {
   "cell_type": "code",
   "execution_count": null,
   "metadata": {},
   "outputs": [],
   "source": [
    "result"
   ]
  },
  {
   "cell_type": "code",
   "execution_count": null,
   "metadata": {},
   "outputs": [],
   "source": [
    "forecasts = result.predict(X_val)\n"
   ]
  },
  {
   "cell_type": "code",
   "execution_count": null,
   "metadata": {},
   "outputs": [],
   "source": [
    "len(forecasts)"
   ]
  },
  {
   "cell_type": "code",
   "execution_count": null,
   "metadata": {},
   "outputs": [],
   "source": [
    "actual_values = df_val[\"Power (kW)\"].iloc[:forecast_size]\n",
    "\n",
    "mae = mean_absolute_error(actual_values, forecasts)\n",
    "rmse = root_mean_squared_error(actual_values, forecasts)\n",
    "\n",
    "print(\"Vorhersagen:\", forecasts)\n",
    "print(\"Tatsächliche Werte:\", actual_values.values)\n",
    "print(\"Mean Absolute Error (MAE):\", mae)\n",
    "print(\"Root Mean Squared Error (RMSE):\", rmse)"
   ]
  },
  {
   "cell_type": "code",
   "execution_count": null,
   "metadata": {},
   "outputs": [],
   "source": [
    "plt.figure(figsize=(12, 6))\n",
    "plt.title(\"GAM Vorhersage\")\n",
    "plt.plot(df_val.index[:forecast_size], df_val[\"Power (kW)\"].iloc[:forecast_size], label=\"Tatsächliche Werte (Validierung)\")\n",
    "plt.plot(df_val.index[:forecast_size], forecasts[:forecast_size], label=\"Vorhersagen\")\n",
    "plt.ylabel(\"Power (kW)\")\n",
    "plt.xlabel(\"Datum\")\n",
    "plt.legend()\n",
    "plt.show()"
   ]
  },
  {
   "attachments": {},
   "cell_type": "markdown",
   "metadata": {},
   "source": [
    "# Prophet"
   ]
  },
  {
   "cell_type": "code",
   "execution_count": null,
   "metadata": {},
   "outputs": [],
   "source": [
    "df_prophet = df_train.reset_index()[[\"Date and time\", \"Power (kW)\"]]\n",
    "df_prophet.columns = [\"ds\", \"y\"]\n",
    "df_prophet_val = df_val.reset_index()[[\"Date and time\", \"Power (kW)\"]]\n",
    "df_prophet_val.columns = [\"ds\", \"y\"]"
   ]
  },
  {
   "cell_type": "code",
   "execution_count": null,
   "metadata": {},
   "outputs": [],
   "source": [
    "df_prophet"
   ]
  },
  {
   "cell_type": "code",
   "execution_count": null,
   "metadata": {},
   "outputs": [],
   "source": [
    "train_size = 183600\n",
    "forecast_size = 144"
   ]
  },
  {
   "cell_type": "code",
   "execution_count": null,
   "metadata": {},
   "outputs": [],
   "source": [
    "train_set = df_prophet.iloc[-train_size:]\n",
    "val_set = df_prophet_val.iloc[:forecast_size]"
   ]
  },
  {
   "cell_type": "code",
   "execution_count": null,
   "metadata": {},
   "outputs": [],
   "source": [
    "from prophet import Prophet\n",
    "from prophet.diagnostics import cross_validation, performance_metrics\n",
    "from hyperopt import fmin, tpe, hp, Trials\n",
    "\n",
    "# Definiere das Ziel für die Optimierung\n",
    "def objective(params):\n",
    "    model = Prophet(\n",
    "        changepoint_prior_scale=params['changepoint_prior_scale'],\n",
    "        seasonality_prior_scale=params['seasonality_prior_scale'],\n",
    "    )\n",
    "    model.fit(train_set)\n",
    "    df_cv = cross_validation(model, initial='365 days', period='180 days', horizon='365 days')\n",
    "    df_p = performance_metrics(df_cv)\n",
    "    return df_p['rmse'].mean()\n",
    "\n",
    "# Suchraum definieren\n",
    "space = {\n",
    "    'changepoint_prior_scale': hp.loguniform('changepoint_prior_scale', -3, 0),\n",
    "    'seasonality_prior_scale': hp.loguniform('seasonality_prior_scale', -3, 1),\n",
    "}\n",
    "\n",
    "# Optimierung durchführen\n",
    "trials = Trials()\n",
    "best = fmin(fn=objective, space=space, algo=tpe.suggest, max_evals=50, trials=trials)\n",
    "print(\"Beste Parameter:\", best)"
   ]
  },
  {
   "cell_type": "code",
   "execution_count": null,
   "metadata": {},
   "outputs": [],
   "source": [
    "from prophet import Prophet\n",
    "\n",
    "prophet = Prophet(\n",
    "    changepoint_prior_scale=0.5,\n",
    "    weekly_seasonality=True,\n",
    "    daily_seasonality=True,\n",
    "    yearly_seasonality=True\n",
    ")"
   ]
  },
  {
   "cell_type": "code",
   "execution_count": null,
   "metadata": {},
   "outputs": [],
   "source": [
    "prophet.fit(train_set)"
   ]
  },
  {
   "cell_type": "code",
   "execution_count": null,
   "metadata": {},
   "outputs": [],
   "source": [
    "future = prophet.make_future_dataframe(periods=1, freq=\"10T\")"
   ]
  },
  {
   "cell_type": "code",
   "execution_count": null,
   "metadata": {},
   "outputs": [],
   "source": [
    "future"
   ]
  },
  {
   "cell_type": "code",
   "execution_count": null,
   "metadata": {},
   "outputs": [],
   "source": [
    "forecast = prophet.predict(future)"
   ]
  },
  {
   "cell_type": "code",
   "execution_count": null,
   "metadata": {},
   "outputs": [],
   "source": [
    "forecast"
   ]
  },
  {
   "cell_type": "code",
   "execution_count": null,
   "metadata": {},
   "outputs": [],
   "source": [
    "actuals = val_set['y']\n",
    "predictions = forecast['yhat'].iloc[-len(val_set):]\n",
    "\n",
    "prophet_mse = mean_squared_error(actuals, predictions)\n",
    "prophet_mae = mean_absolute_error(actuals, predictions)\n",
    "prophet_rmse = root_mean_squared_error(actuals, predictions)\n",
    "\n",
    "print(f'Mean Squared Error: {prophet_mse}')\n",
    "print(f'Mean Absolute Error: {prophet_mae}')\n",
    "print(f'Root Mean Squared Error: {prophet_rmse}')"
   ]
  },
  {
   "cell_type": "code",
   "execution_count": null,
   "metadata": {},
   "outputs": [],
   "source": [
    "predictions"
   ]
  },
  {
   "cell_type": "code",
   "execution_count": null,
   "metadata": {},
   "outputs": [],
   "source": [
    "plt.figure(figsize=(12, 6))\n",
    "plt.title(label=\"Prophet Vorhersage\")\n",
    "plt.plot(val_set['ds'].iloc[:144], val_set['y'].iloc[:144], label=\"Validierungsdaten\")\n",
    "plt.plot(val_set['ds'].iloc[:144], predictions.iloc[:144], label=\"Vorhersage\")\n",
    "plt.ylabel(\"Power (kW)\")\n",
    "plt.xlabel(\"Time\")\n",
    "plt.legend()\n",
    "plt.show()"
   ]
  },
  {
   "cell_type": "code",
   "execution_count": null,
   "metadata": {},
   "outputs": [],
   "source": []
  }
 ],
 "metadata": {
  "kernelspec": {
   "display_name": "base",
   "language": "python",
   "name": "python3"
  },
  "language_info": {
   "codemirror_mode": {
    "name": "ipython",
    "version": 3
   },
   "file_extension": ".py",
   "mimetype": "text/x-python",
   "name": "python",
   "nbconvert_exporter": "python",
   "pygments_lexer": "ipython3",
   "version": "3.10.14"
  },
  "vscode": {
   "interpreter": {
    "hash": "e5122f662af96700b813aab71a6c4b334cdb0adc1a868df687bb6098cf2600c5"
   }
  }
 },
 "nbformat": 4,
 "nbformat_minor": 2
}
