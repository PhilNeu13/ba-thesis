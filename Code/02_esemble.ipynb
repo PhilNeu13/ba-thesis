{
 "cells": [
  {
   "cell_type": "code",
   "execution_count": null,
   "metadata": {},
   "outputs": [],
   "source": [
    "import pandas as pd\n",
    "import warnings\n",
    "warnings.filterwarnings(\"ignore\")\n",
    "import matplotlib.pyplot as plt\n",
    "import seaborn as sns\n",
    "import numpy as np\n",
    "from sklearn.ensemble import RandomForestRegressor, GradientBoostingRegressor\n",
    "import xgboost as xgb\n",
    "from sklearn.metrics import mean_squared_error, mean_absolute_error, root_mean_squared_error"
   ]
  },
  {
   "cell_type": "code",
   "execution_count": null,
   "metadata": {},
   "outputs": [],
   "source": [
    "df_train = pd.read_csv(\"../Daten/train_data.csv\")"
   ]
  },
  {
   "cell_type": "code",
   "execution_count": null,
   "metadata": {},
   "outputs": [],
   "source": [
    "df_train['Date and time'] = pd.to_datetime(df_train['Date and time'], format='mixed', dayfirst=True, errors='coerce')\n",
    "df_train.set_index('Date and time', inplace=True)"
   ]
  },
  {
   "cell_type": "code",
   "execution_count": null,
   "metadata": {},
   "outputs": [],
   "source": [
    "df_train.describe()"
   ]
  },
  {
   "cell_type": "code",
   "execution_count": null,
   "metadata": {},
   "outputs": [],
   "source": [
    "df_val = pd.read_csv(\"../Daten/validation_data.csv\")"
   ]
  },
  {
   "cell_type": "code",
   "execution_count": null,
   "metadata": {},
   "outputs": [],
   "source": [
    "df_val['Date and time'] = pd.to_datetime(df_val['Date and time'], format='mixed', dayfirst=True, errors='coerce')\n",
    "df_val.set_index('Date and time', inplace=True)"
   ]
  },
  {
   "attachments": {},
   "cell_type": "markdown",
   "metadata": {},
   "source": [
    "# Random Forest"
   ]
  },
  {
   "cell_type": "code",
   "execution_count": null,
   "metadata": {},
   "outputs": [],
   "source": [
    "X_train = df_train[\"Density adjusted wind speed (m/s)\"]\n",
    "y_train = df_train[\"Power (kW)\"]\n",
    "X_train = X_train.values.reshape(-1, 1)  # Falls nur eine Spalte vorhanden ist\n",
    "\n",
    "X_val = df_val[\"Density adjusted wind speed (m/s)\"]\n",
    "y_val = df_val[\"Power (kW)\"]\n",
    "\n",
    "X_val = X_val.values.reshape(-1, 1)  # Falls nur eine Spalte vorhanden ist"
   ]
  },
  {
   "cell_type": "code",
   "execution_count": null,
   "metadata": {},
   "outputs": [],
   "source": [
    "print(\"X_train shape:\", X_train.shape)\n",
    "print(\"y_train shape:\", y_train.shape)"
   ]
  },
  {
   "cell_type": "code",
   "execution_count": null,
   "metadata": {},
   "outputs": [],
   "source": [
    "from sklearn.ensemble import RandomForestRegressor\n",
    "from sklearn.model_selection import GridSearchCV\n",
    "from sklearn.metrics import mean_squared_error\n",
    "\n",
    "rf = RandomForestRegressor(random_state=42)\n",
    "\n",
    "param_grid = {\n",
    "    'n_estimators': [ np.linspace(100, 200, 300)], \n",
    "    'max_depth': [10, 20, None], \n",
    "    'min_samples_split':  np.linspace(2, 5, 10),\n",
    "    'min_samples_leaf':  np.linspace(1, 2, 4),\n",
    "    'max_features': ['auto', 'sqrt']\n",
    "}\n",
    "\n",
    "grid_search_rf = GridSearchCV(estimator=rf, param_grid=param_grid, cv=3, scoring='neg_mean_squared_error', verbose=2, n_jobs=-1)\n",
    "\n",
    "print(grid_search_rf)"
   ]
  },
  {
   "cell_type": "code",
   "execution_count": null,
   "metadata": {},
   "outputs": [],
   "source": [
    "rf_fit = grid_search_rf.fit(X_train, y_train)\n",
    "\n",
    "y_pred = grid_search_rf.predict(X_val)"
   ]
  },
  {
   "cell_type": "code",
   "execution_count": null,
   "metadata": {},
   "outputs": [],
   "source": [
    "import pickle\n",
    "\n",
    "with open('rf_model.pkl', 'wb') as file:\n",
    "    pickle.dump(rf_fit, file)"
   ]
  },
  {
   "cell_type": "code",
   "execution_count": null,
   "metadata": {},
   "outputs": [],
   "source": [
    "actual_values = df_val[\"Power (kW)\"].iloc[:144]\n",
    "\n",
    "mae = mean_absolute_error(actual_values, y_pred[:144])\n",
    "rmse = root_mean_squared_error(actual_values, y_pred[:144])\n",
    "\n",
    "print(\"Vorhersagen:\", y_pred)\n",
    "print(\"Tatsächliche Werte:\", actual_values.values)\n",
    "print(\"Mean Absolute Error (MAE):\", mae)\n",
    "print(\"Root Mean Squared Error (RMSE):\", rmse)"
   ]
  },
  {
   "cell_type": "code",
   "execution_count": null,
   "metadata": {},
   "outputs": [],
   "source": [
    "horizon = 144\n",
    "\n",
    "plt.figure(figsize=(10, 6))\n",
    "plt.title(\"Random Forest Vorhersage mit Winddaten\")\n",
    "plt.plot(df_val.index[:horizon], df_val[\"Power (kW)\"].iloc[:horizon], label=\"Tatsächliche Werte (Validierung)\")\n",
    "plt.plot(df_val.index[:horizon], y_pred[:horizon], label=\"Vorhersagen\")\n",
    "plt.ylabel(\"Power (kW)\")\n",
    "plt.xlabel(\"Datum\")\n",
    "plt.legend()\n",
    "plt.show()"
   ]
  },
  {
   "attachments": {},
   "cell_type": "markdown",
   "metadata": {},
   "source": [
    "# Gradient Boosting"
   ]
  },
  {
   "cell_type": "code",
   "execution_count": null,
   "metadata": {},
   "outputs": [],
   "source": [
    "X_train = df_train[\"Density adjusted wind speed (m/s)\"]\n",
    "y_train = df_train[\"Power (kW)\"]\n",
    "X_train = X_train.values.reshape(-1, 1)\n",
    "\n",
    "X_val = df_val[\"Density adjusted wind speed (m/s)\"]\n",
    "y_val = df_val[\"Power (kW)\"]\n",
    "\n",
    "X_val = X_val.values.reshape(-1, 1)"
   ]
  },
  {
   "cell_type": "code",
   "execution_count": null,
   "metadata": {},
   "outputs": [],
   "source": [
    "import numpy as np\n",
    "from sklearn.ensemble import GradientBoostingRegressor\n",
    "from sklearn.model_selection import GridSearchCV\n",
    "\n",
    "gbr = GradientBoostingRegressor(random_state=42)\n",
    "\n",
    "param_grid = {\n",
    "    'n_estimators': np.linspace(100, 200, num=5, dtype=int),\n",
    "    'learning_rate': np.logspace(-3, -1, num=5),\n",
    "    'max_depth': np.linspace(3, 5, num=3, dtype=int),\n",
    "    'min_samples_split': np.linspace(2, 5, num=4, dtype=int),\n",
    "    'min_samples_leaf': np.linspace(1, 2, num=2, dtype=int),\n",
    "}\n",
    "\n",
    "grid_search = GridSearchCV(estimator=gbr, param_grid=param_grid, \n",
    "                           scoring='neg_mean_squared_error', \n",
    "                           cv=2, verbose=2, n_jobs=-1)\n",
    "\n",
    "gb_fit = grid_search.fit(X_train, y_train)\n",
    "\n",
    "print(\"Beste Parameter:\", grid_search.best_params_)\n",
    "print(\"Beste Score (neg MSE):\", grid_search.best_score_)\n",
    "\n",
    "best_model = grid_search.best_estimator_\n",
    "val_score = best_model.score(X_val, y_val)\n",
    "print(\"Test Score (R^2):\", val_score)"
   ]
  },
  {
   "cell_type": "code",
   "execution_count": null,
   "metadata": {},
   "outputs": [],
   "source": [
    "import pickle\n",
    "\n",
    "with open('gb_model.pkl', 'wb') as file:\n",
    "    pickle.dump(gb_fit, file)"
   ]
  },
  {
   "cell_type": "code",
   "execution_count": null,
   "metadata": {},
   "outputs": [],
   "source": [
    "y_pred = grid_search.predict(X_val)"
   ]
  },
  {
   "cell_type": "code",
   "execution_count": null,
   "metadata": {},
   "outputs": [],
   "source": [
    "gb_model = GradientBoostingRegressor(n_estimators=100, random_state=42, learning_rate=0.1, max_depth=3, subsample=0.8)\n",
    "gb_model.fit(X_train, y_train)\n",
    "\n",
    "y_pred = gb_model.predict(X_val)"
   ]
  },
  {
   "cell_type": "code",
   "execution_count": null,
   "metadata": {},
   "outputs": [],
   "source": [
    "actual_values = df_val[\"Power (kW)\"].iloc[:144]\n",
    "\n",
    "mae = mean_absolute_error(actual_values, y_pred[:144])\n",
    "rmse = root_mean_squared_error(actual_values, y_pred[:144])\n",
    "\n",
    "print(\"Vorhersagen:\", y_pred)\n",
    "print(\"Tatsächliche Werte:\", actual_values.values)\n",
    "print(\"Mean Absolute Error (MAE):\", mae)\n",
    "print(\"Root Mean Squared Error (RMSE):\", rmse)"
   ]
  },
  {
   "cell_type": "code",
   "execution_count": null,
   "metadata": {},
   "outputs": [],
   "source": [
    "horizon = 144\n",
    "\n",
    "plt.figure(figsize=(10, 6))\n",
    "plt.title(\"Gradient Boosting Vorhersage mit Winddaten\")\n",
    "plt.plot(df_val.index[:horizon], df_val[\"Power (kW)\"].iloc[:horizon], label=\"Tatsächliche Werte (Validierung)\")\n",
    "plt.plot(df_val.index[:horizon], y_pred[:horizon], label=\"Vorhersagen\")\n",
    "plt.ylabel(\"Power (kW)\")\n",
    "plt.xlabel(\"Datum\")\n",
    "plt.legend()\n",
    "plt.show()"
   ]
  },
  {
   "attachments": {},
   "cell_type": "markdown",
   "metadata": {},
   "source": [
    "# XGBoost"
   ]
  },
  {
   "cell_type": "code",
   "execution_count": null,
   "metadata": {},
   "outputs": [],
   "source": [
    "import xgboost as xgb\n",
    "from xgboost import XGBRegressor"
   ]
  },
  {
   "cell_type": "code",
   "execution_count": null,
   "metadata": {},
   "outputs": [],
   "source": [
    "# XGBoost-Modell trainieren\n",
    "from xgboost import XGBRegressor\n",
    "\n",
    "model = XGBRegressor(\n",
    "    objective='reg:squarederror',\n",
    "    max_depth=3,\n",
    "    learning_rate=0.05,\n",
    "    n_estimators=100,\n",
    "    gamma=0.5,\n",
    "    min_child_weight=10,\n",
    "    subsample=0.8,\n",
    "    colsample_bytree=0.8,\n",
    "    reg_alpha=46.41588833612773,\n",
    "    reg_lambda=2.154434690031882,\n",
    "    random_state=42\n",
    ")\n",
    "model.fit(X_train, y_train, eval_set=[(X_val, y_val)], verbose=False)"
   ]
  },
  {
   "cell_type": "code",
   "execution_count": null,
   "metadata": {},
   "outputs": [],
   "source": [
    "from sklearn.model_selection import GridSearchCV\n",
    "\n",
    "# Parameter-Raster für die Suche\n",
    "param_grid = {\n",
    "    'alpha': np.logspace(- np.linspace(3, 3, 10)),\n",
    "    'lambda': np.logspace(-3, 3, 10),\n",
    "    'learning_rate': [0.05, 0.1, 0.2],\n",
    "    'max_depth':  np.linspace(3, 5, 7)\n",
    "}\n",
    "\n",
    "# Modell\n",
    "xgb = XGBRegressor(n_estimators=100)\n",
    "\n",
    "# Grid Search\n",
    "grid_search = GridSearchCV(estimator=xgb, param_grid=param_grid, scoring='neg_mean_squared_error', cv=5)\n",
    "xgb_fit = grid_search.fit(X_train, y_train)\n",
    "\n",
    "print(\"Beste Parameter:\", grid_search.best_params_)\n",
    "print(\"Bestes Ergebnis:\", -grid_search.best_score_)"
   ]
  },
  {
   "cell_type": "code",
   "execution_count": null,
   "metadata": {},
   "outputs": [],
   "source": [
    "import pickle\n",
    "\n",
    "with open('xgb_model.pkl', 'wb') as file:\n",
    "    pickle.dump(xgb_fit, file)"
   ]
  },
  {
   "cell_type": "code",
   "execution_count": null,
   "metadata": {},
   "outputs": [],
   "source": [
    "y_pred = grid_search.predict(X_val)"
   ]
  },
  {
   "cell_type": "code",
   "execution_count": null,
   "metadata": {},
   "outputs": [],
   "source": [
    "from sklearn.model_selection import RandomizedSearchCV\n",
    "import numpy as np\n",
    "\n",
    "# Parameter-Raster für die Zufallssuche\n",
    "param_dist = {\n",
    "    'alpha': np.logspace(-3, 3, 10),\n",
    "    'lambda': np.logspace(-3, 3, 10),\n",
    "    'learning_rate': [0.05, 0.1, 0.2],\n",
    "    'max_depth':  np.linspace(3, 5, 7)\n",
    "}\n",
    "\n",
    "xgb = XGBRegressor(n_estimators=100)\n",
    "\n",
    "# Randomized Search\n",
    "random_search = RandomizedSearchCV(estimator=xgb, param_distributions=param_dist, n_iter=50, scoring='neg_mean_squared_error', cv=5, random_state=42)\n",
    "random_search.fit(X_train, y_train)\n",
    "\n",
    "print(\"Beste Parameter:\", random_search.best_params_)\n",
    "print(\"Bestes Ergebnis:\", -random_search.best_score_)"
   ]
  },
  {
   "cell_type": "code",
   "execution_count": null,
   "metadata": {},
   "outputs": [],
   "source": [
    "y_pred = random_search.predict(X_val)"
   ]
  },
  {
   "cell_type": "code",
   "execution_count": null,
   "metadata": {},
   "outputs": [],
   "source": [
    "y_pred = model.predict(X_val)"
   ]
  },
  {
   "cell_type": "code",
   "execution_count": null,
   "metadata": {},
   "outputs": [],
   "source": [
    "actual_values = df_val[\"Power (kW)\"].iloc[:144]\n",
    "\n",
    "mae = mean_absolute_error(actual_values, y_pred[:144])\n",
    "rmse = root_mean_squared_error(actual_values, y_pred[:144])\n",
    "\n",
    "print(\"Vorhersagen:\", y_pred)\n",
    "print(\"Tatsächliche Werte:\", actual_values.values)\n",
    "print(\"Mean Absolute Error (MAE):\", mae)\n",
    "print(\"Root Mean Squared Error (RMSE):\", rmse)"
   ]
  },
  {
   "cell_type": "code",
   "execution_count": null,
   "metadata": {},
   "outputs": [],
   "source": [
    "horizon = 144\n",
    "\n",
    "plt.figure(figsize=(10, 6))\n",
    "plt.title(\"XGBoost Vorhersage mit Winddaten\")\n",
    "plt.plot(df_val.index[:horizon], df_val[\"Power (kW)\"].iloc[:horizon], label=\"Tatsächliche Werte (Validierung)\")\n",
    "plt.plot(df_val.index[:horizon], y_pred[:horizon], label=\"Vorhersagen\")\n",
    "plt.ylabel(\"Power (kW)\")\n",
    "plt.xlabel(\"Datum\")\n",
    "plt.legend()\n",
    "plt.show()"
   ]
  },
  {
   "attachments": {},
   "cell_type": "markdown",
   "metadata": {},
   "source": [
    "## Forecast"
   ]
  },
  {
   "cell_type": "code",
   "execution_count": null,
   "metadata": {},
   "outputs": [],
   "source": [
    "def create_features(df):\n",
    "    df = df.copy()\n",
    "    df[\"hour\"] = df.index.hour\n",
    "    df[\"dayofweek\"] = df.index.dayofweek\n",
    "    df[\"month\"] = df.index.month\n",
    "    df[\"year\"] = df.index.year\n",
    "    df[\"dayofyear\"] = df.index.dayofyear\n",
    "\n",
    "    return df"
   ]
  },
  {
   "cell_type": "code",
   "execution_count": null,
   "metadata": {},
   "outputs": [],
   "source": [
    "def add_lags(df):\n",
    "    # Sicherstellen, dass die Zielspalte existiert\n",
    "    if \"Power (kW)\" not in df.columns:\n",
    "        raise ValueError(\"Die Spalte 'Power (kW)' muss im DataFrame enthalten sein.\")\n",
    "    \n",
    "    # Lag-Features iterativ hinzufügen\n",
    "    for lag_steps in [6, 12, 18]:\n",
    "        lag_column = f\"lag_{lag_steps}\"  # Eindeutiger Name für jede Lag-Spalte\n",
    "        df[lag_column] = df[\"Power (kW)\"].shift(lag_steps)  # Werte verschieben\n",
    "    \n",
    "    return df"
   ]
  },
  {
   "cell_type": "code",
   "execution_count": null,
   "metadata": {},
   "outputs": [],
   "source": []
  },
  {
   "cell_type": "code",
   "execution_count": null,
   "metadata": {},
   "outputs": [],
   "source": [
    "train = create_features(df_train)\n",
    "val = create_features(df_val)"
   ]
  },
  {
   "cell_type": "code",
   "execution_count": null,
   "metadata": {},
   "outputs": [],
   "source": [
    "\n",
    "trainval = pd.concat([train, val])"
   ]
  },
  {
   "cell_type": "code",
   "execution_count": null,
   "metadata": {},
   "outputs": [],
   "source": [
    "train.columns"
   ]
  },
  {
   "cell_type": "code",
   "execution_count": null,
   "metadata": {},
   "outputs": [],
   "source": [
    "trainval = add_lags(trainval)"
   ]
  },
  {
   "cell_type": "code",
   "execution_count": null,
   "metadata": {},
   "outputs": [],
   "source": [
    "trainval[\"lag_6\"]"
   ]
  },
  {
   "cell_type": "code",
   "execution_count": null,
   "metadata": {},
   "outputs": [],
   "source": [
    "print(len(train))\n",
    "print(len(val))"
   ]
  },
  {
   "cell_type": "code",
   "execution_count": null,
   "metadata": {},
   "outputs": [],
   "source": [
    "train = trainval[:-52704]\n",
    "val = trainval[-52704:]"
   ]
  },
  {
   "cell_type": "code",
   "execution_count": null,
   "metadata": {},
   "outputs": [],
   "source": [
    "train.drop(columns=['Density adjusted wind speed (m/s)', 'Wind direction (°)',\n",
    "       'Nacelle position (°)'])\n",
    "val.drop(columns=['Density adjusted wind speed (m/s)', 'Wind direction (°)',\n",
    "       'Nacelle position (°)'])"
   ]
  },
  {
   "cell_type": "code",
   "execution_count": null,
   "metadata": {},
   "outputs": [],
   "source": [
    "FEATURES = ['hour', 'dayofweek', 'month',\n",
    "       'year', 'dayofyear', 'lag_6', 'lag_12', 'lag_18']\n",
    "TARGET = ['Power (kW)']"
   ]
  },
  {
   "cell_type": "code",
   "execution_count": null,
   "metadata": {},
   "outputs": [],
   "source": [
    "X_train = train[FEATURES]\n",
    "y_train = train[TARGET]\n",
    "\n",
    "X_val = val[FEATURES]\n",
    "y_val = val[TARGET]"
   ]
  },
  {
   "cell_type": "code",
   "execution_count": null,
   "metadata": {},
   "outputs": [],
   "source": [
    "import numpy as np\n",
    "from sklearn.model_selection import GridSearchCV\n",
    "from xgboost import XGBRegressor\n",
    "\n",
    "param_grid = {\n",
    "    'alpha': np.linspace( np.linspace(0, 10, 5)),\n",
    "    'lambda': np.linspace(0, 100, 5),\n",
    "    'learning_rate': np.linspace(0.03, 0.07, 5),\n",
    "    'max_depth':  np.linspace(3, 5, 7)\n",
    "}\n",
    "\n",
    "xgb = XGBRegressor(n_estimators=100)\n",
    "\n",
    "grid_search = GridSearchCV(estimator=xgb, param_grid=param_grid, scoring='neg_mean_squared_error', cv=5)\n",
    "grid_search.fit(X_train, y_train)\n",
    "\n",
    "print(\"Beste Parameter:\", grid_search.best_params_)\n",
    "print(\"Bestes Ergebnis:\", -grid_search.best_score_)"
   ]
  },
  {
   "cell_type": "code",
   "execution_count": null,
   "metadata": {},
   "outputs": [],
   "source": [
    "grid_search.fit(X_train, y_train, eval_set=[(X_train, y_train), (X_val, y_val)],\n",
    "        verbose=True)"
   ]
  },
  {
   "cell_type": "code",
   "execution_count": null,
   "metadata": {},
   "outputs": [],
   "source": [
    "reg = XGBRegressor(\n",
    "    objective='reg:squarederror',\n",
    "    max_depth=3,\n",
    "    learning_rate=0.05,\n",
    "    n_estimators=100,\n",
    "    gamma=0.5,\n",
    "    min_child_weight=10,\n",
    "    subsample=0.8,\n",
    "    colsample_bytree=0.8,\n",
    "    reg_alpha=46.41588833612773,\n",
    "    reg_lambda=2.154434690031882,\n",
    "    random_state=42\n",
    ")\n",
    "reg.fit(X_train, y_train, eval_set=[(X_train, y_train), (X_val, y_val)],\n",
    "        verbose=True)"
   ]
  },
  {
   "attachments": {},
   "cell_type": "markdown",
   "metadata": {},
   "source": [
    "## Feature Importance"
   ]
  },
  {
   "cell_type": "code",
   "execution_count": null,
   "metadata": {},
   "outputs": [],
   "source": [
    "fi = pd.DataFrame(data=reg.feature_importances_, index=reg.feature_names_in_,columns=['importance'])\n",
    "fi.sort_values('importance').plot(kind='barh', title='Feature Importance')"
   ]
  },
  {
   "attachments": {},
   "cell_type": "markdown",
   "metadata": {},
   "source": [
    "## Forecast on Validationset"
   ]
  },
  {
   "cell_type": "code",
   "execution_count": null,
   "metadata": {},
   "outputs": [],
   "source": [
    "val['prediction'] = reg.predict(X_val)\n",
    "df_val.merge(val[['prediction']], how='left', left_index=True, right_index=True)"
   ]
  },
  {
   "cell_type": "code",
   "execution_count": null,
   "metadata": {},
   "outputs": [],
   "source": [
    "from sklearn.metrics import mean_absolute_error, r2_score\n",
    "import numpy as np\n",
    "\n",
    "actual_values = df_val[\"Power (kW)\"].iloc[:144]\n",
    "predicted_values = y_pred[:144]\n",
    "\n",
    "mae = mean_absolute_error(actual_values, predicted_values)\n",
    "rmse = np.sqrt(np.mean((actual_values - predicted_values) ** 2))\n",
    "\n",
    "accuracy = 100 - (mae / actual_values.mean() * 100)\n",
    "\n",
    "mean_deviation = np.mean(predicted_values - actual_values)\n",
    "\n",
    "r2 = r2_score(actual_values, predicted_values)\n",
    "\n",
    "print(\"Vorhersagen:\", predicted_values)\n",
    "print(\"Tatsächliche Werte:\", actual_values.values)\n",
    "print(\"Mean Absolute Error (MAE):\", mae)\n",
    "print(\"Root Mean Squared Error (RMSE):\", rmse)\n",
    "print(\"Genauigkeit in Prozent:\", accuracy, \"%\")\n",
    "print(\"Mean Deviation (MD):\", mean_deviation)\n",
    "print(\"R2-Score:\", r2)"
   ]
  },
  {
   "cell_type": "code",
   "execution_count": null,
   "metadata": {},
   "outputs": [],
   "source": [
    "horizon = 144\n",
    "\n",
    "plt.figure(figsize=(10, 6))\n",
    "plt.title(\"XGBoost Vorhersage\")\n",
    "plt.plot(df_val.index[:horizon], df_val[\"Power (kW)\"].iloc[:horizon], label=\"Tatsächliche Werte (Validierung)\")\n",
    "plt.plot(df_val.index[:horizon], val['prediction'].iloc[:horizon], label=\"Vorhersagen\")\n",
    "plt.ylabel(\"Power (kW)\")\n",
    "plt.xlabel(\"Datum\")\n",
    "plt.legend()\n",
    "plt.show()"
   ]
  },
  {
   "cell_type": "code",
   "execution_count": null,
   "metadata": {},
   "outputs": [],
   "source": [
    "ax = val[\"Power (kW)\"].plot(figsize=(15,5))\n",
    "val['prediction'].plot(ax=ax, style='.')"
   ]
  },
  {
   "attachments": {},
   "cell_type": "markdown",
   "metadata": {},
   "source": [
    "## Random Forest Forecast"
   ]
  },
  {
   "cell_type": "code",
   "execution_count": null,
   "metadata": {},
   "outputs": [],
   "source": [
    "grid_search_rf.fit(X_train, y_train)"
   ]
  },
  {
   "cell_type": "code",
   "execution_count": null,
   "metadata": {},
   "outputs": [],
   "source": [
    "grid_search_rf.best_params"
   ]
  },
  {
   "cell_type": "code",
   "execution_count": null,
   "metadata": {},
   "outputs": [],
   "source": [
    "fi = pd.DataFrame(data=grid_search_rf.feature_importances_, index=grid_search_rf.feature_names_in_,columns=['importance'])\n",
    "fi.sort_values('importance').plot(kind='barh', title='Feature Importance')"
   ]
  },
  {
   "cell_type": "code",
   "execution_count": null,
   "metadata": {},
   "outputs": [],
   "source": [
    "val['prediction'] = grid_search_rf.predict(X_val)\n",
    "df_val.merge(val[['prediction']], how='left', left_index=True, right_index=True)"
   ]
  },
  {
   "cell_type": "code",
   "execution_count": null,
   "metadata": {},
   "outputs": [],
   "source": [
    "horizon = 144\n",
    "\n",
    "plt.figure(figsize=(10, 6))\n",
    "plt.title(\"Random Forest Vorhersage\")\n",
    "plt.plot(df_val.index[:horizon], df_val[\"Power (kW)\"].iloc[:horizon], label=\"Tatsächliche Werte (Validierung)\")\n",
    "plt.plot(df_val.index[:horizon], val['prediction'], label=\"Vorhersagen\")\n",
    "plt.ylabel(\"Power (kW)\")\n",
    "plt.xlabel(\"Datum\")\n",
    "plt.legend()\n",
    "plt.show()"
   ]
  },
  {
   "attachments": {},
   "cell_type": "markdown",
   "metadata": {},
   "source": [
    "# S-Kurve"
   ]
  },
  {
   "cell_type": "code",
   "execution_count": null,
   "metadata": {},
   "outputs": [],
   "source": [
    "df = pd.read_csv(\"../Daten/kelmarsh_scada_2018/kelmarsh_turbine1.csv\")"
   ]
  },
  {
   "cell_type": "code",
   "execution_count": null,
   "metadata": {},
   "outputs": [],
   "source": [
    "from scipy.optimize import curve_fit\n",
    "\n",
    "wind_speed = df[\"Wind speed (m/s)\"]\n",
    "power = df[\"Energy Theoretical (kWh)\"] * 6\n",
    "\n",
    "valid_mask = np.isfinite(wind_speed) & np.isfinite(power)\n",
    "wind_speed = wind_speed[valid_mask]\n",
    "power = power[valid_mask]\n",
    "\n",
    "P_max_fixed = 2050 \n",
    "\n",
    "def s_curve(v, k, v_0):\n",
    "    return P_max_fixed / (1 + np.exp(-k * (v - v_0)))\n",
    "\n",
    "weights = 1 / (1 + np.abs(power - 2050)) \n",
    "popt, _ = curve_fit(s_curve, wind_speed, power, p0=[0.5, 10], sigma=weights)\n",
    "\n",
    "v_model = np.linspace(0, 25, 100)\n",
    "p_model = s_curve(v_model, *popt)\n",
    "\n",
    "plt.figure()\n",
    "plt.scatter(wind_speed, power, label=\"Daten\", color=\"red\")\n",
    "plt.plot(v_model, p_model, label=\"S-Kurve\", color=\"blue\")\n",
    "plt.xlabel(\"Windgeschwindigkeit (m/s)\")\n",
    "plt.ylabel(\"Leistung (kW)\")\n",
    "plt.title(\"S-Kurve: Leistung vs. Windgeschwindigkeit\")\n",
    "plt.legend()\n",
    "plt.grid()\n",
    "plt.show()"
   ]
  },
  {
   "cell_type": "code",
   "execution_count": null,
   "metadata": {},
   "outputs": [],
   "source": [
    "with open(\"s_curve_model.pkl\", \"wb\") as file:\n",
    "    pickle.dump((s_curve, popt), file)"
   ]
  },
  {
   "cell_type": "code",
   "execution_count": null,
   "metadata": {},
   "outputs": [],
   "source": [
    "new_wind_speeds = df_val[\"Density adjusted wind speed (m/s)\"]\n",
    "\n",
    "predicted_power = s_curve(new_wind_speeds, *popt)\n",
    "\n",
    "for wind, power in zip(new_wind_speeds, predicted_power):\n",
    "    print(f\"Windgeschwindigkeit: {wind:.1f} m/s -> Vorhergesagte Leistung: {power:.2f} kW\")"
   ]
  },
  {
   "cell_type": "code",
   "execution_count": null,
   "metadata": {},
   "outputs": [],
   "source": [
    "actual_values = df_val[\"Power (kW)\"].iloc[:144]\n",
    "\n",
    "mae = mean_absolute_error(actual_values, predicted_power[:144])\n",
    "rmse = root_mean_squared_error(actual_values, predicted_power[:144])\n",
    "\n",
    "print(\"Vorhersagen:\", predicted_power)\n",
    "print(\"Tatsächliche Werte:\", actual_values.values)\n",
    "print(\"Mean Absolute Error (MAE):\", mae)\n",
    "print(\"Root Mean Squared Error (RMSE):\", rmse)"
   ]
  },
  {
   "cell_type": "code",
   "execution_count": null,
   "metadata": {},
   "outputs": [],
   "source": [
    "horizon = 144\n",
    "\n",
    "plt.figure(figsize=(10, 6))\n",
    "plt.title(\"S-Kurve Vorhersage\")\n",
    "plt.plot(df_val.index[:horizon], df_val[\"Power (kW)\"].iloc[:horizon], label=\"Tatsächliche Werte (Validierung)\")\n",
    "plt.plot(df_val.index[:horizon], predicted_power[:144], label=\"Vorhersagen\")\n",
    "plt.ylabel(\"Power (kW)\")\n",
    "plt.xlabel(\"Datum\")\n",
    "plt.legend()\n",
    "plt.show()"
   ]
  },
  {
   "cell_type": "code",
   "execution_count": null,
   "metadata": {},
   "outputs": [],
   "source": []
  }
 ],
 "metadata": {
  "kernelspec": {
   "display_name": "base",
   "language": "python",
   "name": "python3"
  },
  "language_info": {
   "codemirror_mode": {
    "name": "ipython",
    "version": 3
   },
   "file_extension": ".py",
   "mimetype": "text/x-python",
   "name": "python",
   "nbconvert_exporter": "python",
   "pygments_lexer": "ipython3",
   "version": "3.10.14 | packaged by conda-forge | (main, Mar 20 2024, 12:51:49) [Clang 16.0.6 ]"
  },
  "vscode": {
   "interpreter": {
    "hash": "e5122f662af96700b813aab71a6c4b334cdb0adc1a868df687bb6098cf2600c5"
   }
  }
 },
 "nbformat": 4,
 "nbformat_minor": 2
}
