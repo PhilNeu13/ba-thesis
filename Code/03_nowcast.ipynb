{
 "cells": [
  {
   "cell_type": "code",
   "execution_count": null,
   "metadata": {},
   "outputs": [],
   "source": [
    "import pandas as pd\n",
    "import warnings\n",
    "warnings.filterwarnings(\"ignore\")\n",
    "import matplotlib.pyplot as plt\n",
    "import seaborn as sns\n",
    "import numpy as np\n",
    "from sklearn.ensemble import RandomForestRegressor, GradientBoostingRegressor\n",
    "import xgboost as xgb\n",
    "from sklearn.metrics import mean_squared_error, mean_absolute_error, root_mean_squared_error\n",
    "import pickle"
   ]
  },
  {
   "cell_type": "code",
   "execution_count": null,
   "metadata": {},
   "outputs": [],
   "source": [
    "df_test = pd.read_csv(\"../Daten/test_data.csv\")"
   ]
  },
  {
   "cell_type": "code",
   "execution_count": null,
   "metadata": {},
   "outputs": [],
   "source": [
    "df_test['Date and time'] = pd.to_datetime(df_test['Date and time'], format='mixed', dayfirst=True, errors='coerce')\n",
    "df_test.set_index('Date and time', inplace=True)"
   ]
  },
  {
   "attachments": {},
   "cell_type": "markdown",
   "metadata": {},
   "source": [
    "## SARIMAX"
   ]
  },
  {
   "cell_type": "code",
   "execution_count": null,
   "metadata": {},
   "outputs": [],
   "source": [
    "with open('sarimax_model.pkl', 'rb') as file:\n",
    "    sarimax = pickle.load(file)"
   ]
  },
  {
   "cell_type": "code",
   "execution_count": null,
   "metadata": {},
   "outputs": [],
   "source": [
    "sarimax_forecast = sarimax.get_forecast(steps=len(df_test), exog=df_test[\"Wind speed (m/s)\"])"
   ]
  },
  {
   "cell_type": "code",
   "execution_count": null,
   "metadata": {},
   "outputs": [],
   "source": [
    "sarimax_forecast.predicted_mean = sarimax_forecast.predicted_mean.clip(upper=2050)"
   ]
  },
  {
   "cell_type": "code",
   "execution_count": null,
   "metadata": {},
   "outputs": [],
   "source": [
    "from sklearn.metrics import mean_absolute_error\n",
    "import numpy as np\n",
    "\n",
    "actual_values = df_test[\"Power (kW)\"].iloc[:-2016].values\n",
    "predicted_values_sar = sarimax_forecast.predicted_mean[:-2016].values\n",
    "\n",
    "rmse = np.sqrt(np.mean((actual_values - predicted_values_sar) ** 2))\n",
    "\n",
    "mad = np.median(np.abs(actual_values - predicted_values_sar))\n",
    "\n",
    "smape = 100 * np.mean(\n",
    "    np.abs(actual_values - predicted_values_sar) / ((np.abs(actual_values) + np.abs(predicted_values_sar)) / 2)\n",
    ")\n",
    "\n",
    "me = np.mean(actual_values - predicted_values_sar)\n",
    "\n",
    "print(\"RMSE:\", rmse)\n",
    "print(\"MAD:\", mad)\n",
    "print(\"sMAPE:\", smape, \"%\")\n",
    "print(\"ME:\", me)"
   ]
  },
  {
   "cell_type": "code",
   "execution_count": null,
   "metadata": {},
   "outputs": [],
   "source": [
    "if actual_values.mean() == 0:\n",
    "    print(\"Warnung: Der Mittelwert der tatsächlichen Werte ist 0!\")"
   ]
  },
  {
   "cell_type": "code",
   "execution_count": null,
   "metadata": {},
   "outputs": [],
   "source": [
    "horizon = 432\n",
    "start = 288\n",
    "\n",
    "plt.figure(figsize=(10, 6))\n",
    "plt.title(\"SARIMAX Nowcast\")\n",
    "plt.plot(df_test.index[start:horizon], df_test[\"Power (kW)\"].iloc[start:horizon], label=\"Tatsächliche Werte\")\n",
    "plt.plot(df_test.index[start:horizon], predicted_values_sar[start:horizon], label=\"Nowcasts\")\n",
    "plt.ylabel(\"Power (kW)\")\n",
    "plt.xlabel(\"Datum\")\n",
    "plt.legend()\n",
    "plt.show()"
   ]
  },
  {
   "attachments": {},
   "cell_type": "markdown",
   "metadata": {},
   "source": [
    "## GAM"
   ]
  },
  {
   "cell_type": "code",
   "execution_count": null,
   "metadata": {},
   "outputs": [],
   "source": [
    "with open('gam_model.pkl', 'rb') as file:\n",
    "    gam = pickle.load(file)"
   ]
  },
  {
   "cell_type": "code",
   "execution_count": null,
   "metadata": {},
   "outputs": [],
   "source": [
    "gam_forecast = gam.predict(df_test[\"Wind speed (m/s)\"])"
   ]
  },
  {
   "cell_type": "code",
   "execution_count": null,
   "metadata": {},
   "outputs": [],
   "source": [
    "from sklearn.metrics import mean_absolute_error, r2_score\n",
    "import numpy as np\n",
    "\n",
    "actual_values = df_test[\"Power (kW)\"].iloc[:-2016]\n",
    "predicted_values_gam = gam_forecast[:-2016]\n",
    "\n",
    "rmse = np.sqrt(np.mean((actual_values - predicted_values_gam) ** 2))\n",
    "\n",
    "mad = np.median(np.abs(actual_values - predicted_values_gam))\n",
    "\n",
    "smape = 100 * np.mean(\n",
    "    np.abs(actual_values - predicted_values_gam) / ((np.abs(actual_values) + np.abs(predicted_values_gam)) / 2)\n",
    ")\n",
    "me = np.mean(actual_values - predicted_values_gam)\n",
    "\n",
    "print(\"RMSE:\", rmse)\n",
    "print(\"MAD:\", mad)\n",
    "print(\"sMAPE:\", smape, \"%\")\n",
    "print(\"ME:\", me)"
   ]
  },
  {
   "cell_type": "code",
   "execution_count": null,
   "metadata": {},
   "outputs": [],
   "source": [
    "horizon = 432\n",
    "start = 288\n",
    "\n",
    "plt.figure(figsize=(10, 6))\n",
    "plt.title(\"GAM Nowcast\")\n",
    "plt.plot(df_test.index[start:horizon], df_test[\"Power (kW)\"].iloc[start:horizon], label=\"Tatsächliche Werte (Validierung)\")\n",
    "plt.plot(df_test.index[start:horizon], predicted_values_gam[start:horizon], label=\"Vorhersagen\")\n",
    "plt.ylabel(\"Power (kW)\")\n",
    "plt.xlabel(\"Datum\")\n",
    "plt.legend()\n",
    "plt.show()"
   ]
  },
  {
   "attachments": {},
   "cell_type": "markdown",
   "metadata": {},
   "source": [
    "## Random Forest"
   ]
  },
  {
   "cell_type": "code",
   "execution_count": null,
   "metadata": {},
   "outputs": [],
   "source": [
    "with open('rf_model.pkl', 'rb') as file:\n",
    "    rf = pickle.load(file)"
   ]
  },
  {
   "cell_type": "code",
   "execution_count": null,
   "metadata": {},
   "outputs": [],
   "source": [
    "rf_forecast = rf.predict(df_test[[\"Density adjusted wind speed (m/s)\"]])"
   ]
  },
  {
   "cell_type": "code",
   "execution_count": null,
   "metadata": {},
   "outputs": [],
   "source": [
    "from sklearn.metrics import mean_absolute_error, r2_score\n",
    "import numpy as np\n",
    "\n",
    "actual_values = df_test[\"Power (kW)\"].iloc[:-2016]\n",
    "predicted_values_rf = rf_forecast[:-2016]\n",
    "\n",
    "rmse = np.sqrt(np.mean((actual_values - predicted_values_rf) ** 2))\n",
    "\n",
    "mad = np.median(np.abs(actual_values - predicted_values_rf))\n",
    "\n",
    "smape = 100 * np.mean(\n",
    "    np.abs(actual_values - predicted_values_rf) / ((np.abs(actual_values) + np.abs(predicted_values_rf)) / 2)\n",
    ")\n",
    "\n",
    "me = np.mean(actual_values - predicted_values_rf)\n",
    "\n",
    "print(\"RMSE:\", rmse)\n",
    "print(\"MAD:\", mad)\n",
    "print(\"sMAPE:\", smape, \"%\")\n",
    "print(\"ME:\", me)"
   ]
  },
  {
   "cell_type": "code",
   "execution_count": null,
   "metadata": {},
   "outputs": [],
   "source": [
    "horizon = 432\n",
    "start = 288\n",
    "\n",
    "plt.figure(figsize=(10, 6))\n",
    "plt.title(\"Random Forest Nowcast\")\n",
    "plt.plot(df_test.index[start:horizon], df_test[\"Power (kW)\"].iloc[start:horizon], label=\"Tatsächliche Werte (Validierung)\")\n",
    "plt.plot(df_test.index[start:horizon], predicted_values_rf[start:horizon], label=\"Vorhersagen\")\n",
    "plt.ylabel(\"Power (kW)\")\n",
    "plt.xlabel(\"Datum\")\n",
    "plt.legend()\n",
    "plt.show()"
   ]
  },
  {
   "attachments": {},
   "cell_type": "markdown",
   "metadata": {},
   "source": [
    "## Gradient Boosting"
   ]
  },
  {
   "cell_type": "code",
   "execution_count": null,
   "metadata": {},
   "outputs": [],
   "source": [
    "with open('gb_model.pkl', 'rb') as file:\n",
    "    gb = pickle.load(file)"
   ]
  },
  {
   "cell_type": "code",
   "execution_count": null,
   "metadata": {},
   "outputs": [],
   "source": [
    "gb_forecast = gb.predict(df_test[[\"Density adjusted wind speed (m/s)\"]])"
   ]
  },
  {
   "cell_type": "code",
   "execution_count": null,
   "metadata": {},
   "outputs": [],
   "source": [
    "from sklearn.metrics import mean_absolute_error, r2_score\n",
    "import numpy as np\n",
    "\n",
    "actual_values = df_test[\"Power (kW)\"].iloc[:-2016]\n",
    "predicted_values_gb = gb_forecast[:-2016]\n",
    "\n",
    "rmse = np.sqrt(np.mean((actual_values - predicted_values_gb) ** 2))\n",
    "\n",
    "mad = np.median(np.abs(actual_values - predicted_values_gb))\n",
    "\n",
    "smape = 100 * np.mean(\n",
    "    np.abs(actual_values - predicted_values_gb) / ((np.abs(actual_values) + np.abs(predicted_values_gb)) / 2)\n",
    ")\n",
    "\n",
    "me = np.mean(actual_values - predicted_values_gb)\n",
    "\n",
    "print(\"RMSE:\", rmse)\n",
    "print(\"MAD:\", mad)\n",
    "print(\"sMAPE:\", smape, \"%\")\n",
    "print(\"ME:\", me)"
   ]
  },
  {
   "cell_type": "code",
   "execution_count": null,
   "metadata": {},
   "outputs": [],
   "source": [
    "horizon = 432\n",
    "start = 288\n",
    "\n",
    "plt.figure(figsize=(10, 6))\n",
    "plt.title(\"Gradient Boosting Nowcast\")\n",
    "plt.plot(df_test.index[start:horizon], df_test[\"Power (kW)\"].iloc[start:horizon], label=\"Tatsächliche Werte (Validierung)\")\n",
    "plt.plot(df_test.index[start:horizon], predicted_values_gb[start:horizon], label=\"Vorhersagen\")\n",
    "plt.ylabel(\"Power (kW)\")\n",
    "plt.xlabel(\"Datum\")\n",
    "plt.legend()\n",
    "plt.show()"
   ]
  },
  {
   "attachments": {},
   "cell_type": "markdown",
   "metadata": {},
   "source": [
    "## XGBoost"
   ]
  },
  {
   "cell_type": "code",
   "execution_count": null,
   "metadata": {},
   "outputs": [],
   "source": [
    "with open('xgb_model.pkl', 'rb') as file:\n",
    "    xgb = pickle.load(file)"
   ]
  },
  {
   "cell_type": "code",
   "execution_count": null,
   "metadata": {},
   "outputs": [],
   "source": [
    "xgb_forecast = xgb.predict(df_test[[\"Density adjusted wind speed (m/s)\"]])"
   ]
  },
  {
   "cell_type": "code",
   "execution_count": null,
   "metadata": {},
   "outputs": [],
   "source": [
    "from sklearn.metrics import mean_absolute_error, r2_score\n",
    "import numpy as np\n",
    "\n",
    "actual_values = df_test[\"Power (kW)\"].iloc[:-2016]\n",
    "predicted_values_xgb = xgb_forecast[:-2016]\n",
    "\n",
    "rmse = np.sqrt(np.mean((actual_values - predicted_values_xgb) ** 2))\n",
    "\n",
    "mad = np.median(np.abs(actual_values - predicted_values_xgb))\n",
    "\n",
    "smape = 100 * np.mean(\n",
    "    np.abs(actual_values - predicted_values_xgb) / ((np.abs(actual_values) + np.abs(predicted_values_xgb)) / 2)\n",
    ")\n",
    "\n",
    "me = np.mean(actual_values - predicted_values_xgb)\n",
    "\n",
    "print(\"RMSE:\", rmse)\n",
    "print(\"MAD:\", mad)\n",
    "print(\"sMAPE:\", smape, \"%\")\n",
    "print(\"ME:\", me)"
   ]
  },
  {
   "cell_type": "code",
   "execution_count": null,
   "metadata": {},
   "outputs": [],
   "source": [
    "horizon = 432\n",
    "start = 288\n",
    "\n",
    "plt.figure(figsize=(10, 6))\n",
    "plt.title(\"XGBoost Nowcast\")\n",
    "plt.plot(df_test.index[start:horizon], df_test[\"Power (kW)\"].iloc[start:horizon], label=\"Tatsächliche Werte (Validierung)\")\n",
    "plt.plot(df_test.index[start:horizon], predicted_values_xgb[start:horizon], label=\"Vorhersagen\")\n",
    "plt.ylabel(\"Power (kW)\")\n",
    "plt.xlabel(\"Datum\")\n",
    "plt.legend()\n",
    "plt.show()"
   ]
  },
  {
   "attachments": {},
   "cell_type": "markdown",
   "metadata": {},
   "source": [
    "## S-Kurve"
   ]
  },
  {
   "cell_type": "code",
   "execution_count": null,
   "metadata": {},
   "outputs": [],
   "source": [
    "\n",
    "P_max_fixed = 2050 \n",
    "\n",
    "def s_curve(v, k, v_0):\n",
    "    return P_max_fixed / (1 + np.exp(-k * (v - v_0)))\n",
    "\n",
    "with open(\"s_curve_model.pkl\", \"rb\") as file:\n",
    "    s_curve, params = pickle.load(file)"
   ]
  },
  {
   "cell_type": "code",
   "execution_count": null,
   "metadata": {},
   "outputs": [],
   "source": [
    "new_wind_speeds = df_test[\"Density adjusted wind speed (m/s)\"]\n",
    "\n",
    "predicted_power_s = s_curve(new_wind_speeds, *params)\n",
    "\n",
    "for wind, power in zip(new_wind_speeds, predicted_power_s):\n",
    "    print(f\"Windgeschwindigkeit: {wind:.1f} m/s -> Vorhergesagte Leistung: {power:.2f} kW\")"
   ]
  },
  {
   "cell_type": "code",
   "execution_count": null,
   "metadata": {},
   "outputs": [],
   "source": [
    "from sklearn.metrics import mean_absolute_error, r2_score\n",
    "import numpy as np\n",
    "\n",
    "actual_values = df_test[\"Power (kW)\"].iloc[:-2016]\n",
    "predicted_values_s = predicted_power_s[:-2016]\n",
    "\n",
    "rmse = np.sqrt(np.mean((actual_values - predicted_values_s) ** 2))\n",
    "\n",
    "mad = np.median(np.abs(actual_values - predicted_values_s))\n",
    "\n",
    "smape = 100 * np.mean(\n",
    "    np.abs(actual_values - predicted_values_s) / ((np.abs(actual_values) + np.abs(predicted_values_s)) / 2)\n",
    ")\n",
    "me = np.mean(actual_values - predicted_values_s)\n",
    "\n",
    "print(\"RMSE:\", rmse)\n",
    "print(\"MAD:\", mad)\n",
    "print(\"sMAPE:\", smape, \"%\")\n",
    "print(\"ME:\", me)"
   ]
  },
  {
   "cell_type": "code",
   "execution_count": null,
   "metadata": {},
   "outputs": [],
   "source": [
    "actual_values.min()"
   ]
  },
  {
   "cell_type": "code",
   "execution_count": null,
   "metadata": {},
   "outputs": [],
   "source": [
    "predicted_power_s.min()"
   ]
  },
  {
   "cell_type": "code",
   "execution_count": null,
   "metadata": {},
   "outputs": [],
   "source": [
    "horizon = 144\n",
    "start = 0\n",
    "\n",
    "plt.figure(figsize=(10, 6))\n",
    "plt.title(\"S-Kurve Nowcast\")\n",
    "plt.plot(df_test.index[start:horizon], df_test[\"Power (kW)\"].iloc[start:horizon], label=\"Tatsächliche Werte (Validierung)\")\n",
    "plt.plot(df_test.index[start:horizon], predicted_values_s[start:horizon], label=\"Vorhersagen\")\n",
    "plt.ylabel(\"Power (kW)\")\n",
    "plt.xlabel(\"Datum\")\n",
    "plt.legend()\n",
    "plt.show()"
   ]
  },
  {
   "cell_type": "code",
   "execution_count": null,
   "metadata": {},
   "outputs": [],
   "source": [
    "horizon = 432\n",
    "start = 288\n",
    "\n",
    "plt.figure(figsize=(12, 6))\n",
    "plt.title(\"Nowcasts aller Modelle im Vergleich\")\n",
    "plt.plot(df_test.index[start:horizon], df_test[\"Power (kW)\"].iloc[start:horizon], label=\"Tatsächliche Werte (Testdaten)\")\n",
    "plt.plot(df_test.index[start:horizon], predicted_values_s[start:horizon], label=\"S-Kurve\")\n",
    "plt.plot(df_test.index[start:horizon], predicted_values_sar[start:horizon], label=\"SARIMAX\")\n",
    "plt.plot(df_test.index[start:horizon], predicted_values_gam[start:horizon], label=\"GAM\")\n",
    "plt.plot(df_test.index[start:horizon], predicted_values_rf[start:horizon], label=\"Random Forest\")\n",
    "plt.plot(df_test.index[start:horizon], predicted_values_gb[start:horizon], label=\"Gradient Boosting\")\n",
    "plt.plot(df_test.index[start:horizon], predicted_values_xgb[start:horizon], label=\"XGBoost\")\n",
    "plt.ylabel(\"Leisung (kW)\")\n",
    "plt.xlabel(\"Datum\")\n",
    "plt.rcParams.update({'font.size': 14})\n",
    "plt.legend()\n",
    "plt.show()"
   ]
  },
  {
   "cell_type": "code",
   "execution_count": null,
   "metadata": {},
   "outputs": [],
   "source": [
    "import matplotlib.pyplot as plt\n",
    "import pandas as pd\n",
    "\n",
    "horizon = -10000\n",
    "start = 0\n",
    "\n",
    "residuals = {\n",
    "    \"S-Kurve\": actual_values[start:horizon] - predicted_values_s[start:horizon],\n",
    "    \"SARIMAX\": actual_values[start:horizon] - predicted_values_sar[start:horizon],\n",
    "    \"GAM\": actual_values[start:horizon] - predicted_values_gam[start:horizon],\n",
    "    \"Random Forest\": actual_values[start:horizon] - predicted_values_rf[start:horizon],\n",
    "    \"Gradient Boosting\": actual_values[start:horizon] - predicted_values_gb[start:horizon],\n",
    "    \"XGBoost\": actual_values[start:horizon] - predicted_values_xgb[start:horizon],\n",
    "}\n",
    "\n",
    "residuals_df = pd.DataFrame(residuals)\n",
    "\n",
    "plt.figure(figsize=(12, 6))\n",
    "plt.title(\"Abweichungen der Vorhersagen der Modelle (Boxplot)\")\n",
    "residuals_df.boxplot(notch=True)\n",
    "plt.ylabel(\"Abweichungen (kW)\")\n",
    "plt.xlabel(\"Modelle\")\n",
    "plt.xticks(rotation=45)\n",
    "plt.rcParams.update({'font.size': 15})\n",
    "plt.grid(False)\n",
    "plt.show()"
   ]
  },
  {
   "cell_type": "code",
   "execution_count": null,
   "metadata": {},
   "outputs": [],
   "source": []
  }
 ],
 "metadata": {
  "kernelspec": {
   "display_name": "base",
   "language": "python",
   "name": "python3"
  },
  "language_info": {
   "codemirror_mode": {
    "name": "ipython",
    "version": 3
   },
   "file_extension": ".py",
   "mimetype": "text/x-python",
   "name": "python",
   "nbconvert_exporter": "python",
   "pygments_lexer": "ipython3",
   "version": "3.10.14 | packaged by conda-forge | (main, Mar 20 2024, 12:51:49) [Clang 16.0.6 ]"
  },
  "vscode": {
   "interpreter": {
    "hash": "e5122f662af96700b813aab71a6c4b334cdb0adc1a868df687bb6098cf2600c5"
   }
  }
 },
 "nbformat": 4,
 "nbformat_minor": 2
}
