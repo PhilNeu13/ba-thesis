{
 "cells": [
  {
   "cell_type": "code",
   "execution_count": 1,
   "metadata": {},
   "outputs": [],
   "source": [
    "import pandas as pd\n",
    "import warnings\n",
    "warnings.filterwarnings(\"ignore\")\n",
    "import matplotlib.pyplot as plt\n",
    "import numpy as np"
   ]
  },
  {
   "attachments": {},
   "cell_type": "markdown",
   "metadata": {},
   "source": [
    "## Training data"
   ]
  },
  {
   "cell_type": "code",
   "execution_count": 2,
   "metadata": {},
   "outputs": [],
   "source": [
    "df_2016 = pd.read_csv(\"../Daten/kelmarsh_scada_2016/kelmarsh_turbine1.csv\")\n",
    "df_2017 = pd.read_csv(\"../Daten/kelmarsh_scada_2017/kelmarsh_turbine1.csv\")\n",
    "df_2018 = pd.read_csv(\"../Daten/kelmarsh_scada_2018/kelmarsh_turbine1.csv\")\n",
    "df_2019 = pd.read_csv(\"../Daten/kelmarsh_scada_2019/kelmarsh_turbine1.csv\")"
   ]
  },
  {
   "cell_type": "code",
   "execution_count": null,
   "metadata": {},
   "outputs": [],
   "source": [
    "dfs = [df_2016, df_2017, df_2018, df_2019]\n",
    "\n",
    "df_combined = pd.concat(dfs, ignore_index=True)"
   ]
  },
  {
   "cell_type": "code",
   "execution_count": null,
   "metadata": {},
   "outputs": [],
   "source": [
    "cutoff_date = \"2019-06-30 23:50:00\"\n",
    "df_train = df_combined[df_combined[\"Date and time\"] <= cutoff_date]"
   ]
  },
  {
   "cell_type": "code",
   "execution_count": null,
   "metadata": {},
   "outputs": [],
   "source": [
    "df_train[\"Wind speed, Maximum (m/s)\"]"
   ]
  },
  {
   "cell_type": "code",
   "execution_count": null,
   "metadata": {},
   "outputs": [],
   "source": [
    "df_train['Date and time'] = pd.to_datetime(df_train['Date and time'], format='mixed', dayfirst=True, errors='coerce')"
   ]
  },
  {
   "cell_type": "code",
   "execution_count": null,
   "metadata": {},
   "outputs": [],
   "source": []
  },
  {
   "cell_type": "code",
   "execution_count": null,
   "metadata": {},
   "outputs": [],
   "source": [
    "import matplotlib.pyplot as plt\n",
    "\n",
    "df_train['Month'] = df_train['Date and time'].dt.month\n",
    "\n",
    "df_train.boxplot(column='Wind speed (m/s)', by='Month', grid=False, showfliers=True, figsize=(10,6), notch=True)\n",
    "\n",
    "plt.title(\"Monatliche Verteilung der Windgeschwindigkeit\")\n",
    "plt.suptitle(\"\")\n",
    "plt.xlabel(\"Monat\")\n",
    "plt.ylabel(\"Windgeschwindigkeit (m/s)\")\n",
    "plt.xticks(rotation=0)\n",
    "plt.rcParams.update({'font.size': 14})\n",
    "plt.show()"
   ]
  },
  {
   "cell_type": "code",
   "execution_count": null,
   "metadata": {},
   "outputs": [],
   "source": [
    "import matplotlib.pyplot as plt\n",
    "\n",
    "df_train['Hour'] = df_train['Date and time'].dt.hour\n",
    "\n",
    "df_train.boxplot(column='Wind speed (m/s)', by='Hour', grid=False, showfliers=True, figsize=(10,6), notch=True)\n",
    "\n",
    "plt.title(\"Stündliche Verteilung der Windgeschwindigkeit\")\n",
    "plt.suptitle(\"\")\n",
    "plt.xlabel(\"Stunde\")\n",
    "plt.ylabel(\"Windgeschwindigkeit (m/s)\")\n",
    "plt.xticks(rotation=0)\n",
    "plt.rcParams.update({'font.size': 14})\n",
    "plt.show()"
   ]
  },
  {
   "cell_type": "code",
   "execution_count": null,
   "metadata": {},
   "outputs": [],
   "source": [
    "import numpy as np\n",
    "import matplotlib.pyplot as plt\n",
    "\n",
    "filtered_df = df_train['Wind speed (m/s)']\n",
    "\n",
    "bin_edges = np.arange(0, filtered_df.max() + 1, 1)\n",
    "\n",
    "plt.figure(figsize=(10, 6))\n",
    "plt.hist(filtered_df, bins=bin_edges, density=False, alpha=0.6, color='skyblue', edgecolor='black')\n",
    "plt.title(\"Histogram der Windgeschwindigkeiten (Kelmarsh)\")\n",
    "plt.xlabel(\"Windgeschwindidkeit (m/s)\")\n",
    "plt.ylabel(\"Frequenz\")\n",
    "plt.grid(True)\n",
    "\n",
    "plt.rcParams.update({'font.size': 19})\n",
    "plt.show()"
   ]
  },
  {
   "cell_type": "code",
   "execution_count": 1,
   "metadata": {},
   "outputs": [
    {
     "ename": "NameError",
     "evalue": "name 'plt' is not defined",
     "output_type": "error",
     "traceback": [
      "\u001b[0;31m---------------------------------------------------------------------------\u001b[0m",
      "\u001b[0;31mNameError\u001b[0m                                 Traceback (most recent call last)",
      "Cell \u001b[0;32mIn[1], line 1\u001b[0m\n\u001b[0;32m----> 1\u001b[0m plt\u001b[39m.\u001b[39mfigure(figsize\u001b[39m=\u001b[39m(\u001b[39m10\u001b[39m, \u001b[39m6\u001b[39m))\n\u001b[1;32m      2\u001b[0m plt\u001b[39m.\u001b[39mscatter(df_train[\u001b[39m\"\u001b[39m\u001b[39mDensity adjusted wind speed (m/s)\u001b[39m\u001b[39m\"\u001b[39m], df_train[\u001b[39m'\u001b[39m\u001b[39mPower (kW)\u001b[39m\u001b[39m'\u001b[39m])\n\u001b[1;32m      3\u001b[0m plt\u001b[39m.\u001b[39mxlabel(\u001b[39m'\u001b[39m\u001b[39mWind Geschwindigkeit (m/s)\u001b[39m\u001b[39m'\u001b[39m)\n",
      "\u001b[0;31mNameError\u001b[0m: name 'plt' is not defined"
     ]
    }
   ],
   "source": [
    "plt.figure(figsize=(10, 6))\n",
    "plt.scatter(df_train[\"Density adjusted wind speed (m/s)\"], df_train['Power (kW)'])\n",
    "plt.xlabel('Wind Geschwindigkeit (m/s)')\n",
    "plt.ylabel('Leistung (kW)')\n",
    "plt.title('Leistungskurve vor Bereinigung der Daten')\n",
    "plt.grid(True)\n",
    "\n",
    "plt.rcParams.update({'font.size': 18})\n",
    "plt.show()"
   ]
  },
  {
   "cell_type": "code",
   "execution_count": null,
   "metadata": {},
   "outputs": [],
   "source": [
    "plt.figure(figsize=(14, 6))\n",
    "plt.scatter(df_train['Date and time'], df_train[\"Lost Production (Time-based IEC B.3.2) (kWh)\"])\n",
    "plt.xlabel('Date')\n",
    "plt.ylabel('Lost Production (kWh)')\n",
    "plt.title('Production Loss')\n",
    "plt.grid(True)\n",
    "plt.show()"
   ]
  },
  {
   "cell_type": "code",
   "execution_count": null,
   "metadata": {},
   "outputs": [],
   "source": [
    "\n",
    "numerische_spalten = df_train.select_dtypes(include=['float64', 'int64'])\n",
    "\n",
    "korrelationen = numerische_spalten.corr()['Power (kW)']\n",
    "korrelationen = korrelationen.dropna()\n"
   ]
  },
  {
   "cell_type": "code",
   "execution_count": null,
   "metadata": {},
   "outputs": [],
   "source": [
    "korrelationen = korrelationen.sort_values()\n",
    "print(korrelationen)"
   ]
  },
  {
   "cell_type": "code",
   "execution_count": null,
   "metadata": {},
   "outputs": [],
   "source": [
    "threshold = 0\n",
    "\n",
    "condition = ((df_train[\"Lost Production Total (kWh)\"] >= threshold) | (df_train[\"Lost Production Total (kWh)\"] <= -20)) & (df_train[\"Wind speed (m/s)\"] >= 2.5)\n",
    "\n",
    "df_train = df_train[~condition]\n",
    "\n",
    "print(df_train)"
   ]
  },
  {
   "cell_type": "code",
   "execution_count": null,
   "metadata": {},
   "outputs": [],
   "source": [
    "\n",
    "condition = (df_train[\"Yaw bearing angle (°)\"] != df_train[\"Wind direction (°)\"]) & (df_train[\"Wind speed (m/s)\"] > 11) & (df_train[\"Power (kW)\"] < 1800)\n",
    "cond = df_train[condition]\n",
    "print(cond[[\"Power (kW)\", \"Wind speed (m/s)\"]])\n",
    "\n",
    "df_train = df_train[~condition]"
   ]
  },
  {
   "cell_type": "code",
   "execution_count": null,
   "metadata": {},
   "outputs": [],
   "source": [
    "plt.figure(figsize=(10, 6))\n",
    "plt.scatter(df_train[\"Density adjusted wind speed (m/s)\"], df_train['Power (kW)'])\n",
    "plt.xlabel('Wind Geschwindigkeit (m/s)')\n",
    "plt.ylabel('Leistung (kW)')\n",
    "plt.title('Leistungskurve nach Bereinigung der Daten')\n",
    "plt.grid(True)\n",
    "\n",
    "plt.rcParams.update({'font.size': 18})\n",
    "plt.show()"
   ]
  },
  {
   "cell_type": "code",
   "execution_count": null,
   "metadata": {},
   "outputs": [],
   "source": [
    "relevant_columns = [\n",
    "    \"Date and time\",\n",
    "    \"Density adjusted wind speed (m/s)\", \"Wind direction (°)\", \"Nacelle position (°)\",\n",
    "    \"Power (kW)\", \"Wind speed (m/s)\"\n",
    "]\n",
    "df_train = df_train[relevant_columns]"
   ]
  },
  {
   "cell_type": "code",
   "execution_count": null,
   "metadata": {},
   "outputs": [],
   "source": [
    "df_train.describe()"
   ]
  },
  {
   "cell_type": "code",
   "execution_count": null,
   "metadata": {},
   "outputs": [],
   "source": [
    "df_train[\"Power (kW)\"][df_train[\"Power (kW)\"] < 0] = 0"
   ]
  },
  {
   "cell_type": "code",
   "execution_count": null,
   "metadata": {},
   "outputs": [],
   "source": [
    "df_train.describe()"
   ]
  },
  {
   "cell_type": "code",
   "execution_count": null,
   "metadata": {},
   "outputs": [],
   "source": [
    "df_train.isna().sum()"
   ]
  },
  {
   "cell_type": "code",
   "execution_count": null,
   "metadata": {},
   "outputs": [],
   "source": [
    "df_numeric = df_train.select_dtypes(include=[\"float64\", \"int64\"])\n",
    "df_train[df_numeric.columns] = df_numeric.interpolate().fillna(method=\"bfill\").fillna(method=\"ffill\")"
   ]
  },
  {
   "cell_type": "code",
   "execution_count": null,
   "metadata": {},
   "outputs": [],
   "source": [
    "df_train.isna().sum()"
   ]
  },
  {
   "cell_type": "code",
   "execution_count": null,
   "metadata": {},
   "outputs": [],
   "source": [
    "import pandas as pd\n",
    "import matplotlib.pyplot as plt\n",
    "\n",
    "df_one_day = df_train.iloc[-144:]\n",
    "\n",
    "plt.figure(figsize=(12, 6))\n",
    "plt.plot(df_one_day.index, df_one_day['Power (kW)'], label='Power (kW)', marker='o')\n",
    "plt.plot(df_one_day.index, df_one_day['Wind speed (m/s)'], label='Wind speed (m/s)', marker='x')\n",
    "plt.title('Power (kW) and Wind Speed (m/s) for One Day')\n",
    "plt.xlabel('Time (Index)')\n",
    "plt.ylabel('Values')\n",
    "plt.legend()\n",
    "plt.grid()\n",
    "plt.tight_layout()\n",
    "plt.show()\n",
    "\n",
    "df_one_day[['Power (kW)', 'Wind speed (m/s)']].to_csv('beispiel.csv', index=False)\n"
   ]
  },
  {
   "cell_type": "code",
   "execution_count": null,
   "metadata": {},
   "outputs": [],
   "source": [
    "import pandas as pd\n",
    "import numpy as np\n",
    "import matplotlib.pyplot as plt\n",
    "\n",
    "start = 10000\n",
    "end = start + 144 * 60\n",
    "\n",
    "df = pd.DataFrame({'power': df_train[\"Wind speed (m/s)\"].iloc[0:end]})\n",
    "\n",
    "print(df['power'])\n",
    "df['MA_24h'] = df['power'].rolling(window=144).mean()  # 24-Stunden gleitender Durchschnitt\n",
    "df['MA_7d'] = df['power'].rolling(window=144*7).mean()  # 7 gleitender Durchschnitt\n",
    "\n",
    "plt.figure(figsize=(12, 6))\n",
    "plt.plot(df_train[\"Date and time\"].iloc[start:end], df[\"power\"].iloc[start:end], label=\"Rohdaten\", alpha=0.5)\n",
    "plt.plot(df_train[\"Date and time\"].iloc[start:end], df['MA_24h'].iloc[start:end], label=\"Gleitender Durchschnitt (24 Stunden)\", linewidth=2)\n",
    "plt.plot(df_train[\"Date and time\"].iloc[start:end], df['MA_7d'].iloc[start:end], label=\"Gleitender Durchschnitt (7 Tage)\", linewidth=2)\n",
    "plt.title(\"Windgeschwindigkeit mit gleitendem Durchschnitt\")\n",
    "plt.xlabel(\"Datum\")\n",
    "plt.ylabel(\"Windgeschwindigkeit (m/s)\")\n",
    "plt.legend()\n",
    "import matplotlib.dates as mdates\n",
    "\n",
    "plt.gca().xaxis.set_major_locator(mdates.HourLocator(interval=288))\n",
    "plt.gca().xaxis.set_major_formatter(mdates.DateFormatter('%Y-%m-%d'))\n",
    "plt.rcParams.update({'font.size': 16})\n",
    "plt.grid()\n",
    "plt.show()"
   ]
  },
  {
   "cell_type": "code",
   "execution_count": null,
   "metadata": {},
   "outputs": [],
   "source": []
  },
  {
   "cell_type": "code",
   "execution_count": null,
   "metadata": {},
   "outputs": [],
   "source": [
    "fft_result = np.fft.fft(df['power'])\n",
    "frequencies = np.fft.fftfreq(len(df['power']), d=(144))\n",
    "\n",
    "amplitude = np.abs(fft_result)\n",
    "\n",
    "# Plot des Spektrums\n",
    "plt.figure(figsize=(10, 5))\n",
    "plt.plot(frequencies[:len(frequencies)//2], amplitude[:len(frequencies)//2])\n",
    "plt.title('Fourier-Analyse - Frequenzspektrum')\n",
    "plt.xlabel('Frequenz (Hz)')\n",
    "plt.ylabel('Amplitude')\n",
    "plt.grid(True)\n",
    "plt.show()"
   ]
  },
  {
   "cell_type": "code",
   "execution_count": null,
   "metadata": {},
   "outputs": [],
   "source": [
    "output_file = \"../Daten/train_data.csv\"\n",
    "df_train.to_csv(output_file, index=False)\n",
    "\n",
    "print(f\"Gefilterte Daten wurden als '{output_file}' gespeichert.\")"
   ]
  },
  {
   "cell_type": "code",
   "execution_count": null,
   "metadata": {},
   "outputs": [],
   "source": [
    "COLUMNS = [\n",
    "    \"Density adjusted wind speed (m/s)\", \"Wind direction (°)\", \"Nacelle position (°)\",\n",
    "    \"Power (kW)\", \"Wind speed (m/s)\"\n",
    "]"
   ]
  },
  {
   "attachments": {},
   "cell_type": "markdown",
   "metadata": {},
   "source": [
    "## Validation data"
   ]
  },
  {
   "cell_type": "code",
   "execution_count": null,
   "metadata": {},
   "outputs": [],
   "source": [
    "df_2020 = pd.read_csv(\"../Daten/kelmarsh_scada_2020/kelmarsh_turbine1.csv\")"
   ]
  },
  {
   "cell_type": "code",
   "execution_count": null,
   "metadata": {},
   "outputs": [],
   "source": [
    "dfs = [df_2019, df_2020]\n",
    "\n",
    "df_combined_val = pd.concat(dfs, ignore_index=True)"
   ]
  },
  {
   "cell_type": "code",
   "execution_count": null,
   "metadata": {},
   "outputs": [],
   "source": [
    "relevant_columns = [\n",
    "    \"Date and time\",\n",
    "    \"Density adjusted wind speed (m/s)\", \"Wind direction (°)\", \"Nacelle position (°)\",\n",
    "    \"Power (kW)\", \"Wind speed (m/s)\"\n",
    "]\n",
    "df_combined_val = df_combined_val[relevant_columns]"
   ]
  },
  {
   "cell_type": "code",
   "execution_count": null,
   "metadata": {},
   "outputs": [],
   "source": [
    "cutoff_date = \"2020-06-30 23:50:00\"\n",
    "start_date = \"2019-07-01 00:00:00\"\n",
    "df_val = df_combined_val[df_combined_val[\"Date and time\"] >= start_date]\n",
    "\n",
    "df_val = df_val[df_val[\"Date and time\"] <= cutoff_date]"
   ]
  },
  {
   "cell_type": "code",
   "execution_count": null,
   "metadata": {},
   "outputs": [],
   "source": [
    "df_val.last"
   ]
  },
  {
   "cell_type": "code",
   "execution_count": null,
   "metadata": {},
   "outputs": [],
   "source": [
    "df_val[\"Power (kW)\"][df_val[\"Power (kW)\"] < 0] = 0"
   ]
  },
  {
   "cell_type": "code",
   "execution_count": null,
   "metadata": {},
   "outputs": [],
   "source": [
    "df_numeric = df_val.select_dtypes(include=[\"float64\", \"int64\"])\n",
    "df_val[df_numeric.columns] = df_numeric.interpolate().fillna(method=\"bfill\").fillna(method=\"ffill\")"
   ]
  },
  {
   "cell_type": "code",
   "execution_count": null,
   "metadata": {},
   "outputs": [],
   "source": [
    "output_file = \"../Daten/validation_data.csv\"\n",
    "df_val.to_csv(output_file, index=False)\n",
    "\n",
    "print(f\"Gefilterte Daten wurden als '{output_file}' gespeichert.\")"
   ]
  },
  {
   "attachments": {},
   "cell_type": "markdown",
   "metadata": {},
   "source": [
    "## Test data"
   ]
  },
  {
   "cell_type": "code",
   "execution_count": null,
   "metadata": {},
   "outputs": [],
   "source": [
    "df_2021 = pd.read_csv(\"../Daten/kelmarsh_scada_2021/kelmarsh_turbine1.csv\")"
   ]
  },
  {
   "cell_type": "code",
   "execution_count": null,
   "metadata": {},
   "outputs": [],
   "source": [
    "dfs = [df_2020, df_2021]\n",
    "\n",
    "df_combined_val = pd.concat(dfs, ignore_index=True)"
   ]
  },
  {
   "cell_type": "code",
   "execution_count": null,
   "metadata": {},
   "outputs": [],
   "source": [
    "relevant_columns = [\n",
    "    \"Date and time\",\n",
    "    \"Wind speed (m/s)\", \"Wind direction (°)\", \"Nacelle position (°)\",\n",
    "    \"Power (kW)\", \"Density adjusted wind speed (m/s)\"\n",
    "]\n",
    "df_combined_val = df_combined_val[relevant_columns]"
   ]
  },
  {
   "cell_type": "code",
   "execution_count": null,
   "metadata": {},
   "outputs": [],
   "source": [
    "start_date = \"2020-07-01 00:00:00\"\n",
    "df_test = df_combined_val[df_combined_val[\"Date and time\"] >= start_date]"
   ]
  },
  {
   "cell_type": "code",
   "execution_count": null,
   "metadata": {},
   "outputs": [],
   "source": [
    "df_test.last"
   ]
  },
  {
   "cell_type": "code",
   "execution_count": null,
   "metadata": {},
   "outputs": [],
   "source": [
    "df_test[\"Power (kW)\"][df_test[\"Power (kW)\"] < 0] = 0"
   ]
  },
  {
   "cell_type": "code",
   "execution_count": null,
   "metadata": {},
   "outputs": [],
   "source": [
    "duplicates = df_test.columns[df_test.columns.duplicated()]\n",
    "print(\"Doppelte Spaltennamen:\", duplicates)"
   ]
  },
  {
   "cell_type": "code",
   "execution_count": null,
   "metadata": {},
   "outputs": [],
   "source": [
    "df_test = df_test.loc[:, ~df_test.columns.duplicated()]"
   ]
  },
  {
   "cell_type": "code",
   "execution_count": null,
   "metadata": {},
   "outputs": [],
   "source": [
    "df_numeric = df_test.select_dtypes(include=[\"float64\", \"int64\"])\n",
    "df_test.loc[:, df_numeric.columns] = df_numeric.interpolate().fillna(method=\"bfill\").fillna(method=\"ffill\")"
   ]
  },
  {
   "cell_type": "code",
   "execution_count": null,
   "metadata": {},
   "outputs": [],
   "source": [
    "output_file = \"../Daten/test_data.csv\"\n",
    "df_test.to_csv(output_file, index=False)\n",
    "\n",
    "print(f\"Gefilterte Daten wurden als '{output_file}' gespeichert.\")"
   ]
  }
 ],
 "metadata": {
  "kernelspec": {
   "display_name": "base",
   "language": "python",
   "name": "python3"
  },
  "language_info": {
   "codemirror_mode": {
    "name": "ipython",
    "version": 3
   },
   "file_extension": ".py",
   "mimetype": "text/x-python",
   "name": "python",
   "nbconvert_exporter": "python",
   "pygments_lexer": "ipython3",
   "version": "3.10.14"
  },
  "vscode": {
   "interpreter": {
    "hash": "e5122f662af96700b813aab71a6c4b334cdb0adc1a868df687bb6098cf2600c5"
   }
  }
 },
 "nbformat": 4,
 "nbformat_minor": 2
}
